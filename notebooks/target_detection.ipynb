{
 "cells": [
  {
   "cell_type": "markdown",
   "metadata": {},
   "source": [
    "# Multi Target Detection In Heavy Tailed Clutter"
   ]
  },
  {
   "cell_type": "markdown",
   "metadata": {},
   "source": [
    "## Imports"
   ]
  },
  {
   "cell_type": "code",
   "execution_count": 10,
   "metadata": {},
   "outputs": [],
   "source": [
    "import os\n",
    "import torch\n",
    "import wandb\n",
    "import numpy as np\n",
    "from tqdm import tqdm\n",
    "import torch.nn as nn\n",
    "import torch.optim as optim\n",
    "import torch.nn.functional as F\n",
    "import matplotlib.pyplot as plt\n",
    "from torch.utils.data import Dataset, DataLoader, ConcatDataset"
   ]
  },
  {
   "cell_type": "markdown",
   "metadata": {},
   "source": [
    "### Wandb"
   ]
  },
  {
   "cell_type": "code",
   "execution_count": 11,
   "metadata": {},
   "outputs": [
    {
     "name": "stderr",
     "output_type": "stream",
     "text": [
      "\u001b[34m\u001b[1mwandb\u001b[0m: \u001b[33mWARNING\u001b[0m Calling wandb.login() after wandb.init() has no effect.\n"
     ]
    },
    {
     "data": {
      "text/html": [
       "Finishing last run (ID:x5udsccm) before initializing another..."
      ],
      "text/plain": [
       "<IPython.core.display.HTML object>"
      ]
     },
     "metadata": {},
     "output_type": "display_data"
    },
    {
     "data": {
      "application/vnd.jupyter.widget-view+json": {
       "model_id": "426dbf6f87b241289af64944ef859be2",
       "version_major": 2,
       "version_minor": 0
      },
      "text/plain": [
       "VBox(children=(Label(value='0.004 MB of 0.004 MB uploaded\\r'), FloatProgress(value=1.0, max=1.0)))"
      ]
     },
     "metadata": {},
     "output_type": "display_data"
    },
    {
     "data": {
      "text/html": [
       "<style>\n",
       "    table.wandb td:nth-child(1) { padding: 0 10px; text-align: left ; width: auto;} td:nth-child(2) {text-align: left ; width: 100%}\n",
       "    .wandb-row { display: flex; flex-direction: row; flex-wrap: wrap; justify-content: flex-start; width: 100% }\n",
       "    .wandb-col { display: flex; flex-direction: column; flex-basis: 100%; flex: 1; padding: 10px; }\n",
       "    </style>\n",
       "<div class=\"wandb-row\"><div class=\"wandb-col\"><h3>Run history:</h3><br/><table class=\"wandb\"><tr><td>IQ_unet/train_loss</td><td>█▃▂▁▁▁▁▁▁▁▁</td></tr><tr><td>IQ_unet/val_dice</td><td>▁▁▁▁▁▁▁▁▁▁▁</td></tr><tr><td>IQ_unet/val_f1</td><td>▁▁▁▁▁▁▁▁▁▁▁</td></tr><tr><td>IQ_unet/val_loss</td><td>█▃▂▂▂▂▂▁▁▁▁</td></tr><tr><td>IQ_unet/val_precision</td><td>▁▁▁▁▁▁▁▁▁▁▁</td></tr><tr><td>IQ_unet/val_recall</td><td>▁▁▁▁▁▁▁▁▁▁▁</td></tr><tr><td>epoch</td><td>▁▂▂▃▄▅▅▆▇▇█</td></tr></table><br/></div><div class=\"wandb-col\"><h3>Run summary:</h3><br/><table class=\"wandb\"><tr><td>IQ_unet/train_loss</td><td>0.06355</td></tr><tr><td>IQ_unet/val_dice</td><td>0.0</td></tr><tr><td>IQ_unet/val_f1</td><td>0.0</td></tr><tr><td>IQ_unet/val_loss</td><td>0.06312</td></tr><tr><td>IQ_unet/val_precision</td><td>0.0</td></tr><tr><td>IQ_unet/val_recall</td><td>0.0</td></tr><tr><td>epoch</td><td>11</td></tr></table><br/></div></div>"
      ],
      "text/plain": [
       "<IPython.core.display.HTML object>"
      ]
     },
     "metadata": {},
     "output_type": "display_data"
    },
    {
     "data": {
      "text/html": [
       " View run <strong style=\"color:#cdcd00\">devout-darkness-7</strong> at: <a href='https://wandb.ai/ari-granevich/Target_detection-Unet_DAFC_DACK_Diffusion/runs/x5udsccm' target=\"_blank\">https://wandb.ai/ari-granevich/Target_detection-Unet_DAFC_DACK_Diffusion/runs/x5udsccm</a><br/> View project at: <a href='https://wandb.ai/ari-granevich/Target_detection-Unet_DAFC_DACK_Diffusion' target=\"_blank\">https://wandb.ai/ari-granevich/Target_detection-Unet_DAFC_DACK_Diffusion</a><br/>Synced 5 W&B file(s), 0 media file(s), 0 artifact file(s) and 0 other file(s)"
      ],
      "text/plain": [
       "<IPython.core.display.HTML object>"
      ]
     },
     "metadata": {},
     "output_type": "display_data"
    },
    {
     "data": {
      "text/html": [
       "Find logs at: <code>./wandb/run-20250210_210202-x5udsccm/logs</code>"
      ],
      "text/plain": [
       "<IPython.core.display.HTML object>"
      ]
     },
     "metadata": {},
     "output_type": "display_data"
    },
    {
     "data": {
      "text/html": [
       "Successfully finished last run (ID:x5udsccm). Initializing new run:<br/>"
      ],
      "text/plain": [
       "<IPython.core.display.HTML object>"
      ]
     },
     "metadata": {},
     "output_type": "display_data"
    },
    {
     "data": {
      "application/vnd.jupyter.widget-view+json": {
       "model_id": "b5da77f4a4ad47919ee582bb3f09a733",
       "version_major": 2,
       "version_minor": 0
      },
      "text/plain": [
       "VBox(children=(Label(value='Waiting for wandb.init()...\\r'), FloatProgress(value=0.011112856999453571, max=1.0…"
      ]
     },
     "metadata": {},
     "output_type": "display_data"
    },
    {
     "data": {
      "text/html": [
       "wandb version 0.19.6 is available!  To upgrade, please run:\n",
       " $ pip install wandb --upgrade"
      ],
      "text/plain": [
       "<IPython.core.display.HTML object>"
      ]
     },
     "metadata": {},
     "output_type": "display_data"
    },
    {
     "data": {
      "text/html": [
       "Tracking run with wandb version 0.17.1"
      ],
      "text/plain": [
       "<IPython.core.display.HTML object>"
      ]
     },
     "metadata": {},
     "output_type": "display_data"
    },
    {
     "data": {
      "text/html": [
       "Run data is saved locally in <code>/home/hawk/Desktop/Heavy Detector/Heavy-Clutter-Detection/notebooks/wandb/run-20250210_210535-wl5rffv8</code>"
      ],
      "text/plain": [
       "<IPython.core.display.HTML object>"
      ]
     },
     "metadata": {},
     "output_type": "display_data"
    },
    {
     "data": {
      "text/html": [
       "Syncing run <strong><a href='https://wandb.ai/ari-granevich/Target_detection-Unet_DAFC_DACK_Diffusion/runs/wl5rffv8' target=\"_blank\">efficient-tree-8</a></strong> to <a href='https://wandb.ai/ari-granevich/Target_detection-Unet_DAFC_DACK_Diffusion' target=\"_blank\">Weights & Biases</a> (<a href='https://wandb.me/run' target=\"_blank\">docs</a>)<br/>"
      ],
      "text/plain": [
       "<IPython.core.display.HTML object>"
      ]
     },
     "metadata": {},
     "output_type": "display_data"
    },
    {
     "data": {
      "text/html": [
       " View project at <a href='https://wandb.ai/ari-granevich/Target_detection-Unet_DAFC_DACK_Diffusion' target=\"_blank\">https://wandb.ai/ari-granevich/Target_detection-Unet_DAFC_DACK_Diffusion</a>"
      ],
      "text/plain": [
       "<IPython.core.display.HTML object>"
      ]
     },
     "metadata": {},
     "output_type": "display_data"
    },
    {
     "data": {
      "text/html": [
       " View run at <a href='https://wandb.ai/ari-granevich/Target_detection-Unet_DAFC_DACK_Diffusion/runs/wl5rffv8' target=\"_blank\">https://wandb.ai/ari-granevich/Target_detection-Unet_DAFC_DACK_Diffusion/runs/wl5rffv8</a>"
      ],
      "text/plain": [
       "<IPython.core.display.HTML object>"
      ]
     },
     "metadata": {},
     "output_type": "display_data"
    },
    {
     "data": {
      "text/html": [
       "<button onClick=\"this.nextSibling.style.display='block';this.style.display='none';\">Display W&B run</button><iframe src='https://wandb.ai/ari-granevich/Target_detection-Unet_DAFC_DACK_Diffusion/runs/wl5rffv8?jupyter=true' style='border:none;width:100%;height:420px;display:none;'></iframe>"
      ],
      "text/plain": [
       "<wandb.sdk.wandb_run.Run at 0x7bdcac169e70>"
      ]
     },
     "execution_count": 11,
     "metadata": {},
     "output_type": "execute_result"
    }
   ],
   "source": [
    "os.environ[\"WANDB_NOTEBOOK_NAME\"] = \"Target_Detection.ipynb\"\n",
    "wandb.login(key=\"a0b9279da3b2e8d45e371d1539a1118e7b82d303\")\n",
    "wandb.init(project=\"Target_detection-Unet_DAFC_DACK_Diffusion\", mode=\"online\")"
   ]
  },
  {
   "cell_type": "markdown",
   "metadata": {},
   "source": [
    "### Train RD"
   ]
  },
  {
   "cell_type": "markdown",
   "metadata": {},
   "source": [
    "## Dataset"
   ]
  },
  {
   "cell_type": "markdown",
   "metadata": {},
   "source": [
    "### Explanation"
   ]
  },
  {
   "cell_type": "markdown",
   "metadata": {},
   "source": [
    "#### Initialization\n",
    "\n",
    "Input parameters:\n",
    "* num_samples: Number of samples in the dataset.\n",
    "* n_targets: Maximum number of targets per sample (default is 8).\n",
    "* random_n_targets: If True, the number of targets per sample is random up to n_targets.\n",
    "* nu: Parameter for the K-distributed clutter (shape parameter of the Gamma distribution).\n",
    "* scnr: Signal-to-clutter-plus-noise ratio (SCNR) in dB for the targets.\n",
    "\n",
    "Radar Parameters:\n",
    "* N = 64: --------------------- Number of fast-time samples per pulse.\n",
    "* K = 64: --------------------- Number of pulses per frame (slow-time samples).\n",
    "* B = 50e6: ------------------- Chirp bandwidth (Hz).\n",
    "* T0 = 1e-3: ------------------ Pulse repetition interval (PRI) in seconds.\n",
    "* fc = 9.39e9: ---------------- Carrier frequency (Hz).\n",
    "* c = 3e8: -------------------- Speed of light (m/s).\n",
    "* CNR = 15: ------------------ Clutter-to-noise ratio in dB.\n",
    "Range and Doppler Parameters:\n",
    "* r_min, r_max = 0, 189: ------- Minimum and maximum range (meters).\n",
    "* v_min, v_max = -7.8, 7.8: ---- Minimum and maximum Doppler velocities (m/s).\n",
    "* vc_min, vc_max = -7.8, 7.8: -- Clutter velocity range (m/s).\n",
    "* dr = 3: ---------------------- Range resolution (m).\n",
    "* dv = 0.249: ----------------- Doppler resolution (m/s).\n",
    "\n",
    "Range Bins: originaly 64\n",
    "\n",
    "$$\\mathbf{R} = \\{ r_{\\text{min}}, r_{\\text{min}} + \\Delta r, \\dots, r_{\\text{max}} \\}$$\n",
    "\n",
    "Doppler Bins: originaly 64\n",
    "\n",
    "$$\\mathbf{V} = \\{ v_{\\text{3min}}, v_{\\text{min}} + \\Delta v, \\dots, v_{\\text{max}} \\}$$\n",
    "\n",
    "Number of Range and Doppler Bins:\n",
    "$$d_R = |\\mathbf{R}|,\\quad d_V = |\\mathbf{V}|$$\n",
    "\n",
    "Noise Power $\\sigma^2$ :\n",
    "\n",
    "$$\\text{CNR}_{\\text{linear}} = 10^{\\frac{\\text{CNR}_{\\text{dB}}}{10}}$$\n",
    "\n",
    "$$\\sigma^2 = \\frac{N}{2 \\cdot \\text{CNR}_{\\text{linear}}}$$\n",
    "\n",
    "Normalization Constant $\\text{cn\\_norm}$:\n",
    "\n",
    "$$\\text{cn\\_norm} = \\sqrt{N \\cdot K \\cdot \\left( \\frac{N}{2} + \\sigma^2 \\right)}$$\n",
    "\n",
    "#### Generate target signal\n",
    "1. Compute the range steering vector:\n",
    "$$w_r = \\frac{2 \\pi \\cdot 2 \\cdot B \\cdot \\text{ranges}}{c \\cdot N}$$\n",
    "\n",
    "The range steering vector is then calculated as:\n",
    "\n",
    "$$\\text{range\\_steering} = e^{-j \\cdot w_r \\cdot \\text{arange}(N)}$$\n",
    "\n",
    "\n",
    "2. Compute the velocity steering vector:\n",
    "$$w_d = \\frac{2 \\pi \\cdot T_0 \\cdot 2 \\cdot f_c \\cdot \\text{velocities}}{c}$$\n",
    "\n",
    "The velocity steering vector is then calculated as:\n",
    "\n",
    "$$\\text{velocity\\_steering} = e^{-j \\cdot w_d \\cdot \\text{arange}(K)}$$\n",
    "\n",
    "3. Combine the range and Doppler steering vectors:\n",
    "\n",
    "$$ rd\\_signal= range\\_steering * velocity\\_steering$$\n",
    "\n",
    "Shape: $$Num\\_targets \\times N \\times K$$\n",
    "\n",
    "4. apply random phases for targets:\n",
    "\n",
    "$$ rd\\_signal = rd_signal * e^{j*phases}$$\n",
    "\n",
    "5. prepare for scaling: Compute the norm of the signal for each target:\n",
    "\n",
    "$$ S\\_norm = ||rd_signal||$$\n",
    "\n",
    "$$ sig\\_amp = 10^{SCNR\\_DB/20} \\cdot \\frac{cn\\_norm}{S\\_norm}$$\n",
    "\n",
    "6. Scale and sum the signals for all targets into a single matrix:\n",
    "$$\n",
    "\\text{rd\\_signal} = \\sum_{\\text{targets}} \\left( \\text{sig\\_amp} \\cdot \\text{rd\\_signal} \\right)\n",
    "$$\n",
    "\n",
    "7. The final output is a matrix:\n",
    "$$\n",
    "\\text{rd\\_signal} \\in \\mathbb{C}^{N \\times K}\n",
    "$$\n",
    "\n",
    "\n",
    "#### Generate clutter\n",
    "\n",
    "This function generates K-distributed SIRV (Spherically Invariant Random Vector) clutter using eigendecomposition.\n",
    "\n",
    "The clutter velocity is sampled uniformly:\n",
    "$$\n",
    "\\text{clutter\\_vel} \\sim U(\\text{vc\\_min}, \\text{vc\\_max})\n",
    "$$\n",
    "\n",
    "The Doppler shift of the clutter is computed as:\n",
    "$$\n",
    "f_d = \\frac{2 \\pi \\cdot 2 \\cdot f_c \\cdot \\text{clutter\\_vel}}{c}\n",
    "$$\n",
    "\n",
    "The correlation matrix $ M $ is generated using:\n",
    "$$\n",
    "M_{p,q} = e^{\\left(-2 \\pi^2 \\sigma_f^2 (p - q)^2 - j (p - q) f_d T_0 \\right)}\n",
    "$$\n",
    "where $\\sigma_f$ is a fixed parameter from the paper.\n",
    "\n",
    "Complex Normal Samples\n",
    "\n",
    "\n",
    "Generate complex normal samples $z$:\n",
    "$$\n",
    "z \\sim \\mathcal{CN}(0, \\frac{1}{2})\n",
    "$$\n",
    "with shape $(K \\times d_R)$.\n",
    "\n",
    "Eigenvalue Decomposition:\n",
    "\n",
    "\n",
    "Perform eigenvalue decomposition on  $M$:\n",
    "$$\n",
    "M = V \\Lambda V^\\dagger\n",
    "$$\n",
    "\n",
    "The square root of eigenvalues is computed:\n",
    "$$\n",
    "E = \\text{diag}(\\sqrt{\\max(\\lambda, 0)})\n",
    "$$\n",
    "\n",
    "The clutter time-domain weights are computed as:\n",
    "$$\n",
    "w_t = A z \\quad \\text{where } A = V E\n",
    "$$\n",
    "\n",
    "Texture Component:\n",
    "\n",
    "\n",
    "The texture component $ s $ is sampled from a Gamma distribution:\n",
    "$$\n",
    "s \\sim \\text{Gamma}(\\nu, \\nu)\n",
    "$$\n",
    "\n",
    "Scale the clutter weights by the texture component:\n",
    "$$\n",
    "c_t = \\sqrt{s} \\cdot w_t\n",
    "$$\n",
    "\n",
    "Fast-Time × Slow-Time Representation:\n",
    "\n",
    "The fast-time steering vector $c_{r\\_steer}$ is computed as:\n",
    "$$\n",
    "c_{r\\_steer} = \\exp\\left(-j \\cdot 2 \\pi \\cdot \\text{arange}(N) \\cdot R \\cdot \\frac{2 B}{c \\cdot N}\\right)\n",
    "$$\n",
    "\n",
    "The final clutter matrix $C$ is obtained by:\n",
    "$$\n",
    "C = c_{r\\_steer} \\cdot c_t^T\n",
    "$$\n",
    "\n",
    "\n",
    "The function returns the clutter matrix $ C $:\n",
    "$$\n",
    "C \\in \\mathbb{C}^{N \\times K}\n",
    "$$\n",
    "\n",
    "\n",
    "#### Generate frame and labels\n",
    "\n",
    "This function generates a radar frame containing noise, clutter, and optionally targets, along with a label matrix identifying the target locations in the range-Doppler plane.\n",
    "\n",
    "1. Generate Noise\n",
    "\n",
    "   The noise matrix $ W $ is generated as:\n",
    "   $$\n",
    "   W \\sim \\mathcal{CN}\\left(0, \\frac{1}{2 \\sigma^2}\\right), \\quad W \\in \\mathbb{C}^{N \\times K}\n",
    "   $$\n",
    "\n",
    "2. Generate Clutter\n",
    "\n",
    "   The clutter texture parameter $ \\nu $ is sampled as:\n",
    "   $$\n",
    "   \\nu \\sim U(0.1, 1.5)\n",
    "   $$  \n",
    "   if $ \\nu $ is not provided. Otherwise, it is set to the user-defined value.  \n",
    "   The clutter matrix $ C $ is then generated using:\n",
    "   $$\n",
    "   C = \\text{generate\\_clutter}(\\nu)\n",
    "   $$\n",
    "\n",
    "3. Initialize Target Signal and Label Matrices\n",
    "\n",
    "   - Initialize the target signal matrix $ S $ with zeros:\n",
    "     $$\n",
    "     S = \\mathbf{0}, \\quad S \\in \\mathbb{C}^{N \\times K}\n",
    "     $$\n",
    "   - Initialize the label matrix $ \\text{rd\\_label} $ with zeros:\n",
    "     $$\n",
    "     \\text{rd\\_label} = \\mathbf{0}, \\quad \\text{rd\\_label} \\in \\{0, 1\\}^{d_R \\times d_V}\n",
    "     $$\n",
    "\n",
    "4. Generate Targets (if applicable) \n",
    "\n",
    "   If targets are enabled, the following steps are performed:\n",
    "   - Sample the number of targets $ n $:\n",
    "     $$\n",
    "     n \\sim U(1, \\text{n\\_targets})\n",
    "     $$  \n",
    "     if $ \\text{random\\_n\\_targets} $ is enabled. Otherwise, $ n $ is fixed to $ \\text{n\\_targets} $.\n",
    "   - Sample the target ranges, velocities, phases, and SCNR values:\n",
    "     $$\n",
    "     \\text{ranges} \\sim U(r_\\text{min}, r_\\text{max})\n",
    "     $$\n",
    "     $$\n",
    "     \\text{velocities} \\sim U(v_\\text{min}, v_\\text{max})\n",
    "     $$\n",
    "     $$\n",
    "     \\text{phases} \\sim U(0, 2 \\pi)\n",
    "     $$\n",
    "     $$\n",
    "     \\text{SCNR\\_dBs} \\sim U(-5, 10)\n",
    "     $$  \n",
    "     if $ \\text{scnr} $ is not provided. Otherwise, SCNR is set to a constant value.\n",
    "\n",
    "   - Generate the target signal matrix $ S $:\n",
    "     $$\n",
    "     S = \\text{generate\\_target\\_signal}(\\text{ranges}, \\text{velocities}, \\text{phases}, \\text{SCNR\\_dBs})\n",
    "     $$\n",
    "\n",
    "   - Populate the label matrix $ \\text{rd\\_label} $:  \n",
    "     For each target, determine the nearest range bin $ r_\\text{bin} $ and Doppler bin $ v_\\text{bin} $:\n",
    "     $$\n",
    "     r_\\text{bin} = \\arg\\min |R - r|, \\quad v_\\text{bin} = \\arg\\min |V - v|\n",
    "     $$\n",
    "     Set:\n",
    "     $$\n",
    "     \\text{rd\\_label}[r_\\text{bin}, v_\\text{bin}] = 1\n",
    "     $$\n",
    "\n",
    "5. Combine Signals\n",
    "\n",
    "   The final radar frame $ X $ is the sum of the target signal, clutter, and noise:\n",
    "   $$\n",
    "   X = S + C + W\n",
    "   $$\n",
    "\n",
    "6. Return  \n",
    "\n",
    "   The function returns:\n",
    "   $$\n",
    "   X \\in \\mathbb{C}^{N \\times K}, \\quad \\text{rd\\_label} \\in \\{0, 1\\}^{d_R \\times d_V}\n",
    "   $$\n"
   ]
  },
  {
   "cell_type": "markdown",
   "metadata": {},
   "source": [
    "### Code"
   ]
  },
  {
   "cell_type": "code",
   "execution_count": 12,
   "metadata": {},
   "outputs": [],
   "source": [
    "class RadarDataset(Dataset):\n",
    "    def __init__(self, num_samples, n_targets: int = 8, random_n_targets=True, nu=None, scnr=None):\n",
    "        super().__init__()\n",
    "        self.num_samples = num_samples\n",
    "        self.n_targets = n_targets\n",
    "        self.random_n_targets = random_n_targets\n",
    "        self.with_targets = n_targets > 0\n",
    "        self.scnr = scnr\n",
    "        self.nu = torch.tensor([nu]) if nu is not None else None\n",
    "\n",
    "        # Parameters\n",
    "        self.N = 64  # Samples per pulse (fast-time)\n",
    "        self.K = 64  # Pulses per frame (slow-time)\n",
    "        self.B = 50e6  # Chirp bandwidth (Hz)\n",
    "        self.T0 = 1e-3  # PRI (s)\n",
    "        self.fc = 9.39e9  # Carrier frequency (Hz)\n",
    "        self.c = 3e8  # Speed of light (m/s)\n",
    "        self.CNR = 15  # Clutter-to-noise ratio (dB)\n",
    "\n",
    "        # Range and Doppler parameters\n",
    "        self.r_min, self.r_max = 0, 189  # Range interval (m)\n",
    "        self.v_min, self.v_max = -7.8, 7.8  # Doppler interval (m/s)\n",
    "        self.vc_min, self.vc_max = -7.8, 7.8  # Clutter min/max velocity (m/s)\n",
    "        self.dr = 3  # Range resolution (m)\n",
    "        self.dv = 0.249  # Doppler resolution (m/s)\n",
    "\n",
    "        # Calculate range and Doppler bins\n",
    "        self.R = torch.arange(self.r_min, self.r_max + self.dr, self.dr)\n",
    "        self.V = torch.arange(self.v_min, self.v_max + self.dv, self.dv)\n",
    "        self.dR = len(self.R)  # Number of range bins\n",
    "        self.dV = len(self.V)  # Number of Doppler bins\n",
    "\n",
    "        # Noise power calculation\n",
    "        self.sigma2 = self.N / (2 * 10 ** (self.CNR / 10)) \n",
    "        self.cn_norm = torch.sqrt(torch.tensor(self.N * self.K * (self.N // 2 + self.sigma2)))\n",
    "\n",
    "        # Precompute the range steering matrix for matched filtering.\n",
    "        # This acts as the matched filter in the range dimension.\n",
    "        # For a linear FM chirp, the matched filter corresponds to the conjugate of the transmitted signal.\n",
    "        # Here, we assume a uniform linear frequency modulation and use a steering vector based on the range bins.\n",
    "        # range_steering_full will have dimensions (dR x N).\n",
    "        w_range = (2 * torch.pi * (2 * self.B) / (self.c * self.N)) * self.R.unsqueeze(-1) * torch.arange(self.N)\n",
    "        # w_range: dR x N\n",
    "        self.range_steering_full = torch.exp(-1j * w_range)\n",
    "\n",
    "    def generate_target_signal(self, ranges, velocities, phases, SCNR_dBs):\n",
    "        # Range steering vector\n",
    "        w_r = (2 * torch.pi * 2 * self.B * ranges) / (self.c * self.N)\n",
    "        range_steering = torch.exp(-1j * torch.outer(w_r, torch.arange(self.N)))\n",
    "\n",
    "        # Doppler steering vector\n",
    "        w_d = (2 * torch.pi * self.T0 * 2 * self.fc * velocities) / self.c\n",
    "        doppler_steering = torch.exp(-1j * torch.outer(w_d, torch.arange(self.K)))\n",
    "        \n",
    "        # Fast-time x Slow-time matrix\n",
    "        rd_signal = range_steering.unsqueeze(-1) * doppler_steering.unsqueeze(1)\n",
    "\n",
    "        # Random phase for each target\n",
    "        rd_signal = rd_signal * torch.exp(1j * phases)\n",
    "\n",
    "        # Scaling SCNR for each target\n",
    "        S_norm = torch.linalg.norm(rd_signal, dim=(1, 2)).real\n",
    "        sig_amp = (10 ** (SCNR_dBs / 20)) * (self.cn_norm / S_norm)\n",
    "        rd_signal = (sig_amp.unsqueeze(-1).unsqueeze(-1) * rd_signal).sum(dim=0)\n",
    "\n",
    "        return rd_signal\n",
    "\n",
    "    def generate_clutter(self, nu):\n",
    "        clutter_vel = torch.empty(1).uniform_(self.vc_min, self.vc_max)\n",
    "        fd = (2 * torch.pi * (2 * self.fc * clutter_vel) / self.c) \n",
    "        sigma_f = 0.05  # From the referenced paper\n",
    "        p, q = torch.meshgrid(torch.arange(self.N),\n",
    "                              torch.arange(self.K), indexing='ij')\n",
    "        M = torch.exp(-2 * torch.pi ** 2 * sigma_f ** 2 * (p - q) ** 2 - 1j * (p - q) * fd * self.T0)\n",
    "        z = torch.randn(self.K, self.dR, dtype=torch.cfloat) / torch.sqrt(torch.tensor(2.0))\n",
    "\n",
    "        e, V = torch.linalg.eigh(M)\n",
    "        e_sqrt = torch.sqrt(torch.maximum(e.real, torch.tensor(0.0)))\n",
    "        E = torch.diag(e_sqrt)\n",
    "        A = V @ E.to(V.dtype)\n",
    "        w_t = A @ z\n",
    "\n",
    "        s = torch.distributions.Gamma(nu, nu).sample((self.dR,))\n",
    "        c_t = (torch.sqrt(s).unsqueeze(0) * w_t.unsqueeze(-1)).squeeze(-1)\n",
    "\n",
    "        # Convert to fast-time × slow-time representation\n",
    "        c_r_steer = torch.exp(-1j * 2 * torch.pi * torch.outer(torch.arange(self.N), self.R) * (2 * self.B) / (self.c * self.N))\n",
    "        C = c_r_steer @ c_t.transpose(0, 1)\n",
    "        return C\n",
    "\n",
    "    def gen_frame_and_labels(self):\n",
    "        # Generate Noise\n",
    "        W = (torch.randn(self.N, self.K, dtype=torch.cfloat) / torch.sqrt(torch.tensor(2.0 * self.sigma2)))\n",
    "\n",
    "        # Generate Clutter\n",
    "        nu = torch.empty(1).uniform_(0.1, 1.5) if self.nu is None else self.nu\n",
    "        C = self.generate_clutter(nu)\n",
    "\n",
    "        # Initialize target signal and label matrices\n",
    "        S = torch.zeros_like(W)\n",
    "        rd_label = torch.zeros(self.dR, self.dV)\n",
    "        if self.with_targets:\n",
    "            n = torch.randint(1, self.n_targets + 1, (1,)) if self.random_n_targets else self.n_targets\n",
    "            ranges = torch.empty(n).uniform_(self.r_min, self.r_max)\n",
    "            velocities = torch.empty(n).uniform_(self.v_min, self.v_max)\n",
    "            phases = torch.empty(n, 1, 1).uniform_(0, 2 * torch.pi)\n",
    "            SCNR_dBs = torch.empty(n).uniform_(-5, 10) if self.scnr is None else self.scnr * torch.ones(n)\n",
    "            S = self.generate_target_signal(ranges, velocities, phases, SCNR_dBs)\n",
    "\n",
    "            # Create label matrix\n",
    "            for r, v in zip(ranges, velocities):\n",
    "                r_bin = torch.argmin(torch.abs(self.R - r))\n",
    "                v_bin = torch.argmin(torch.abs(self.V - v))\n",
    "                rd_label[r_bin, v_bin] = 1\n",
    "\n",
    "        return S, C, W, rd_label\n",
    "\n",
    "    def __len__(self) -> int:\n",
    "        return self.num_samples\n",
    "\n",
    "    def __getitem__(self, idx: int):\n",
    "        S, C, W, rd_label = self.gen_frame_and_labels()\n",
    "        X = S+C+W\n",
    "        IQ_map = X\n",
    "        X_range = self.range_steering_full.conj() @ X     \n",
    "        S_range = self.range_steering_full.conj() @ S\n",
    "\n",
    "        S_RD = torch.fft.fft(S_range, dim=1)\n",
    "        S_RD = torch.fft.fftshift(S_RD, dim=1)\n",
    "        S_RD_magnitude = S_RD#.abs()\n",
    "        clean_RD_map = S_RD_magnitude.flip(dims=[1])\n",
    "\n",
    "        X_RD = torch.fft.fft(X_range, dim=1)\n",
    "        X_RD = torch.fft.fftshift(X_RD, dim=1)\n",
    "\n",
    "        X_RD_magnitude = X_RD#.abs()\n",
    "        RD_map = X_RD_magnitude.flip(dims=[1]) \n",
    "        return S, C, IQ_map, clean_RD_map, RD_map, rd_label"
   ]
  },
  {
   "cell_type": "code",
   "execution_count": 13,
   "metadata": {},
   "outputs": [],
   "source": [
    "class RadarDataset(Dataset):\n",
    "    def __init__(self, num_samples, n_targets: int = 3, random_n_targets=False, nu=None, scnr=None):\n",
    "        super().__init__()\n",
    "        self.num_samples = num_samples\n",
    "        self.n_targets = n_targets\n",
    "        self.random_n_targets = random_n_targets\n",
    "        self.with_targets = n_targets > 0\n",
    "        self.scnr = scnr\n",
    "        # If nu is provided, fix it; otherwise clutter nu will be drawn uniformly in [0.1, 1.5]\n",
    "        self.nu = torch.tensor([nu]) if nu is not None else None\n",
    "\n",
    "        # Radar parameters\n",
    "        self.N = 64       # fast–time samples per pulse\n",
    "        self.K = 64       # slow–time pulses per frame\n",
    "        self.B = 50e6     # Chirp bandwidth (Hz)\n",
    "        self.T0 = 1e-3    # PRI (s)\n",
    "        self.fc = 9.39e9  # Carrier frequency (Hz)\n",
    "        self.c = 3e8      # Speed of light (m/s)\n",
    "        self.CNR = 15     # Clutter-to-noise ratio in dB\n",
    "\n",
    "        # Range and Doppler settings\n",
    "        self.r_min, self.r_max = 0, 189    # meters\n",
    "        self.v_min, self.v_max = -7.8, 7.8   # m/s (for targets)\n",
    "        self.vc_min, self.vc_max = -7.8, 7.8 # m/s (for clutter)\n",
    "        self.dr = 3     # Range resolution in m\n",
    "        self.dv = 0.249 # Doppler resolution in m/s\n",
    "\n",
    "        # Range and Doppler bins (for label maps)\n",
    "        self.R = torch.arange(self.r_min, self.r_max + self.dr, self.dr)\n",
    "        self.V = torch.arange(self.v_min, self.v_max + self.dv, self.dv)\n",
    "        self.dR = len(self.R)\n",
    "        self.dV = len(self.V)\n",
    "\n",
    "        # Noise power calculation\n",
    "        self.sigma2 = self.N / (2 * 10 ** (self.CNR / 10))\n",
    "        self.cn_norm = torch.sqrt(torch.tensor(self.N * self.K * (self.N // 2 + self.sigma2), dtype=torch.float))\n",
    "\n",
    "        # Precompute the range steering matrix (matched filter in range)\n",
    "        w_range = (2 * torch.pi * (2 * self.B) / (self.c * self.N)) * self.R.unsqueeze(-1) * torch.arange(self.N, dtype=torch.float)\n",
    "        self.range_steering_full = torch.exp(-1j * w_range)\n",
    "\n",
    "    def generate_target_signal(self, ranges, velocities, phases, SCNR_dBs):\n",
    "        # Range steering vector (one per target)\n",
    "        w_r = (2 * torch.pi * 2 * self.B * ranges) / (self.c * self.N)\n",
    "        range_steering = torch.exp(-1j * torch.outer(w_r, torch.arange(self.N, dtype=torch.float)))\n",
    "        # Doppler steering vector (one per target)\n",
    "        w_d = (2 * torch.pi * self.T0 * 2 * self.fc * velocities) / self.c\n",
    "        doppler_steering = torch.exp(-1j * torch.outer(w_d, torch.arange(self.K, dtype=torch.float)))\n",
    "        # Form the fast–time × slow–time target signature for each target\n",
    "        rd_signal = range_steering.unsqueeze(-1) * doppler_steering.unsqueeze(1)\n",
    "        rd_signal = rd_signal * torch.exp(1j * phases)  # impart random phase per target\n",
    "\n",
    "        # Scale the target signature to achieve the desired SCNR (in dB)\n",
    "        S_norm = torch.linalg.norm(rd_signal, dim=(1, 2)).real\n",
    "        sig_amp = (10 ** (SCNR_dBs / 20)) * (self.cn_norm / S_norm)\n",
    "        rd_signal = (sig_amp.unsqueeze(-1).unsqueeze(-1) * rd_signal).sum(dim=0)\n",
    "        return rd_signal\n",
    "\n",
    "    def generate_clutter(self, nu):\n",
    "        # Choose a clutter velocity uniformly within the allowed limits\n",
    "        clutter_vel = torch.empty(1).uniform_(self.vc_min, self.vc_max)\n",
    "        fd = 2 * torch.pi * (2 * self.fc * clutter_vel) / self.c \n",
    "        sigma_f = 0.05  # Correlation parameter (from the referenced paper)\n",
    "        p, q = torch.meshgrid(torch.arange(self.N, dtype=torch.float),\n",
    "                              torch.arange(self.K, dtype=torch.float), indexing='ij')\n",
    "        M = torch.exp(-2 * torch.pi ** 2 * sigma_f ** 2 * (p - q) ** 2 - 1j * (p - q) * fd * self.T0)\n",
    "        z = torch.randn(self.K, self.dR, dtype=torch.cfloat) / torch.sqrt(torch.tensor(2.0))\n",
    "        e, V_mat = torch.linalg.eigh(M)\n",
    "        e_sqrt = torch.sqrt(torch.clamp(e.real, min=0.0))\n",
    "        E = torch.diag(e_sqrt)\n",
    "        A = V_mat @ E.to(V_mat.dtype)\n",
    "        w_t = A @ z\n",
    "\n",
    "        # Impart heavy–tailed behavior via Gamma modulation (shape and scale = nu)\n",
    "        s = torch.distributions.Gamma(nu, nu).sample((self.dR,))\n",
    "        c_t = (torch.sqrt(s).unsqueeze(0) * w_t.unsqueeze(-1)).squeeze(-1)\n",
    "\n",
    "        # Convert to fast–time × slow–time representation using a range–steering operation.\n",
    "        c_r_steer = torch.exp(-1j * 2 * torch.pi * torch.outer(torch.arange(self.N, dtype=torch.float), self.R) *\n",
    "                                (2 * self.B) / (self.c * self.N))\n",
    "        C = c_r_steer @ c_t.transpose(0, 1)\n",
    "        return C\n",
    "\n",
    "    def gen_frame_and_labels(self):\n",
    "        # Generate noise (complex Gaussian)\n",
    "        W = (torch.randn(self.N, self.K, dtype=torch.cfloat) / \n",
    "             torch.sqrt(torch.tensor(2.0 * self.sigma2)))\n",
    "        # Generate clutter; if self.nu is not set, choose nu uniformly in [0.1, 1.5]\n",
    "        nu = torch.empty(1).uniform_(0.1, 1.5) if self.nu is None else self.nu\n",
    "        C = self.generate_clutter(nu)\n",
    "\n",
    "        # Initialize target signal and label map\n",
    "        S = torch.zeros_like(W)\n",
    "        rd_label = torch.zeros(self.dR, self.dV)\n",
    "        if self.with_targets:\n",
    "            # If not random, use fixed number of targets.\n",
    "            n = torch.randint(1, self.n_targets + 1, (1,)).item() if self.random_n_targets else self.n_targets\n",
    "            ranges = torch.empty(n).uniform_(self.r_min, self.r_max)\n",
    "            velocities = torch.empty(n).uniform_(self.v_min, self.v_max)\n",
    "            phases = torch.empty(n, 1, 1).uniform_(0, 2 * torch.pi)\n",
    "            SCNR_dBs = torch.empty(n).uniform_(-5, 10) if self.scnr is None else self.scnr * torch.ones(n)\n",
    "            S = self.generate_target_signal(ranges, velocities, phases, SCNR_dBs)\n",
    "            # For each target, mark the closest range and Doppler bin.\n",
    "            for r, v in zip(ranges, velocities):\n",
    "                r_bin = torch.argmin(torch.abs(self.R - r))\n",
    "                v_bin = torch.argmin(torch.abs(self.V - v))\n",
    "                rd_label[r_bin, v_bin] = 1\n",
    "        return S, C, W, rd_label\n",
    "\n",
    "    def __len__(self) -> int:\n",
    "        return self.num_samples\n",
    "\n",
    "    def __getitem__(self, idx: int):\n",
    "        S, C, W, rd_label = self.gen_frame_and_labels()\n",
    "        X = S + C + W\n",
    "        IQ_map = X\n",
    "        # Range matched filtering using the precomputed steering matrix.\n",
    "        X_range = self.range_steering_full.conj() @ X     \n",
    "        S_range = self.range_steering_full.conj() @ S\n",
    "\n",
    "        # Apply an FFT along slow–time, fftshift and flip to obtain the range–Doppler (RD) map.\n",
    "        S_RD = torch.fft.fft(S_range, dim=1)\n",
    "        S_RD = torch.fft.fftshift(S_RD, dim=1)\n",
    "        clean_RD_map = S_RD.flip(dims=[1])\n",
    "        X_RD = torch.fft.fft(X_range, dim=1)\n",
    "        X_RD = torch.fft.fftshift(X_RD, dim=1)\n",
    "        RD_map = X_RD.flip(dims=[1])\n",
    "        return S, C, IQ_map, clean_RD_map, RD_map, rd_label\n"
   ]
  },
  {
   "cell_type": "code",
   "execution_count": 14,
   "metadata": {},
   "outputs": [],
   "source": [
    "# Create datasets with and without targets\n",
    "train_dataset_with_targets = RadarDataset(num_samples=10240, n_targets=8, random_n_targets=True)\n",
    "train_dataset_no_targets = RadarDataset(num_samples=10240, n_targets=0)\n",
    "\n",
    "val_dataset_with_targets = RadarDataset(num_samples=2048, n_targets=8, random_n_targets=True)\n",
    "val_dataset_no_targets = RadarDataset(num_samples=2048, n_targets=0)\n",
    "\n",
    "# Combine datasets\n",
    "train_dataset = ConcatDataset([train_dataset_with_targets, train_dataset_no_targets])\n",
    "val_dataset = ConcatDataset([val_dataset_with_targets, val_dataset_no_targets])\n",
    "\n",
    "# Create dataloaders\n",
    "train_loader = DataLoader(train_dataset, batch_size=256, shuffle=True, num_workers=2,\n",
    "                            pin_memory=torch.cuda.is_available(), persistent_workers=True)\n",
    "val_loader = DataLoader(val_dataset, batch_size=256, shuffle=True, num_workers=2,\n",
    "                        pin_memory=torch.cuda.is_available(), persistent_workers=True)"
   ]
  },
  {
   "cell_type": "code",
   "execution_count": 15,
   "metadata": {},
   "outputs": [
    {
     "name": "stdout",
     "output_type": "stream",
     "text": [
      "IQ_map type: torch.ComplexFloatTensor\n",
      "RD_map type: torch.ComplexFloatTensor\n",
      "Slow time x Fast time map shape: torch.Size([64, 64])\n",
      "Range-Doppler map shape: torch.Size([64, 64])\n",
      "Label shape: torch.Size([64, 64])\n"
     ]
    },
    {
     "data": {
      "image/png": "[encoded data removed]",
      "text/plain": [
       "<Figure size 2000x600 with 6 Axes>"
      ]
     },
     "metadata": {},
     "output_type": "display_data"
    },
    {
     "data": {
      "image/png": "[encoded data removed]",
      "text/plain": [
       "<Figure size 2000x600 with 5 Axes>"
      ]
     },
     "metadata": {},
     "output_type": "display_data"
    }
   ],
   "source": [
    "S, C, IQ_map, clean_RD_map, RD_map, RD_label = train_dataset_with_targets[1]\n",
    "\n",
    "# Print some debug/reference information\n",
    "print(f\"IQ_map type: {IQ_map.type()}\")\n",
    "print(f\"RD_map type: {RD_map.type()}\")\n",
    "print(f\"Slow time x Fast time map shape: {IQ_map.shape}\")\n",
    "print(f\"Range-Doppler map shape: {RD_map.shape}\")\n",
    "print(f\"Label shape: {RD_label.shape}\")\n",
    "\n",
    "# Create a figure with five subplots in one row\n",
    "plt.figure(figsize=(20, 6))\n",
    "\n",
    "# Subplot 1: Real part of IQ data\n",
    "plt.subplot(1, 6, 1)\n",
    "plt.imshow(torch.real(S), aspect='auto', cmap='viridis')\n",
    "plt.title(\"Real S\", fontsize=14)\n",
    "plt.xlabel(\"Fast Time\", fontsize=12)\n",
    "plt.ylabel(\"Slow Time\", fontsize=12)\n",
    "\n",
    "# Subplot 2: Imaginary part of IQ data\n",
    "plt.subplot(1, 6, 2)\n",
    "plt.imshow(torch.imag(S), aspect='auto', cmap='viridis')\n",
    "plt.title(\"Imaginary S\", fontsize=14)\n",
    "plt.xlabel(\"Fast Time\", fontsize=12)\n",
    "plt.ylabel(\"Slow Time\", fontsize=12)\n",
    "# Subplot 3: Magnitude of X_range\n",
    "plt.subplot(1, 6, 3)\n",
    "plt.imshow(torch.real(C) , aspect='auto', cmap='viridis')\n",
    "plt.title(\"Real C\", fontsize=14)\n",
    "plt.xlabel(\"Fast Time\", fontsize=12)\n",
    "plt.ylabel(\"Slow Time\", fontsize=12)\n",
    "\n",
    "# Subplot 4: Magnitude of the Range-Doppler map\n",
    "plt.subplot(1, 6, 4)\n",
    "plt.imshow(torch.imag(C), aspect='auto', cmap='viridis')\n",
    "plt.title(\"Imaginary C\", fontsize=14)\n",
    "plt.xlabel(\"Fast Time\", fontsize=12)\n",
    "plt.ylabel(\"Slow Time\", fontsize=12)\n",
    "\n",
    "# Subplot 5: Range-Doppler label (ground truth)\n",
    "plt.subplot(1, 6, 5)\n",
    "plt.imshow(torch.real(IQ_map), aspect='auto', cmap='viridis')\n",
    "plt.title(\"Real IQ map\", fontsize=14)\n",
    "plt.xlabel(\"Fast Time\", fontsize=12)\n",
    "plt.ylabel(\"Slow Time\", fontsize=12)\n",
    "\n",
    "plt.subplot(1, 6, 6)\n",
    "plt.imshow(torch.imag(IQ_map), aspect='auto', cmap='viridis')\n",
    "plt.title(\"Real IQ map\", fontsize=14)\n",
    "plt.xlabel(\"Fast Time\", fontsize=12)\n",
    "plt.ylabel(\"Slow Time\", fontsize=12)\n",
    "\n",
    "# Adjust the layout, save, and show\n",
    "plt.tight_layout(rect=[0, 0.03, 1, 0.95])\n",
    "plt.savefig(\"maps\")\n",
    "plt.show()\n",
    "\n",
    "plt.figure(figsize=(20, 6))\n",
    "\n",
    "# Subplot 1: Real part of IQ data\n",
    "plt.subplot(1, 5, 1)\n",
    "plt.imshow(torch.real(RD_map), aspect='auto', cmap='viridis')\n",
    "plt.title(\"Real RD\", fontsize=14)\n",
    "plt.xlabel(\"Range\", fontsize=12)\n",
    "plt.ylabel(\"Doppler\", fontsize=12)\n",
    "\n",
    "# Subplot 1: Real part of IQ data\n",
    "plt.subplot(1, 5, 2)\n",
    "plt.imshow(torch.imag(RD_map), aspect='auto', cmap='viridis')\n",
    "plt.title(\"Imaginary RD\", fontsize=14)\n",
    "plt.xlabel(\"Range\", fontsize=12)\n",
    "plt.ylabel(\"Doppler\", fontsize=12)\n",
    "\n",
    "plt.subplot(1, 5, 3)\n",
    "plt.imshow(torch.abs(RD_map), aspect='auto', cmap='viridis')\n",
    "plt.title(\"RD Map (absolute value)\", fontsize=14)\n",
    "plt.xlabel(\"Range\", fontsize=12)\n",
    "plt.ylabel(\"Doppler\", fontsize=12)\n",
    "\n",
    "plt.subplot(1, 5, 4)\n",
    "plt.imshow(torch.abs(clean_RD_map), aspect='auto', cmap='viridis')\n",
    "plt.title(\"clean RD Map (absolute value)\", fontsize=14)\n",
    "plt.xlabel(\"Range\", fontsize=12)\n",
    "plt.ylabel(\"Doppler\", fontsize=12)\n",
    "\n",
    "# Subplot 2: Imaginary part of IQ data\n",
    "plt.subplot(1, 5, 5)\n",
    "plt.imshow(RD_label, aspect='auto', cmap='viridis')\n",
    "plt.title(\"Ground Truth\", fontsize=14)\n",
    "plt.xlabel(\"Range\", fontsize=12)\n",
    "plt.ylabel(\"Doppler\", fontsize=12)\n",
    "\n",
    "# Adjust the layout, save, and show\n",
    "plt.tight_layout(rect=[0, 0.03, 1, 0.95])\n",
    "plt.savefig(\"maps\")\n",
    "plt.show()\n"
   ]
  },
  {
   "cell_type": "markdown",
   "metadata": {},
   "source": [
    "## U-net"
   ]
  },
  {
   "cell_type": "markdown",
   "metadata": {},
   "source": [
    "### Model definition"
   ]
  },
  {
   "cell_type": "code",
   "execution_count": 16,
   "metadata": {},
   "outputs": [],
   "source": [
    "class DoubleConv(nn.Module):\n",
    "    def __init__(self, in_channels, out_channels):\n",
    "        super(DoubleConv, self).__init__()\n",
    "        self.double_conv = nn.Sequential(\n",
    "            nn.Conv2d(in_channels, out_channels, kernel_size=3, padding=1),\n",
    "            nn.BatchNorm2d(out_channels),\n",
    "            nn.ReLU(inplace=True),\n",
    "            nn.Conv2d(out_channels, out_channels, kernel_size=3, padding=1),\n",
    "            nn.BatchNorm2d(out_channels),\n",
    "            nn.ReLU(inplace=True)\n",
    "        )\n",
    "\n",
    "    def forward(self, x):\n",
    "        return self.double_conv(x)\n",
    "\n",
    "class UNet(nn.Module):\n",
    "    def __init__(self, in_channels=2, out_channels=1, features=[64, 128, 256, 512]):\n",
    "        super(UNet, self).__init__()\n",
    "        self.downs = nn.ModuleList()\n",
    "        self.ups = nn.ModuleList()\n",
    "        self.pool = nn.MaxPool2d(kernel_size=2, stride=2)\n",
    "\n",
    "        current_channels = in_channels\n",
    "        for feature in features:\n",
    "            self.downs.append(DoubleConv(current_channels, feature))\n",
    "            current_channels = feature\n",
    "\n",
    "        self.bottleneck = DoubleConv(features[-1], features[-1]*2)\n",
    "\n",
    "        for feature in reversed(features):\n",
    "            self.ups.append(\n",
    "                nn.ConvTranspose2d(feature * 2, feature, kernel_size=2, stride=2)\n",
    "            )\n",
    "            self.ups.append(DoubleConv(feature * 2, feature))\n",
    "\n",
    "        self.final_conv = nn.Conv2d(features[0], out_channels, kernel_size=1)\n",
    "\n",
    "    def forward(self, x):\n",
    "        skip_connections = []\n",
    "        for down in self.downs:\n",
    "            x = down(x)\n",
    "            skip_connections.append(x)\n",
    "            x = self.pool(x)\n",
    "\n",
    "        x = self.bottleneck(x)\n",
    "        skip_connections = skip_connections[::-1]\n",
    "\n",
    "        for i in range(0, len(self.ups), 2):\n",
    "            x = self.ups[i](x)\n",
    "            skip_connection = skip_connections[i // 2]\n",
    "            if x.shape != skip_connection.shape:\n",
    "                x = F.interpolate(x, size=skip_connection.shape[2:], mode=\"bilinear\", align_corners=True)\n",
    "            x = torch.cat((skip_connection, x), dim=1)\n",
    "            x = self.ups[i+1](x)\n",
    "\n",
    "        return self.final_conv(x)  \n"
   ]
  },
  {
   "cell_type": "markdown",
   "metadata": {},
   "source": [
    "### Custom loss"
   ]
  },
  {
   "cell_type": "code",
   "execution_count": 17,
   "metadata": {},
   "outputs": [],
   "source": [
    "def calculate_ratio(train_loader, detection_type):\n",
    "    \"\"\"Calculate ratio of positive samples in dataset from 2D labels\n",
    "\n",
    "    Args:\n",
    "        train_loader: DataLoader for the training set\n",
    "        detection_type: \"range\" or \"doppler\"\n",
    "    \n",
    "    Returns:\n",
    "        ratio: The fraction of bins that contain targets\n",
    "    \"\"\"\n",
    "    n1 = 0  # Count of bins with targets\n",
    "    n_total = len(train_loader.dataset) * 64  # Adjust if your range-doppler map size is different\n",
    "\n",
    "    for _, _, _, _, _, rd_label in train_loader:\n",
    "        # rd_label is [B, dR, dV]\n",
    "        # If detection_type == \"range\", sum over Doppler dimension (-1)\n",
    "        # If detection_type == \"doppler\", sum over Range dimension (-2)\n",
    "        \n",
    "        if detection_type == \"range\":\n",
    "            # Sum over Doppler dimension (last dimension)\n",
    "            label = (rd_label.sum(dim=-1) >= 1).float()\n",
    "        else:\n",
    "            # Sum over Range dimension (second last dimension)\n",
    "            label = (rd_label.sum(dim=-2) >= 1).float()\n",
    "\n",
    "        # Count how many bins are positive\n",
    "        n1 += torch.sum(label >= 0.9999)\n",
    "\n",
    "    ratio = n1.item() / n_total\n",
    "    print(\"ratio:\", ratio, \", n1:\", n1.item(), \", n_total:\", n_total)\n",
    "    return ratio\n"
   ]
  },
  {
   "cell_type": "code",
   "execution_count": 18,
   "metadata": {},
   "outputs": [],
   "source": [
    "class CBBCE(nn.Module):\n",
    "    def __init__(self, ratio: float, beta: float = 0.99):\n",
    "        \"\"\"\n",
    "        Class-Balanced Binary Cross Entropy Loss for logits.\n",
    "        \n",
    "        Args:\n",
    "            ratio: Ratio of positive samples (e.g., #positives / total_samples).\n",
    "            beta: Beta parameter for class balancing.\n",
    "        \"\"\"\n",
    "        super().__init__()\n",
    "        self.weight1 = (1 - beta) / (1 - beta ** ratio)\n",
    "        print(\"CBBCE weight for positives: \", self.weight1)\n",
    "\n",
    "    def forward(self, y_pred: torch.Tensor, y_true: torch.Tensor) -> torch.Tensor:\n",
    "        \"\"\"\n",
    "        Args:\n",
    "            y_pred: [B, N*K] logits\n",
    "            y_true: [B, N*K] target (0 or 1)\n",
    "        \"\"\"\n",
    "        # Compute element-wise BCE with logits\n",
    "        _nll2 = F.binary_cross_entropy_with_logits(y_pred, y_true, reduction='none')\n",
    "        \n",
    "        # Identify positive samples\n",
    "        # y_true is either 0 or 1. If exact 1 may be used:\n",
    "        ind1 = (y_true >= 0.9999).nonzero(as_tuple=False)  # Indices of positives\n",
    "        \n",
    "        # Weight the positive samples\n",
    "        if ind1.numel() > 0:\n",
    "            _nll_subset = self.weight1 * _nll2[ind1[:, 0], ind1[:, 1]]\n",
    "            _nll2 = _nll2.index_put_((ind1[:, 0], ind1[:, 1]), _nll_subset)\n",
    "        \n",
    "        # Mean loss\n",
    "        loss = torch.mean(_nll2)\n",
    "        return loss\n"
   ]
  },
  {
   "cell_type": "markdown",
   "metadata": {},
   "source": [
    "### Train IQ"
   ]
  },
  {
   "cell_type": "code",
   "execution_count": 19,
   "metadata": {},
   "outputs": [
    {
     "name": "stdout",
     "output_type": "stream",
     "text": [
      "ratio: 0.03418121337890625 , n1: 44802 , n_total: 1310720\n",
      "CBBCE weight for positives:  29.11431286990455\n",
      "Epoch 1/200\n",
      "Train Loss: 0.2501, Train Acc: 0.9784\n",
      "Val Loss: 0.1375,   Val Acc: 0.9993\n",
      "Val Precision: 0.0000, Val Recall: 0.0000, Val F1: 0.0000, Val Dice: 0.0000\n",
      "Epoch 2/200\n",
      "Train Loss: 0.1053, Train Acc: 0.9994\n",
      "Val Loss: 0.0866,   Val Acc: 0.9995\n",
      "Val Precision: 0.0000, Val Recall: 0.0000, Val F1: 0.0000, Val Dice: 0.0000\n",
      "Epoch 3/200\n",
      "Train Loss: 0.0820, Train Acc: 0.9994\n",
      "Val Loss: 0.0778,   Val Acc: 0.9994\n",
      "Val Precision: 0.0000, Val Recall: 0.0000, Val F1: 0.0000, Val Dice: 0.0000\n",
      "Epoch 4/200\n",
      "Train Loss: 0.0757, Train Acc: 0.9994\n",
      "Val Loss: 0.0750,   Val Acc: 0.9994\n",
      "Val Precision: 0.0000, Val Recall: 0.0000, Val F1: 0.0000, Val Dice: 0.0000\n",
      "Epoch 5/200\n",
      "Train Loss: 0.0734, Train Acc: 0.9994\n",
      "Val Loss: 0.0723,   Val Acc: 0.9995\n",
      "Val Precision: 0.0000, Val Recall: 0.0000, Val F1: 0.0000, Val Dice: 0.0000\n",
      "Epoch 6/200\n",
      "Train Loss: 0.0719, Train Acc: 0.9995\n",
      "Val Loss: 0.0841,   Val Acc: 0.9995\n",
      "Val Precision: 0.0000, Val Recall: 0.0000, Val F1: 0.0000, Val Dice: 0.0000\n",
      "Epoch 7/200\n",
      "Train Loss: 0.0712, Train Acc: 0.9995\n",
      "Val Loss: 0.0703,   Val Acc: 0.9995\n",
      "Val Precision: 0.0000, Val Recall: 0.0000, Val F1: 0.0000, Val Dice: 0.0000\n",
      "Epoch 8/200\n",
      "Train Loss: 0.0694, Train Acc: 0.9995\n",
      "Val Loss: 0.0692,   Val Acc: 0.9994\n",
      "Val Precision: 0.0000, Val Recall: 0.0000, Val F1: 0.0000, Val Dice: 0.0000\n",
      "Epoch 9/200\n",
      "Train Loss: 0.0688, Train Acc: 0.9994\n",
      "Val Loss: 0.0678,   Val Acc: 0.9995\n",
      "Val Precision: 0.0000, Val Recall: 0.0000, Val F1: 0.0000, Val Dice: 0.0000\n",
      "Epoch 10/200\n",
      "Train Loss: 0.0677, Train Acc: 0.9995\n",
      "Val Loss: 0.0658,   Val Acc: 0.9995\n",
      "Val Precision: 0.0000, Val Recall: 0.0000, Val F1: 0.0000, Val Dice: 0.0000\n",
      "Epoch 11/200\n",
      "Train Loss: 0.0672, Train Acc: 0.9994\n",
      "Val Loss: 0.0691,   Val Acc: 0.9995\n",
      "Val Precision: 0.0000, Val Recall: 0.0000, Val F1: 0.0000, Val Dice: 0.0000\n",
      "Epoch 12/200\n",
      "Train Loss: 0.0654, Train Acc: 0.9995\n",
      "Val Loss: 0.0647,   Val Acc: 0.9995\n",
      "Val Precision: 0.0000, Val Recall: 0.0000, Val F1: 0.0000, Val Dice: 0.0000\n",
      "Epoch 13/200\n",
      "Train Loss: 0.0645, Train Acc: 0.9995\n",
      "Val Loss: 0.0659,   Val Acc: 0.9994\n",
      "Val Precision: 0.0000, Val Recall: 0.0000, Val F1: 0.0000, Val Dice: 0.0000\n",
      "Epoch 14/200\n",
      "Train Loss: 0.0633, Train Acc: 0.9994\n",
      "Val Loss: 0.0617,   Val Acc: 0.9994\n",
      "Val Precision: 0.0649, Val Recall: 0.0097, Val F1: 0.0169, Val Dice: 0.0169\n",
      "Epoch 15/200\n",
      "Train Loss: 0.0623, Train Acc: 0.9993\n",
      "Val Loss: 0.0628,   Val Acc: 0.9994\n",
      "Val Precision: 0.0405, Val Recall: 0.0058, Val F1: 0.0101, Val Dice: 0.0101\n",
      "Epoch 16/200\n",
      "Train Loss: 0.0614, Train Acc: 0.9993\n",
      "Val Loss: 0.0615,   Val Acc: 0.9993\n",
      "Val Precision: 0.0355, Val Recall: 0.0143, Val F1: 0.0204, Val Dice: 0.0204\n",
      "Epoch 17/200\n",
      "Train Loss: 0.0603, Train Acc: 0.9992\n",
      "Val Loss: 0.0607,   Val Acc: 0.9991\n",
      "Val Precision: 0.0192, Val Recall: 0.0134, Val F1: 0.0158, Val Dice: 0.0158\n",
      "Epoch 18/200\n",
      "Train Loss: 0.0590, Train Acc: 0.9991\n",
      "Val Loss: 0.0597,   Val Acc: 0.9993\n",
      "Val Precision: 0.0171, Val Recall: 0.0056, Val F1: 0.0085, Val Dice: 0.0085\n",
      "Epoch 19/200\n",
      "Train Loss: 0.0576, Train Acc: 0.9991\n",
      "Val Loss: 0.0596,   Val Acc: 0.9991\n",
      "Val Precision: 0.0288, Val Recall: 0.0210, Val F1: 0.0243, Val Dice: 0.0243\n",
      "Epoch 20/200\n",
      "Train Loss: 0.0570, Train Acc: 0.9990\n",
      "Val Loss: 0.0573,   Val Acc: 0.9988\n",
      "Val Precision: 0.0381, Val Recall: 0.0526, Val F1: 0.0442, Val Dice: 0.0442\n",
      "Epoch 21/200\n",
      "Train Loss: 0.0559, Train Acc: 0.9989\n",
      "Val Loss: 0.0584,   Val Acc: 0.9990\n",
      "Val Precision: 0.0309, Val Recall: 0.0244, Val F1: 0.0273, Val Dice: 0.0273\n",
      "Epoch 22/200\n",
      "Train Loss: 0.0541, Train Acc: 0.9989\n",
      "Val Loss: 0.0535,   Val Acc: 0.9988\n",
      "Val Precision: 0.0463, Val Recall: 0.0555, Val F1: 0.0505, Val Dice: 0.0505\n",
      "Epoch 23/200\n",
      "Train Loss: 0.0535, Train Acc: 0.9987\n",
      "Val Loss: 0.0527,   Val Acc: 0.9990\n",
      "Val Precision: 0.0602, Val Recall: 0.0575, Val F1: 0.0588, Val Dice: 0.0588\n",
      "Epoch 24/200\n",
      "Train Loss: 0.0516, Train Acc: 0.9987\n",
      "Val Loss: 0.0532,   Val Acc: 0.9991\n",
      "Val Precision: 0.0597, Val Recall: 0.0379, Val F1: 0.0464, Val Dice: 0.0464\n",
      "Epoch 25/200\n",
      "Train Loss: 0.0508, Train Acc: 0.9986\n",
      "Val Loss: 0.0512,   Val Acc: 0.9984\n",
      "Val Precision: 0.0495, Val Recall: 0.1005, Val F1: 0.0663, Val Dice: 0.0663\n",
      "Epoch 26/200\n",
      "Train Loss: 0.0501, Train Acc: 0.9985\n",
      "Val Loss: 0.0510,   Val Acc: 0.9989\n",
      "Val Precision: 0.0657, Val Recall: 0.0792, Val F1: 0.0718, Val Dice: 0.0718\n",
      "Epoch 27/200\n",
      "Train Loss: 0.0485, Train Acc: 0.9984\n",
      "Val Loss: 0.0496,   Val Acc: 0.9981\n",
      "Val Precision: 0.0434, Val Recall: 0.1266, Val F1: 0.0647, Val Dice: 0.0647\n",
      "Epoch 28/200\n",
      "Train Loss: 0.0483, Train Acc: 0.9983\n",
      "Val Loss: 0.0477,   Val Acc: 0.9979\n",
      "Val Precision: 0.0495, Val Recall: 0.1487, Val F1: 0.0743, Val Dice: 0.0743\n",
      "Epoch 29/200\n",
      "Train Loss: 0.0469, Train Acc: 0.9983\n",
      "Val Loss: 0.0466,   Val Acc: 0.9988\n",
      "Val Precision: 0.0798, Val Recall: 0.1126, Val F1: 0.0934, Val Dice: 0.0934\n",
      "Epoch 30/200\n",
      "Train Loss: 0.0466, Train Acc: 0.9982\n",
      "Val Loss: 0.0459,   Val Acc: 0.9982\n",
      "Val Precision: 0.0687, Val Recall: 0.1572, Val F1: 0.0956, Val Dice: 0.0956\n",
      "Epoch 31/200\n",
      "Train Loss: 0.0461, Train Acc: 0.9981\n",
      "Val Loss: 0.0463,   Val Acc: 0.9980\n",
      "Val Precision: 0.0495, Val Recall: 0.1423, Val F1: 0.0735, Val Dice: 0.0735\n",
      "Epoch 32/200\n",
      "Train Loss: 0.0450, Train Acc: 0.9980\n",
      "Val Loss: 0.0463,   Val Acc: 0.9984\n",
      "Val Precision: 0.0660, Val Recall: 0.1491, Val F1: 0.0915, Val Dice: 0.0915\n",
      "Epoch 33/200\n",
      "Train Loss: 0.0443, Train Acc: 0.9979\n",
      "Val Loss: 0.0437,   Val Acc: 0.9979\n",
      "Val Precision: 0.0567, Val Recall: 0.1690, Val F1: 0.0849, Val Dice: 0.0849\n",
      "Epoch 34/200\n",
      "Train Loss: 0.0437, Train Acc: 0.9978\n",
      "Val Loss: 0.0443,   Val Acc: 0.9985\n",
      "Val Precision: 0.0735, Val Recall: 0.1351, Val F1: 0.0952, Val Dice: 0.0952\n",
      "Epoch 35/200\n",
      "Train Loss: 0.0432, Train Acc: 0.9977\n",
      "Val Loss: 0.0441,   Val Acc: 0.9978\n",
      "Val Precision: 0.0645, Val Recall: 0.2003, Val F1: 0.0976, Val Dice: 0.0976\n",
      "Epoch 36/200\n",
      "Train Loss: 0.0428, Train Acc: 0.9977\n",
      "Val Loss: 0.0434,   Val Acc: 0.9975\n",
      "Val Precision: 0.0510, Val Recall: 0.2138, Val F1: 0.0824, Val Dice: 0.0824\n",
      "Epoch 37/200\n",
      "Train Loss: 0.0420, Train Acc: 0.9976\n",
      "Val Loss: 0.0432,   Val Acc: 0.9981\n",
      "Val Precision: 0.0559, Val Recall: 0.1585, Val F1: 0.0827, Val Dice: 0.0827\n",
      "Epoch 38/200\n",
      "Train Loss: 0.0415, Train Acc: 0.9975\n",
      "Val Loss: 0.0426,   Val Acc: 0.9978\n",
      "Val Precision: 0.0627, Val Recall: 0.2289, Val F1: 0.0984, Val Dice: 0.0984\n",
      "Epoch 39/200\n",
      "Train Loss: 0.0407, Train Acc: 0.9974\n",
      "Val Loss: 0.0413,   Val Acc: 0.9978\n",
      "Val Precision: 0.0616, Val Recall: 0.2211, Val F1: 0.0964, Val Dice: 0.0964\n",
      "Epoch 40/200\n",
      "Train Loss: 0.0405, Train Acc: 0.9974\n",
      "Val Loss: 0.0417,   Val Acc: 0.9975\n",
      "Val Precision: 0.0590, Val Recall: 0.2445, Val F1: 0.0950, Val Dice: 0.0950\n",
      "Epoch 41/200\n",
      "Train Loss: 0.0403, Train Acc: 0.9973\n",
      "Val Loss: 0.0413,   Val Acc: 0.9974\n",
      "Val Precision: 0.0595, Val Recall: 0.2690, Val F1: 0.0975, Val Dice: 0.0975\n",
      "Epoch 42/200\n",
      "Train Loss: 0.0399, Train Acc: 0.9972\n",
      "Val Loss: 0.0409,   Val Acc: 0.9975\n",
      "Val Precision: 0.0613, Val Recall: 0.2646, Val F1: 0.0996, Val Dice: 0.0996\n",
      "Epoch 43/200\n",
      "Train Loss: 0.0387, Train Acc: 0.9972\n",
      "Val Loss: 0.0405,   Val Acc: 0.9972\n",
      "Val Precision: 0.0573, Val Recall: 0.2802, Val F1: 0.0952, Val Dice: 0.0952\n",
      "Epoch 44/200\n",
      "Train Loss: 0.0384, Train Acc: 0.9972\n",
      "Val Loss: 0.0400,   Val Acc: 0.9978\n",
      "Val Precision: 0.0704, Val Recall: 0.2524, Val F1: 0.1100, Val Dice: 0.1100\n",
      "Epoch 45/200\n",
      "Train Loss: 0.0383, Train Acc: 0.9972\n",
      "Val Loss: 0.0393,   Val Acc: 0.9976\n",
      "Val Precision: 0.0643, Val Recall: 0.2348, Val F1: 0.1010, Val Dice: 0.1010\n",
      "Epoch 46/200\n",
      "Train Loss: 0.0376, Train Acc: 0.9971\n",
      "Val Loss: 0.0376,   Val Acc: 0.9967\n",
      "Val Precision: 0.0628, Val Recall: 0.3905, Val F1: 0.1081, Val Dice: 0.1081\n",
      "Epoch 47/200\n",
      "Train Loss: 0.0371, Train Acc: 0.9971\n",
      "Val Loss: 0.0381,   Val Acc: 0.9976\n",
      "Val Precision: 0.0702, Val Recall: 0.2747, Val F1: 0.1118, Val Dice: 0.1118\n",
      "Epoch 48/200\n",
      "Train Loss: 0.0368, Train Acc: 0.9971\n",
      "Val Loss: 0.0377,   Val Acc: 0.9975\n",
      "Val Precision: 0.0759, Val Recall: 0.3133, Val F1: 0.1222, Val Dice: 0.1222\n",
      "Epoch 49/200\n",
      "Train Loss: 0.0368, Train Acc: 0.9970\n",
      "Val Loss: 0.0378,   Val Acc: 0.9976\n",
      "Val Precision: 0.0762, Val Recall: 0.2692, Val F1: 0.1187, Val Dice: 0.1187\n",
      "Epoch 50/200\n",
      "Train Loss: 0.0362, Train Acc: 0.9970\n",
      "Val Loss: 0.0383,   Val Acc: 0.9968\n",
      "Val Precision: 0.0660, Val Recall: 0.3704, Val F1: 0.1120, Val Dice: 0.1120\n",
      "Epoch 51/200\n",
      "Train Loss: 0.0358, Train Acc: 0.9970\n",
      "Val Loss: 0.0368,   Val Acc: 0.9977\n",
      "Val Precision: 0.0778, Val Recall: 0.3172, Val F1: 0.1250, Val Dice: 0.1250\n",
      "Epoch 52/200\n",
      "Train Loss: 0.0355, Train Acc: 0.9970\n",
      "Val Loss: 0.0366,   Val Acc: 0.9970\n",
      "Val Precision: 0.0673, Val Recall: 0.3215, Val F1: 0.1114, Val Dice: 0.1114\n",
      "Epoch 53/200\n",
      "Train Loss: 0.0354, Train Acc: 0.9969\n",
      "Val Loss: 0.0379,   Val Acc: 0.9968\n",
      "Val Precision: 0.0609, Val Recall: 0.3255, Val F1: 0.1026, Val Dice: 0.1026\n",
      "Epoch 54/200\n",
      "Train Loss: 0.0351, Train Acc: 0.9970\n",
      "Val Loss: 0.0346,   Val Acc: 0.9971\n",
      "Val Precision: 0.0740, Val Recall: 0.3825, Val F1: 0.1240, Val Dice: 0.1240\n",
      "Epoch 55/200\n",
      "Train Loss: 0.0345, Train Acc: 0.9969\n",
      "Val Loss: 0.0375,   Val Acc: 0.9971\n",
      "Val Precision: 0.0694, Val Recall: 0.3360, Val F1: 0.1150, Val Dice: 0.1150\n",
      "Epoch 56/200\n",
      "Train Loss: 0.0344, Train Acc: 0.9969\n",
      "Val Loss: 0.0346,   Val Acc: 0.9971\n",
      "Val Precision: 0.0751, Val Recall: 0.3710, Val F1: 0.1249, Val Dice: 0.1249\n",
      "Epoch 57/200\n",
      "Train Loss: 0.0337, Train Acc: 0.9970\n",
      "Val Loss: 0.0370,   Val Acc: 0.9969\n",
      "Val Precision: 0.0649, Val Recall: 0.3474, Val F1: 0.1094, Val Dice: 0.1094\n",
      "Epoch 58/200\n",
      "Train Loss: 0.0338, Train Acc: 0.9969\n",
      "Val Loss: 0.0360,   Val Acc: 0.9972\n",
      "Val Precision: 0.0747, Val Recall: 0.3614, Val F1: 0.1239, Val Dice: 0.1239\n",
      "Epoch 59/200\n",
      "Train Loss: 0.0332, Train Acc: 0.9969\n",
      "Val Loss: 0.0350,   Val Acc: 0.9967\n",
      "Val Precision: 0.0685, Val Recall: 0.3869, Val F1: 0.1164, Val Dice: 0.1164\n",
      "Epoch 60/200\n",
      "Train Loss: 0.0333, Train Acc: 0.9969\n",
      "Val Loss: 0.0345,   Val Acc: 0.9966\n",
      "Val Precision: 0.0686, Val Recall: 0.4027, Val F1: 0.1172, Val Dice: 0.1172\n",
      "Epoch 61/200\n",
      "Train Loss: 0.0332, Train Acc: 0.9969\n",
      "Val Loss: 0.0351,   Val Acc: 0.9969\n",
      "Val Precision: 0.0698, Val Recall: 0.3849, Val F1: 0.1181, Val Dice: 0.1181\n",
      "Epoch 62/200\n",
      "Train Loss: 0.0329, Train Acc: 0.9969\n",
      "Val Loss: 0.0325,   Val Acc: 0.9975\n",
      "Val Precision: 0.0958, Val Recall: 0.4224, Val F1: 0.1562, Val Dice: 0.1562\n",
      "Epoch 63/200\n",
      "Train Loss: 0.0324, Train Acc: 0.9969\n",
      "Val Loss: 0.0342,   Val Acc: 0.9970\n",
      "Val Precision: 0.0760, Val Recall: 0.4014, Val F1: 0.1279, Val Dice: 0.1279\n",
      "Epoch 64/200\n",
      "Train Loss: 0.0322, Train Acc: 0.9969\n",
      "Val Loss: 0.0334,   Val Acc: 0.9973\n",
      "Val Precision: 0.0840, Val Recall: 0.3768, Val F1: 0.1374, Val Dice: 0.1374\n",
      "Epoch 65/200\n",
      "Train Loss: 0.0323, Train Acc: 0.9969\n",
      "Val Loss: 0.0337,   Val Acc: 0.9969\n",
      "Val Precision: 0.0766, Val Recall: 0.4146, Val F1: 0.1293, Val Dice: 0.1293\n",
      "Epoch 66/200\n",
      "Train Loss: 0.0316, Train Acc: 0.9969\n",
      "Val Loss: 0.0342,   Val Acc: 0.9972\n",
      "Val Precision: 0.0805, Val Recall: 0.3847, Val F1: 0.1331, Val Dice: 0.1331\n",
      "Epoch 67/200\n",
      "Train Loss: 0.0314, Train Acc: 0.9968\n",
      "Val Loss: 0.0308,   Val Acc: 0.9972\n",
      "Val Precision: 0.0858, Val Recall: 0.4227, Val F1: 0.1427, Val Dice: 0.1427\n",
      "Epoch 68/200\n",
      "Train Loss: 0.0310, Train Acc: 0.9969\n",
      "Val Loss: 0.0332,   Val Acc: 0.9965\n",
      "Val Precision: 0.0767, Val Recall: 0.4618, Val F1: 0.1316, Val Dice: 0.1316\n",
      "Epoch 69/200\n",
      "Train Loss: 0.0315, Train Acc: 0.9968\n",
      "Val Loss: 0.0327,   Val Acc: 0.9964\n",
      "Val Precision: 0.0809, Val Recall: 0.5049, Val F1: 0.1395, Val Dice: 0.1395\n",
      "Epoch 70/200\n",
      "Train Loss: 0.0309, Train Acc: 0.9969\n",
      "Val Loss: 0.0337,   Val Acc: 0.9972\n",
      "Val Precision: 0.0917, Val Recall: 0.4374, Val F1: 0.1517, Val Dice: 0.1517\n",
      "Epoch 71/200\n",
      "Train Loss: 0.0307, Train Acc: 0.9969\n",
      "Val Loss: 0.0322,   Val Acc: 0.9966\n",
      "Val Precision: 0.0692, Val Recall: 0.4498, Val F1: 0.1200, Val Dice: 0.1200\n",
      "Epoch 72/200\n",
      "Train Loss: 0.0309, Train Acc: 0.9968\n",
      "Val Loss: 0.0330,   Val Acc: 0.9968\n",
      "Val Precision: 0.0731, Val Recall: 0.4321, Val F1: 0.1251, Val Dice: 0.1251\n",
      "Epoch 73/200\n",
      "Train Loss: 0.0304, Train Acc: 0.9969\n",
      "Val Loss: 0.0324,   Val Acc: 0.9967\n",
      "Val Precision: 0.0790, Val Recall: 0.4501, Val F1: 0.1343, Val Dice: 0.1343\n",
      "Epoch 74/200\n",
      "Train Loss: 0.0304, Train Acc: 0.9968\n",
      "Val Loss: 0.0299,   Val Acc: 0.9967\n",
      "Val Precision: 0.0840, Val Recall: 0.4980, Val F1: 0.1438, Val Dice: 0.1438\n",
      "Epoch 75/200\n",
      "Train Loss: 0.0298, Train Acc: 0.9969\n",
      "Val Loss: 0.0321,   Val Acc: 0.9968\n",
      "Val Precision: 0.0784, Val Recall: 0.4396, Val F1: 0.1331, Val Dice: 0.1331\n",
      "Epoch 76/200\n",
      "Train Loss: 0.0297, Train Acc: 0.9969\n",
      "Val Loss: 0.0302,   Val Acc: 0.9970\n",
      "Val Precision: 0.0871, Val Recall: 0.4679, Val F1: 0.1468, Val Dice: 0.1468\n",
      "Epoch 77/200\n",
      "Train Loss: 0.0295, Train Acc: 0.9969\n",
      "Val Loss: 0.0307,   Val Acc: 0.9969\n",
      "Val Precision: 0.0929, Val Recall: 0.5050, Val F1: 0.1569, Val Dice: 0.1569\n",
      "Epoch 78/200\n",
      "Train Loss: 0.0292, Train Acc: 0.9969\n",
      "Val Loss: 0.0310,   Val Acc: 0.9969\n",
      "Val Precision: 0.0872, Val Recall: 0.4896, Val F1: 0.1480, Val Dice: 0.1480\n",
      "Epoch 79/200\n",
      "Train Loss: 0.0296, Train Acc: 0.9969\n",
      "Val Loss: 0.0310,   Val Acc: 0.9969\n",
      "Val Precision: 0.0859, Val Recall: 0.4840, Val F1: 0.1460, Val Dice: 0.1460\n",
      "Epoch 80/200\n",
      "Train Loss: 0.0292, Train Acc: 0.9969\n",
      "Val Loss: 0.0307,   Val Acc: 0.9968\n",
      "Val Precision: 0.0781, Val Recall: 0.4586, Val F1: 0.1335, Val Dice: 0.1335\n",
      "Epoch 81/200\n",
      "Train Loss: 0.0289, Train Acc: 0.9969\n",
      "Val Loss: 0.0288,   Val Acc: 0.9970\n",
      "Val Precision: 0.0956, Val Recall: 0.5314, Val F1: 0.1621, Val Dice: 0.1621\n",
      "Epoch 82/200\n",
      "Train Loss: 0.0283, Train Acc: 0.9969\n",
      "Val Loss: 0.0290,   Val Acc: 0.9970\n",
      "Val Precision: 0.0920, Val Recall: 0.5176, Val F1: 0.1562, Val Dice: 0.1562\n",
      "Epoch 83/200\n",
      "Train Loss: 0.0288, Train Acc: 0.9969\n",
      "Val Loss: 0.0294,   Val Acc: 0.9970\n",
      "Val Precision: 0.0907, Val Recall: 0.4948, Val F1: 0.1533, Val Dice: 0.1533\n",
      "Epoch 84/200\n",
      "Train Loss: 0.0286, Train Acc: 0.9969\n",
      "Val Loss: 0.0280,   Val Acc: 0.9970\n",
      "Val Precision: 0.0982, Val Recall: 0.5832, Val F1: 0.1681, Val Dice: 0.1681\n",
      "Epoch 85/200\n",
      "Train Loss: 0.0280, Train Acc: 0.9969\n",
      "Val Loss: 0.0284,   Val Acc: 0.9970\n",
      "Val Precision: 0.0932, Val Recall: 0.5325, Val F1: 0.1586, Val Dice: 0.1586\n",
      "Epoch 86/200\n",
      "Train Loss: 0.0283, Train Acc: 0.9969\n",
      "Val Loss: 0.0285,   Val Acc: 0.9969\n",
      "Val Precision: 0.0967, Val Recall: 0.5499, Val F1: 0.1645, Val Dice: 0.1645\n",
      "Epoch 87/200\n",
      "Train Loss: 0.0278, Train Acc: 0.9969\n",
      "Val Loss: 0.0291,   Val Acc: 0.9969\n",
      "Val Precision: 0.0899, Val Recall: 0.5270, Val F1: 0.1537, Val Dice: 0.1537\n",
      "Epoch 88/200\n",
      "Train Loss: 0.0279, Train Acc: 0.9969\n",
      "Val Loss: 0.0288,   Val Acc: 0.9969\n",
      "Val Precision: 0.0926, Val Recall: 0.5403, Val F1: 0.1580, Val Dice: 0.1580\n",
      "Epoch 89/200\n",
      "Train Loss: 0.0280, Train Acc: 0.9969\n",
      "Val Loss: 0.0296,   Val Acc: 0.9970\n",
      "Val Precision: 0.0854, Val Recall: 0.4653, Val F1: 0.1443, Val Dice: 0.1443\n",
      "Epoch 90/200\n",
      "Train Loss: 0.0278, Train Acc: 0.9969\n",
      "Val Loss: 0.0280,   Val Acc: 0.9967\n",
      "Val Precision: 0.0910, Val Recall: 0.5684, Val F1: 0.1569, Val Dice: 0.1569\n",
      "Epoch 91/200\n",
      "Train Loss: 0.0273, Train Acc: 0.9969\n",
      "Val Loss: 0.0299,   Val Acc: 0.9967\n",
      "Val Precision: 0.0831, Val Recall: 0.5062, Val F1: 0.1428, Val Dice: 0.1428\n",
      "Epoch 92/200\n",
      "Train Loss: 0.0275, Train Acc: 0.9969\n",
      "Val Loss: 0.0277,   Val Acc: 0.9973\n",
      "Val Precision: 0.1030, Val Recall: 0.5271, Val F1: 0.1723, Val Dice: 0.1723\n",
      "Epoch 93/200\n",
      "Train Loss: 0.0270, Train Acc: 0.9969\n",
      "Val Loss: 0.0274,   Val Acc: 0.9970\n",
      "Val Precision: 0.1006, Val Recall: 0.5552, Val F1: 0.1704, Val Dice: 0.1704\n",
      "Epoch 94/200\n",
      "Train Loss: 0.0270, Train Acc: 0.9969\n",
      "Val Loss: 0.0292,   Val Acc: 0.9969\n",
      "Val Precision: 0.0890, Val Recall: 0.5017, Val F1: 0.1512, Val Dice: 0.1512\n",
      "Epoch 95/200\n",
      "Train Loss: 0.0270, Train Acc: 0.9969\n",
      "Val Loss: 0.0278,   Val Acc: 0.9969\n",
      "Val Precision: 0.0901, Val Recall: 0.5134, Val F1: 0.1533, Val Dice: 0.1533\n",
      "Epoch 96/200\n",
      "Train Loss: 0.0272, Train Acc: 0.9969\n",
      "Val Loss: 0.0274,   Val Acc: 0.9968\n",
      "Val Precision: 0.0962, Val Recall: 0.5519, Val F1: 0.1638, Val Dice: 0.1638\n",
      "Epoch 97/200\n",
      "Train Loss: 0.0266, Train Acc: 0.9969\n",
      "Val Loss: 0.0274,   Val Acc: 0.9970\n",
      "Val Precision: 0.0975, Val Recall: 0.5660, Val F1: 0.1664, Val Dice: 0.1664\n",
      "Epoch 98/200\n",
      "Train Loss: 0.0267, Train Acc: 0.9969\n",
      "Val Loss: 0.0278,   Val Acc: 0.9968\n",
      "Val Precision: 0.0913, Val Recall: 0.5429, Val F1: 0.1563, Val Dice: 0.1563\n",
      "Epoch 99/200\n",
      "Train Loss: 0.0265, Train Acc: 0.9969\n",
      "Val Loss: 0.0272,   Val Acc: 0.9970\n",
      "Val Precision: 0.1007, Val Recall: 0.5556, Val F1: 0.1704, Val Dice: 0.1704\n",
      "Epoch 100/200\n",
      "Train Loss: 0.0266, Train Acc: 0.9969\n",
      "Val Loss: 0.0282,   Val Acc: 0.9967\n",
      "Val Precision: 0.0894, Val Recall: 0.5628, Val F1: 0.1542, Val Dice: 0.1542\n",
      "Epoch 101/200\n",
      "Train Loss: 0.0263, Train Acc: 0.9969\n",
      "Val Loss: 0.0277,   Val Acc: 0.9970\n",
      "Val Precision: 0.0944, Val Recall: 0.5119, Val F1: 0.1593, Val Dice: 0.1593\n",
      "Epoch 102/200\n",
      "Train Loss: 0.0261, Train Acc: 0.9970\n",
      "Val Loss: 0.0275,   Val Acc: 0.9970\n",
      "Val Precision: 0.1008, Val Recall: 0.5557, Val F1: 0.1706, Val Dice: 0.1706\n",
      "Epoch 103/200\n",
      "Train Loss: 0.0262, Train Acc: 0.9970\n",
      "Val Loss: 0.0272,   Val Acc: 0.9971\n",
      "Val Precision: 0.0979, Val Recall: 0.5495, Val F1: 0.1662, Val Dice: 0.1662\n",
      "Epoch 104/200\n",
      "Train Loss: 0.0261, Train Acc: 0.9969\n",
      "Val Loss: 0.0264,   Val Acc: 0.9969\n",
      "Val Precision: 0.1019, Val Recall: 0.5984, Val F1: 0.1741, Val Dice: 0.1741\n",
      "Epoch 105/200\n",
      "Train Loss: 0.0263, Train Acc: 0.9969\n",
      "Val Loss: 0.0263,   Val Acc: 0.9971\n",
      "Val Precision: 0.1074, Val Recall: 0.5705, Val F1: 0.1807, Val Dice: 0.1807\n",
      "Epoch 106/200\n",
      "Train Loss: 0.0258, Train Acc: 0.9969\n",
      "Val Loss: 0.0272,   Val Acc: 0.9970\n",
      "Val Precision: 0.0929, Val Recall: 0.5357, Val F1: 0.1584, Val Dice: 0.1584\n",
      "Epoch 107/200\n",
      "Train Loss: 0.0256, Train Acc: 0.9970\n",
      "Val Loss: 0.0270,   Val Acc: 0.9969\n",
      "Val Precision: 0.1051, Val Recall: 0.5710, Val F1: 0.1775, Val Dice: 0.1775\n",
      "Epoch 108/200\n",
      "Train Loss: 0.0260, Train Acc: 0.9969\n",
      "Val Loss: 0.0270,   Val Acc: 0.9967\n",
      "Val Precision: 0.0899, Val Recall: 0.5501, Val F1: 0.1545, Val Dice: 0.1545\n",
      "Epoch 109/200\n",
      "Train Loss: 0.0261, Train Acc: 0.9969\n",
      "Val Loss: 0.0266,   Val Acc: 0.9969\n",
      "Val Precision: 0.0950, Val Recall: 0.5624, Val F1: 0.1625, Val Dice: 0.1625\n",
      "Epoch 110/200\n",
      "Train Loss: 0.0256, Train Acc: 0.9970\n",
      "Val Loss: 0.0277,   Val Acc: 0.9966\n",
      "Val Precision: 0.0942, Val Recall: 0.5616, Val F1: 0.1613, Val Dice: 0.1613\n",
      "Epoch 111/200\n",
      "Train Loss: 0.0258, Train Acc: 0.9969\n",
      "Val Loss: 0.0259,   Val Acc: 0.9967\n",
      "Val Precision: 0.0961, Val Recall: 0.5985, Val F1: 0.1657, Val Dice: 0.1657\n",
      "Epoch 112/200\n",
      "Train Loss: 0.0257, Train Acc: 0.9969\n",
      "Val Loss: 0.0257,   Val Acc: 0.9968\n",
      "Val Precision: 0.0968, Val Recall: 0.5976, Val F1: 0.1666, Val Dice: 0.1666\n",
      "Epoch 113/200\n",
      "Train Loss: 0.0253, Train Acc: 0.9970\n",
      "Val Loss: 0.0263,   Val Acc: 0.9969\n",
      "Val Precision: 0.1010, Val Recall: 0.5719, Val F1: 0.1717, Val Dice: 0.1717\n",
      "Epoch 114/200\n",
      "Train Loss: 0.0256, Train Acc: 0.9969\n",
      "Val Loss: 0.0261,   Val Acc: 0.9971\n",
      "Val Precision: 0.1090, Val Recall: 0.5993, Val F1: 0.1845, Val Dice: 0.1845\n",
      "Epoch 115/200\n",
      "Train Loss: 0.0252, Train Acc: 0.9970\n",
      "Val Loss: 0.0253,   Val Acc: 0.9974\n",
      "Val Precision: 0.1132, Val Recall: 0.5463, Val F1: 0.1875, Val Dice: 0.1875\n",
      "Epoch 116/200\n",
      "Train Loss: 0.0251, Train Acc: 0.9970\n",
      "Val Loss: 0.0267,   Val Acc: 0.9970\n",
      "Val Precision: 0.1100, Val Recall: 0.6042, Val F1: 0.1862, Val Dice: 0.1862\n",
      "Epoch 117/200\n",
      "Train Loss: 0.0253, Train Acc: 0.9969\n",
      "Val Loss: 0.0259,   Val Acc: 0.9972\n",
      "Val Precision: 0.1133, Val Recall: 0.6179, Val F1: 0.1915, Val Dice: 0.1915\n",
      "Epoch 118/200\n",
      "Train Loss: 0.0254, Train Acc: 0.9969\n",
      "Val Loss: 0.0256,   Val Acc: 0.9968\n",
      "Val Precision: 0.0974, Val Recall: 0.6158, Val F1: 0.1682, Val Dice: 0.1682\n",
      "Epoch 119/200\n",
      "Train Loss: 0.0250, Train Acc: 0.9970\n",
      "Val Loss: 0.0260,   Val Acc: 0.9971\n",
      "Val Precision: 0.1092, Val Recall: 0.5821, Val F1: 0.1840, Val Dice: 0.1840\n",
      "Epoch 120/200\n",
      "Train Loss: 0.0247, Train Acc: 0.9970\n",
      "Val Loss: 0.0253,   Val Acc: 0.9971\n",
      "Val Precision: 0.1061, Val Recall: 0.6004, Val F1: 0.1803, Val Dice: 0.1803\n",
      "Epoch 121/200\n",
      "Train Loss: 0.0249, Train Acc: 0.9970\n",
      "Val Loss: 0.0254,   Val Acc: 0.9973\n",
      "Val Precision: 0.1108, Val Recall: 0.5745, Val F1: 0.1858, Val Dice: 0.1858\n",
      "Epoch 122/200\n",
      "Train Loss: 0.0246, Train Acc: 0.9970\n",
      "Val Loss: 0.0264,   Val Acc: 0.9967\n",
      "Val Precision: 0.0944, Val Recall: 0.5989, Val F1: 0.1630, Val Dice: 0.1630\n",
      "Epoch 123/200\n",
      "Train Loss: 0.0242, Train Acc: 0.9970\n",
      "Val Loss: 0.0253,   Val Acc: 0.9968\n",
      "Val Precision: 0.1004, Val Recall: 0.6187, Val F1: 0.1728, Val Dice: 0.1728\n",
      "Epoch 124/200\n",
      "Train Loss: 0.0243, Train Acc: 0.9971\n",
      "Val Loss: 0.0258,   Val Acc: 0.9967\n",
      "Val Precision: 0.1016, Val Recall: 0.6326, Val F1: 0.1751, Val Dice: 0.1751\n",
      "Epoch 125/200\n",
      "Train Loss: 0.0246, Train Acc: 0.9970\n",
      "Val Loss: 0.0258,   Val Acc: 0.9969\n",
      "Val Precision: 0.0917, Val Recall: 0.5588, Val F1: 0.1576, Val Dice: 0.1576\n",
      "Epoch 126/200\n",
      "Train Loss: 0.0247, Train Acc: 0.9971\n",
      "Val Loss: 0.0252,   Val Acc: 0.9971\n",
      "Val Precision: 0.1082, Val Recall: 0.5926, Val F1: 0.1830, Val Dice: 0.1830\n",
      "Epoch 127/200\n",
      "Train Loss: 0.0244, Train Acc: 0.9970\n",
      "Val Loss: 0.0251,   Val Acc: 0.9970\n",
      "Val Precision: 0.1074, Val Recall: 0.6147, Val F1: 0.1829, Val Dice: 0.1829\n",
      "Epoch 128/200\n",
      "Train Loss: 0.0246, Train Acc: 0.9970\n",
      "Val Loss: 0.0249,   Val Acc: 0.9970\n",
      "Val Precision: 0.1013, Val Recall: 0.5722, Val F1: 0.1721, Val Dice: 0.1721\n",
      "Epoch 129/200\n",
      "Train Loss: 0.0239, Train Acc: 0.9971\n",
      "Val Loss: 0.0249,   Val Acc: 0.9970\n",
      "Val Precision: 0.1051, Val Recall: 0.5851, Val F1: 0.1782, Val Dice: 0.1782\n",
      "Epoch 130/200\n",
      "Train Loss: 0.0243, Train Acc: 0.9971\n",
      "Val Loss: 0.0249,   Val Acc: 0.9971\n",
      "Val Precision: 0.1157, Val Recall: 0.5975, Val F1: 0.1939, Val Dice: 0.1939\n",
      "Epoch 131/200\n",
      "Train Loss: 0.0244, Train Acc: 0.9970\n",
      "Val Loss: 0.0248,   Val Acc: 0.9969\n",
      "Val Precision: 0.1036, Val Recall: 0.6202, Val F1: 0.1776, Val Dice: 0.1776\n",
      "Epoch 132/200\n",
      "Train Loss: 0.0241, Train Acc: 0.9970\n",
      "Val Loss: 0.0239,   Val Acc: 0.9973\n",
      "Val Precision: 0.1180, Val Recall: 0.6262, Val F1: 0.1985, Val Dice: 0.1985\n",
      "Epoch 133/200\n",
      "Train Loss: 0.0241, Train Acc: 0.9970\n",
      "Val Loss: 0.0251,   Val Acc: 0.9969\n",
      "Val Precision: 0.1082, Val Recall: 0.6164, Val F1: 0.1840, Val Dice: 0.1840\n",
      "Epoch 134/200\n",
      "Train Loss: 0.0242, Train Acc: 0.9970\n",
      "Val Loss: 0.0247,   Val Acc: 0.9972\n",
      "Val Precision: 0.1099, Val Recall: 0.5807, Val F1: 0.1849, Val Dice: 0.1849\n",
      "Epoch 135/200\n",
      "Train Loss: 0.0241, Train Acc: 0.9970\n",
      "Val Loss: 0.0255,   Val Acc: 0.9970\n",
      "Val Precision: 0.1078, Val Recall: 0.6225, Val F1: 0.1838, Val Dice: 0.1838\n",
      "Epoch 136/200\n",
      "Train Loss: 0.0242, Train Acc: 0.9970\n",
      "Val Loss: 0.0247,   Val Acc: 0.9968\n",
      "Val Precision: 0.1026, Val Recall: 0.6479, Val F1: 0.1772, Val Dice: 0.1772\n",
      "Epoch 137/200\n",
      "Train Loss: 0.0239, Train Acc: 0.9970\n",
      "Val Loss: 0.0245,   Val Acc: 0.9970\n",
      "Val Precision: 0.1098, Val Recall: 0.6237, Val F1: 0.1867, Val Dice: 0.1867\n",
      "Epoch 138/200\n",
      "Train Loss: 0.0237, Train Acc: 0.9970\n",
      "Val Loss: 0.0259,   Val Acc: 0.9973\n",
      "Val Precision: 0.1137, Val Recall: 0.5748, Val F1: 0.1899, Val Dice: 0.1899\n",
      "Epoch 139/200\n",
      "Train Loss: 0.0241, Train Acc: 0.9971\n",
      "Val Loss: 0.0240,   Val Acc: 0.9972\n",
      "Val Precision: 0.1135, Val Recall: 0.5942, Val F1: 0.1906, Val Dice: 0.1906\n",
      "Epoch 140/200\n",
      "Train Loss: 0.0235, Train Acc: 0.9971\n",
      "Val Loss: 0.0247,   Val Acc: 0.9972\n",
      "Val Precision: 0.1159, Val Recall: 0.5955, Val F1: 0.1941, Val Dice: 0.1941\n",
      "Epoch 141/200\n",
      "Train Loss: 0.0237, Train Acc: 0.9971\n",
      "Val Loss: 0.0246,   Val Acc: 0.9969\n",
      "Val Precision: 0.1117, Val Recall: 0.6555, Val F1: 0.1909, Val Dice: 0.1909\n",
      "Epoch 142/200\n",
      "Train Loss: 0.0235, Train Acc: 0.9971\n",
      "Val Loss: 0.0256,   Val Acc: 0.9968\n",
      "Val Precision: 0.1004, Val Recall: 0.5787, Val F1: 0.1711, Val Dice: 0.1711\n",
      "Epoch 143/200\n",
      "Train Loss: 0.0234, Train Acc: 0.9971\n",
      "Val Loss: 0.0242,   Val Acc: 0.9970\n",
      "Val Precision: 0.1122, Val Recall: 0.6517, Val F1: 0.1914, Val Dice: 0.1914\n",
      "Epoch 144/200\n",
      "Train Loss: 0.0231, Train Acc: 0.9971\n",
      "Val Loss: 0.0245,   Val Acc: 0.9970\n",
      "Val Precision: 0.1106, Val Recall: 0.6000, Val F1: 0.1868, Val Dice: 0.1868\n",
      "Epoch 145/200\n",
      "Train Loss: 0.0232, Train Acc: 0.9971\n",
      "Val Loss: 0.0237,   Val Acc: 0.9973\n",
      "Val Precision: 0.1183, Val Recall: 0.6097, Val F1: 0.1982, Val Dice: 0.1982\n",
      "Epoch 146/200\n",
      "Train Loss: 0.0233, Train Acc: 0.9971\n",
      "Val Loss: 0.0241,   Val Acc: 0.9971\n",
      "Val Precision: 0.1083, Val Recall: 0.6079, Val F1: 0.1839, Val Dice: 0.1839\n",
      "Epoch 147/200\n",
      "Train Loss: 0.0232, Train Acc: 0.9971\n",
      "Val Loss: 0.0245,   Val Acc: 0.9969\n",
      "Val Precision: 0.1041, Val Recall: 0.6145, Val F1: 0.1780, Val Dice: 0.1780\n",
      "Epoch 148/200\n",
      "Train Loss: 0.0231, Train Acc: 0.9971\n",
      "Val Loss: 0.0237,   Val Acc: 0.9970\n",
      "Val Precision: 0.1152, Val Recall: 0.6403, Val F1: 0.1953, Val Dice: 0.1953\n",
      "Epoch 149/200\n",
      "Train Loss: 0.0231, Train Acc: 0.9971\n",
      "Val Loss: 0.0234,   Val Acc: 0.9972\n",
      "Val Precision: 0.1206, Val Recall: 0.6471, Val F1: 0.2033, Val Dice: 0.2033\n",
      "Epoch 150/200\n",
      "Train Loss: 0.0232, Train Acc: 0.9971\n",
      "Val Loss: 0.0238,   Val Acc: 0.9971\n",
      "Val Precision: 0.1214, Val Recall: 0.6343, Val F1: 0.2037, Val Dice: 0.2037\n",
      "Epoch 151/200\n",
      "Train Loss: 0.0231, Train Acc: 0.9971\n",
      "Val Loss: 0.0239,   Val Acc: 0.9969\n",
      "Val Precision: 0.1095, Val Recall: 0.6382, Val F1: 0.1869, Val Dice: 0.1869\n",
      "Epoch 152/200\n",
      "Train Loss: 0.0230, Train Acc: 0.9971\n",
      "Val Loss: 0.0241,   Val Acc: 0.9970\n",
      "Val Precision: 0.1119, Val Recall: 0.6264, Val F1: 0.1898, Val Dice: 0.1898\n",
      "Epoch 153/200\n",
      "Train Loss: 0.0230, Train Acc: 0.9971\n",
      "Val Loss: 0.0238,   Val Acc: 0.9971\n",
      "Val Precision: 0.1199, Val Recall: 0.6548, Val F1: 0.2027, Val Dice: 0.2027\n",
      "Epoch 154/200\n",
      "Train Loss: 0.0228, Train Acc: 0.9971\n",
      "Val Loss: 0.0237,   Val Acc: 0.9971\n",
      "Val Precision: 0.1167, Val Recall: 0.6547, Val F1: 0.1981, Val Dice: 0.1981\n",
      "Epoch 155/200\n",
      "Train Loss: 0.0229, Train Acc: 0.9971\n",
      "Val Loss: 0.0245,   Val Acc: 0.9972\n",
      "Val Precision: 0.1052, Val Recall: 0.5944, Val F1: 0.1788, Val Dice: 0.1788\n",
      "Epoch 156/200\n",
      "Train Loss: 0.0226, Train Acc: 0.9972\n",
      "Val Loss: 0.0229,   Val Acc: 0.9971\n",
      "Val Precision: 0.1161, Val Recall: 0.6364, Val F1: 0.1964, Val Dice: 0.1964\n",
      "Epoch 157/200\n",
      "Train Loss: 0.0223, Train Acc: 0.9972\n",
      "Val Loss: 0.0230,   Val Acc: 0.9972\n",
      "Val Precision: 0.1230, Val Recall: 0.6270, Val F1: 0.2056, Val Dice: 0.2056\n",
      "Epoch 158/200\n",
      "Train Loss: 0.0226, Train Acc: 0.9971\n",
      "Val Loss: 0.0236,   Val Acc: 0.9970\n",
      "Val Precision: 0.1113, Val Recall: 0.6316, Val F1: 0.1893, Val Dice: 0.1893\n",
      "Epoch 159/200\n",
      "Train Loss: 0.0227, Train Acc: 0.9971\n",
      "Val Loss: 0.0231,   Val Acc: 0.9973\n",
      "Val Precision: 0.1144, Val Recall: 0.5945, Val F1: 0.1919, Val Dice: 0.1919\n",
      "Epoch 160/200\n",
      "Train Loss: 0.0227, Train Acc: 0.9971\n",
      "Val Loss: 0.0236,   Val Acc: 0.9972\n",
      "Val Precision: 0.1150, Val Recall: 0.6434, Val F1: 0.1952, Val Dice: 0.1952\n",
      "Epoch 161/200\n",
      "Train Loss: 0.0222, Train Acc: 0.9972\n",
      "Val Loss: 0.0234,   Val Acc: 0.9971\n",
      "Val Precision: 0.1091, Val Recall: 0.6192, Val F1: 0.1855, Val Dice: 0.1855\n",
      "Epoch 162/200\n",
      "Train Loss: 0.0225, Train Acc: 0.9971\n",
      "Val Loss: 0.0229,   Val Acc: 0.9970\n",
      "Val Precision: 0.1194, Val Recall: 0.6791, Val F1: 0.2031, Val Dice: 0.2031\n",
      "Epoch 163/200\n",
      "Train Loss: 0.0226, Train Acc: 0.9972\n",
      "Val Loss: 0.0225,   Val Acc: 0.9972\n",
      "Val Precision: 0.1226, Val Recall: 0.6612, Val F1: 0.2068, Val Dice: 0.2068\n",
      "Epoch 164/200\n",
      "Train Loss: 0.0222, Train Acc: 0.9972\n",
      "Val Loss: 0.0228,   Val Acc: 0.9971\n",
      "Val Precision: 0.1202, Val Recall: 0.6563, Val F1: 0.2032, Val Dice: 0.2032\n",
      "Epoch 165/200\n",
      "Train Loss: 0.0219, Train Acc: 0.9972\n",
      "Val Loss: 0.0219,   Val Acc: 0.9972\n",
      "Val Precision: 0.1233, Val Recall: 0.6688, Val F1: 0.2082, Val Dice: 0.2082\n",
      "Epoch 166/200\n",
      "Train Loss: 0.0223, Train Acc: 0.9972\n",
      "Val Loss: 0.0219,   Val Acc: 0.9974\n",
      "Val Precision: 0.1206, Val Recall: 0.6300, Val F1: 0.2024, Val Dice: 0.2024\n",
      "Epoch 167/200\n",
      "Train Loss: 0.0221, Train Acc: 0.9972\n",
      "Val Loss: 0.0222,   Val Acc: 0.9974\n",
      "Val Precision: 0.1257, Val Recall: 0.6493, Val F1: 0.2106, Val Dice: 0.2106\n",
      "Epoch 168/200\n",
      "Train Loss: 0.0224, Train Acc: 0.9971\n",
      "Val Loss: 0.0230,   Val Acc: 0.9972\n",
      "Val Precision: 0.1232, Val Recall: 0.6519, Val F1: 0.2073, Val Dice: 0.2073\n",
      "Epoch 169/200\n",
      "Train Loss: 0.0221, Train Acc: 0.9972\n",
      "Val Loss: 0.0224,   Val Acc: 0.9971\n",
      "Val Precision: 0.1133, Val Recall: 0.6609, Val F1: 0.1935, Val Dice: 0.1935\n",
      "Epoch 170/200\n",
      "Train Loss: 0.0218, Train Acc: 0.9972\n",
      "Val Loss: 0.0224,   Val Acc: 0.9972\n",
      "Val Precision: 0.1179, Val Recall: 0.6465, Val F1: 0.1994, Val Dice: 0.1994\n",
      "Epoch 171/200\n",
      "Train Loss: 0.0222, Train Acc: 0.9972\n",
      "Val Loss: 0.0218,   Val Acc: 0.9971\n",
      "Val Precision: 0.1196, Val Recall: 0.6706, Val F1: 0.2030, Val Dice: 0.2030\n",
      "Epoch 172/200\n",
      "Train Loss: 0.0218, Train Acc: 0.9972\n",
      "Val Loss: 0.0221,   Val Acc: 0.9972\n",
      "Val Precision: 0.1193, Val Recall: 0.6481, Val F1: 0.2015, Val Dice: 0.2015\n",
      "Epoch 173/200\n",
      "Train Loss: 0.0220, Train Acc: 0.9972\n",
      "Val Loss: 0.0227,   Val Acc: 0.9973\n",
      "Val Precision: 0.1287, Val Recall: 0.6537, Val F1: 0.2150, Val Dice: 0.2150\n",
      "Epoch 174/200\n",
      "Train Loss: 0.0222, Train Acc: 0.9972\n",
      "Val Loss: 0.0220,   Val Acc: 0.9972\n",
      "Val Precision: 0.1257, Val Recall: 0.6853, Val F1: 0.2125, Val Dice: 0.2125\n",
      "Epoch 175/200\n",
      "Train Loss: 0.0219, Train Acc: 0.9972\n",
      "Val Loss: 0.0232,   Val Acc: 0.9972\n",
      "Val Precision: 0.1220, Val Recall: 0.6525, Val F1: 0.2055, Val Dice: 0.2055\n",
      "Epoch 176/200\n",
      "Train Loss: 0.0221, Train Acc: 0.9972\n",
      "Val Loss: 0.0221,   Val Acc: 0.9973\n",
      "Val Precision: 0.1193, Val Recall: 0.6100, Val F1: 0.1995, Val Dice: 0.1995\n",
      "Epoch 177/200\n",
      "Train Loss: 0.0218, Train Acc: 0.9973\n",
      "Val Loss: 0.0221,   Val Acc: 0.9974\n",
      "Val Precision: 0.1250, Val Recall: 0.6154, Val F1: 0.2077, Val Dice: 0.2077\n",
      "Epoch 178/200\n",
      "Train Loss: 0.0218, Train Acc: 0.9972\n",
      "Val Loss: 0.0219,   Val Acc: 0.9971\n",
      "Val Precision: 0.1170, Val Recall: 0.6600, Val F1: 0.1988, Val Dice: 0.1988\n",
      "Epoch 179/200\n",
      "Train Loss: 0.0218, Train Acc: 0.9972\n",
      "Val Loss: 0.0212,   Val Acc: 0.9973\n",
      "Val Precision: 0.1302, Val Recall: 0.6709, Val F1: 0.2180, Val Dice: 0.2180\n",
      "Epoch 180/200\n",
      "Train Loss: 0.0218, Train Acc: 0.9972\n",
      "Val Loss: 0.0217,   Val Acc: 0.9972\n",
      "Val Precision: 0.1218, Val Recall: 0.6749, Val F1: 0.2064, Val Dice: 0.2064\n",
      "Epoch 181/200\n",
      "Train Loss: 0.0215, Train Acc: 0.9972\n",
      "Val Loss: 0.0220,   Val Acc: 0.9971\n",
      "Val Precision: 0.1158, Val Recall: 0.6513, Val F1: 0.1967, Val Dice: 0.1967\n",
      "Epoch 182/200\n",
      "Train Loss: 0.0218, Train Acc: 0.9972\n",
      "Val Loss: 0.0209,   Val Acc: 0.9973\n",
      "Val Precision: 0.1277, Val Recall: 0.6690, Val F1: 0.2145, Val Dice: 0.2145\n",
      "Epoch 183/200\n",
      "Train Loss: 0.0213, Train Acc: 0.9973\n",
      "Val Loss: 0.0223,   Val Acc: 0.9971\n",
      "Val Precision: 0.1164, Val Recall: 0.6643, Val F1: 0.1981, Val Dice: 0.1981\n",
      "Epoch 184/200\n",
      "Train Loss: 0.0220, Train Acc: 0.9972\n",
      "Val Loss: 0.0220,   Val Acc: 0.9972\n",
      "Val Precision: 0.1197, Val Recall: 0.6435, Val F1: 0.2018, Val Dice: 0.2018\n",
      "Epoch 185/200\n",
      "Train Loss: 0.0216, Train Acc: 0.9972\n",
      "Val Loss: 0.0213,   Val Acc: 0.9973\n",
      "Val Precision: 0.1362, Val Recall: 0.7026, Val F1: 0.2281, Val Dice: 0.2281\n",
      "Epoch 186/200\n",
      "Train Loss: 0.0214, Train Acc: 0.9973\n",
      "Val Loss: 0.0225,   Val Acc: 0.9969\n",
      "Val Precision: 0.1151, Val Recall: 0.6580, Val F1: 0.1959, Val Dice: 0.1959\n",
      "Epoch 187/200\n",
      "Train Loss: 0.0221, Train Acc: 0.9972\n",
      "Val Loss: 0.0215,   Val Acc: 0.9971\n",
      "Val Precision: 0.1224, Val Recall: 0.6631, Val F1: 0.2066, Val Dice: 0.2066\n",
      "Epoch 188/200\n",
      "Train Loss: 0.0213, Train Acc: 0.9973\n",
      "Val Loss: 0.0223,   Val Acc: 0.9973\n",
      "Val Precision: 0.1294, Val Recall: 0.6648, Val F1: 0.2167, Val Dice: 0.2167\n",
      "Epoch 189/200\n",
      "Train Loss: 0.0213, Train Acc: 0.9973\n",
      "Val Loss: 0.0213,   Val Acc: 0.9973\n",
      "Val Precision: 0.1233, Val Recall: 0.6514, Val F1: 0.2074, Val Dice: 0.2074\n",
      "Epoch 190/200\n",
      "Train Loss: 0.0213, Train Acc: 0.9972\n",
      "Val Loss: 0.0213,   Val Acc: 0.9972\n",
      "Val Precision: 0.1291, Val Recall: 0.7022, Val F1: 0.2181, Val Dice: 0.2181\n",
      "Epoch 191/200\n",
      "Train Loss: 0.0212, Train Acc: 0.9972\n",
      "Val Loss: 0.0200,   Val Acc: 0.9974\n",
      "Val Precision: 0.1233, Val Recall: 0.6948, Val F1: 0.2094, Val Dice: 0.2094\n",
      "Epoch 192/200\n",
      "Train Loss: 0.0213, Train Acc: 0.9973\n",
      "Val Loss: 0.0223,   Val Acc: 0.9973\n",
      "Val Precision: 0.1308, Val Recall: 0.6988, Val F1: 0.2203, Val Dice: 0.2203\n",
      "Epoch 193/200\n",
      "Train Loss: 0.0215, Train Acc: 0.9973\n",
      "Val Loss: 0.0215,   Val Acc: 0.9972\n",
      "Val Precision: 0.1154, Val Recall: 0.6513, Val F1: 0.1961, Val Dice: 0.1961\n",
      "Epoch 194/200\n",
      "Train Loss: 0.0215, Train Acc: 0.9972\n",
      "Val Loss: 0.0214,   Val Acc: 0.9972\n",
      "Val Precision: 0.1276, Val Recall: 0.6813, Val F1: 0.2150, Val Dice: 0.2150\n",
      "Epoch 195/200\n",
      "Train Loss: 0.0211, Train Acc: 0.9973\n",
      "Val Loss: 0.0215,   Val Acc: 0.9973\n",
      "Val Precision: 0.1237, Val Recall: 0.6480, Val F1: 0.2077, Val Dice: 0.2077\n",
      "Epoch 196/200\n",
      "Train Loss: 0.0213, Train Acc: 0.9973\n",
      "Val Loss: 0.0206,   Val Acc: 0.9973\n",
      "Val Precision: 0.1253, Val Recall: 0.6978, Val F1: 0.2124, Val Dice: 0.2124\n",
      "Epoch 197/200\n",
      "Train Loss: 0.0213, Train Acc: 0.9972\n",
      "Val Loss: 0.0219,   Val Acc: 0.9972\n",
      "Val Precision: 0.1272, Val Recall: 0.6637, Val F1: 0.2135, Val Dice: 0.2135\n",
      "Epoch 198/200\n",
      "Train Loss: 0.0209, Train Acc: 0.9973\n",
      "Val Loss: 0.0209,   Val Acc: 0.9972\n",
      "Val Precision: 0.1210, Val Recall: 0.6762, Val F1: 0.2053, Val Dice: 0.2053\n",
      "Epoch 199/200\n",
      "Train Loss: 0.0211, Train Acc: 0.9973\n",
      "Val Loss: 0.0207,   Val Acc: 0.9973\n",
      "Val Precision: 0.1295, Val Recall: 0.6859, Val F1: 0.2179, Val Dice: 0.2179\n",
      "Epoch 200/200\n",
      "Train Loss: 0.0209, Train Acc: 0.9973\n",
      "Val Loss: 0.0217,   Val Acc: 0.9971\n",
      "Val Precision: 0.1217, Val Recall: 0.6856, Val F1: 0.2066, Val Dice: 0.2066\n",
      "Training complete. Best validation loss:  0.020001181634142995\n"
     ]
    },
    {
     "data": {
      "image/png": "[encoded data removed]",
      "text/plain": [
       "<Figure size 1200x800 with 5 Axes>"
      ]
     },
     "metadata": {},
     "output_type": "display_data"
    }
   ],
   "source": [
    "def compute_metrics(pred_mask, rd_label, eps=1e-8):\n",
    "    pred_mask = pred_mask.bool()\n",
    "    rd_label = rd_label.bool()\n",
    "\n",
    "    tp = (pred_mask & rd_label).sum().item()\n",
    "    fp = (pred_mask & ~rd_label).sum().item()\n",
    "    fn = (~pred_mask & rd_label).sum().item()\n",
    "\n",
    "    precision = tp / (tp + fp + eps)\n",
    "    recall = tp / (tp + fn + eps)\n",
    "    f1 = 2 * (precision * recall) / (precision + recall + eps)\n",
    "    dice = (2 * tp) / (2*tp + fp + fn + eps)\n",
    "\n",
    "    return precision, recall, f1, dice\n",
    "\n",
    "# detection_type for ratio calculation\n",
    "detection_type = \"range\"\n",
    "ratio = calculate_ratio(train_loader, detection_type)\n",
    "\n",
    "model = UNet(in_channels=2, out_channels=1).cuda()\n",
    "criterion = CBBCE(ratio=ratio)\n",
    "optimizer = optim.Adam(model.parameters(), lr=1e-3)\n",
    "scheduler = optim.lr_scheduler.ReduceLROnPlateau(optimizer, mode='min', factor=0.905, patience=5)\n",
    "\n",
    "# Early stopping parameters\n",
    "patience = 20\n",
    "best_val_loss = float('inf')\n",
    "epochs_no_improve = 0\n",
    "\n",
    "num_epochs = 200\n",
    "\n",
    "# Lists to store metrics for plotting\n",
    "train_losses = []\n",
    "val_losses = []\n",
    "val_precisions = []\n",
    "val_recalls = []\n",
    "val_f1s = []\n",
    "val_dices = []\n",
    "\n",
    "for epoch in range(num_epochs):\n",
    "    model.train()\n",
    "    train_loss = 0.0\n",
    "    train_correct = 0\n",
    "    train_total = 0\n",
    "\n",
    "    for batch in train_loader:\n",
    "        S, C, IQ_map, clean_RD_map, RD_map, rd_label = batch\n",
    "\n",
    "        # Prepare inputs for IQ map\n",
    "        IQ_map_real = IQ_map.real.unsqueeze(1).cuda()  # [B, 1, N, K]\n",
    "        IQ_map_imag = IQ_map.imag.unsqueeze(1).cuda()\n",
    "        IQ_map_input = torch.cat([IQ_map_real, IQ_map_imag], dim=1) # [B, 2, N, K]\n",
    "\n",
    "        rd_label = rd_label.unsqueeze(1).float().cuda() # [B, 1, N, K]\n",
    "\n",
    "        # Forward pass\n",
    "        y_pred_logits = model(IQ_map_input)  # [B, 1, N, K] logits\n",
    "        B, C, H, W = y_pred_logits.shape\n",
    "        y_pred_flat = y_pred_logits.view(B, H*W)\n",
    "        y_true_flat = rd_label.view(B, H*W)\n",
    "\n",
    "        loss = criterion(y_pred_flat, y_true_flat)\n",
    "\n",
    "        optimizer.zero_grad()\n",
    "        loss.backward()\n",
    "        optimizer.step()\n",
    "\n",
    "        train_loss += loss.item() * B\n",
    "\n",
    "        with torch.no_grad():\n",
    "            pred_probs = torch.sigmoid(y_pred_logits)\n",
    "            pred_mask = (pred_probs > 0.5).float()\n",
    "            correct = (pred_mask == rd_label).sum().item()\n",
    "            total = rd_label.numel()\n",
    "            train_correct += correct\n",
    "            train_total += total\n",
    "\n",
    "    train_loss = train_loss / len(train_loader.dataset)\n",
    "    train_acc = train_correct / train_total\n",
    "\n",
    "    # Validation step\n",
    "    model.eval()\n",
    "    val_loss = 0.0\n",
    "    val_correct = 0\n",
    "    val_total = 0\n",
    "    val_tp, val_fp, val_fn = 0, 0, 0\n",
    "\n",
    "    with torch.no_grad():\n",
    "        for batch in val_loader:\n",
    "            S, C, IQ_map, clean_RD_map, RD_map, rd_label = batch\n",
    "            IQ_map_real = IQ_map.real.unsqueeze(1).cuda()\n",
    "            IQ_map_imag = IQ_map.imag.unsqueeze(1).cuda()\n",
    "            IQ_map_input = torch.cat([IQ_map_real, IQ_map_imag], dim=1)\n",
    "\n",
    "            rd_label = rd_label.unsqueeze(1).float().cuda()\n",
    "\n",
    "            y_pred_logits = model(IQ_map_input)\n",
    "            B, C, H, W = y_pred_logits.shape\n",
    "            y_pred_flat = y_pred_logits.view(B, H*W)\n",
    "            y_true_flat = rd_label.view(B, H*W)\n",
    "\n",
    "            loss = criterion(y_pred_flat, y_true_flat)\n",
    "            val_loss += loss.item() * B\n",
    "\n",
    "            pred_probs = torch.sigmoid(y_pred_logits)\n",
    "            pred_mask = (pred_probs > 0.5).float()\n",
    "            correct = (pred_mask == rd_label).sum().item()\n",
    "            total = rd_label.numel()\n",
    "            val_correct += correct\n",
    "            val_total += total\n",
    "\n",
    "            # Compute TP, FP, FN for val\n",
    "            pred_bool = pred_mask.bool()\n",
    "            gt_bool = rd_label.bool()\n",
    "            val_tp += (pred_bool & gt_bool).sum().item()\n",
    "            val_fp += (pred_bool & ~gt_bool).sum().item()\n",
    "            val_fn += (~pred_bool & gt_bool).sum().item()\n",
    "\n",
    "    val_loss = val_loss / len(val_loader.dataset)\n",
    "    val_acc = val_correct / val_total\n",
    "    val_precision, val_recall, val_f1, val_dice = compute_metrics(pred_mask, rd_label)\n",
    "\n",
    "    # Append metrics to lists\n",
    "    train_losses.append(train_loss)\n",
    "    val_losses.append(val_loss)\n",
    "    val_precisions.append(val_precision)\n",
    "    val_recalls.append(val_recall)\n",
    "    val_f1s.append(val_f1)\n",
    "    val_dices.append(val_dice)\n",
    "\n",
    "    wandb.log({\n",
    "        \"IQ_unet/train_loss\": train_loss,\n",
    "        \"IQ_unet/val_loss\": val_loss,\n",
    "        \"IQ_unet/val_precision\": val_precision,\n",
    "        \"IQ_unet/val_recall\": val_recall,\n",
    "        \"IQ_unet/val_f1\": val_f1,\n",
    "        \"IQ_unet/val_dice\": val_dice,\n",
    "        \"epoch\": epoch + 1,\n",
    "    })\n",
    "    # Print progress\n",
    "    print(f\"Epoch {epoch+1}/{num_epochs}\")\n",
    "    print(f\"Train Loss: {train_loss:.4f}, Train Acc: {train_acc:.4f}\")\n",
    "    print(f\"Val Loss: {val_loss:.4f},   Val Acc: {val_acc:.4f}\")\n",
    "    print(f\"Val Precision: {val_precision:.4f}, Val Recall: {val_recall:.4f}, Val F1: {val_f1:.4f}, Val Dice: {val_dice:.4f}\")\n",
    "\n",
    "    # Scheduler step - based on validation loss\n",
    "    scheduler.step(val_loss)\n",
    "\n",
    "    # Early stopping\n",
    "    if val_loss < best_val_loss:\n",
    "        best_val_loss = val_loss\n",
    "        epochs_no_improve = 0\n",
    "        # Save best model so far\n",
    "        torch.save(model.state_dict(), \"IQ_unet.pt\")\n",
    "    else:\n",
    "        epochs_no_improve += 1\n",
    "        if epochs_no_improve == patience:\n",
    "            print(\"Early stopping triggered.\")\n",
    "            break\n",
    "\n",
    "print(\"Training complete. Best validation loss: \", best_val_loss)\n",
    "\n",
    "# Plotting the metrics\n",
    "epochs = range(1, len(train_losses)+1)\n",
    "\n",
    "plt.figure(figsize=(12, 8))\n",
    "\n",
    "plt.subplot(2, 3, 1)\n",
    "plt.plot(epochs, train_losses, 'b', label='Train Loss')\n",
    "plt.plot(epochs, val_losses, 'r', label='Val Loss')\n",
    "plt.title('Loss')\n",
    "plt.xlabel('Epoch')\n",
    "plt.ylabel('Loss')\n",
    "plt.legend()\n",
    "\n",
    "plt.subplot(2, 3, 2)\n",
    "plt.plot(epochs, val_precisions, 'g', label='Val Precision')\n",
    "plt.title('Precision')\n",
    "plt.xlabel('Epoch')\n",
    "plt.ylabel('Precision')\n",
    "plt.legend()\n",
    "\n",
    "plt.subplot(2, 3, 3)\n",
    "plt.plot(epochs, val_recalls, 'm', label='Val Recall')\n",
    "plt.title('Recall')\n",
    "plt.xlabel('Epoch')\n",
    "plt.ylabel('Recall')\n",
    "plt.legend()\n",
    "\n",
    "plt.subplot(2, 3, 4)\n",
    "plt.plot(epochs, val_f1s, 'c', label='Val F1')\n",
    "plt.title('F1-Score')\n",
    "plt.xlabel('Epoch')\n",
    "plt.ylabel('F1-Score')\n",
    "plt.legend()\n",
    "\n",
    "plt.subplot(2, 3, 5)\n",
    "plt.plot(epochs, val_dices, 'y', label='Val Dice')\n",
    "plt.title('Dice Coefficient')\n",
    "plt.xlabel('Epoch')\n",
    "plt.ylabel('Dice')\n",
    "plt.legend()\n",
    "\n",
    "plt.tight_layout()\n",
    "plt.show()\n"
   ]
  },
  {
   "cell_type": "code",
   "execution_count": 20,
   "metadata": {},
   "outputs": [
    {
     "data": {
      "image/png": "[encoded data removed]",
      "text/plain": [
       "<Figure size 1200x400 with 3 Axes>"
      ]
     },
     "metadata": {},
     "output_type": "display_data"
    }
   ],
   "source": [
    "model.eval()\n",
    "with torch.no_grad():\n",
    "    S, C, IQ_map, clean_RD_map, RD_map, rd_label = train_dataset[0]\n",
    "\n",
    "    IQ_map_real = IQ_map.real.unsqueeze(0).unsqueeze(1).cuda()\n",
    "    IQ_map_imag = IQ_map.imag.unsqueeze(0).unsqueeze(1).cuda()\n",
    "    IQ_map_input = torch.cat([IQ_map_real, IQ_map_imag], dim=1) # [1, 2, N, K]\n",
    "\n",
    "    y_pred_logits = model(IQ_map_input)  # [1, 1, N, K]\n",
    "    pred_probs = torch.sigmoid(y_pred_logits)  # Convert logits to probabilities\n",
    "    pred_mask = (pred_probs > 0.5).float().cpu().squeeze(0).squeeze(0) # [N, K]\n",
    "\n",
    "IQ_map_magnitude = IQ_map.abs()\n",
    "rd_label_cpu = rd_label.cpu()\n",
    "\n",
    "# Plot\n",
    "fig, axs = plt.subplots(1, 3, figsize=(12,4))\n",
    "axs[0].imshow(IQ_map_magnitude, aspect='auto', cmap='viridis')\n",
    "axs[0].set_title('IQ Map (Magnitude)')\n",
    "\n",
    "axs[1].imshow(pred_mask, aspect='auto', cmap='gray', vmin=0, vmax=1)\n",
    "axs[1].set_title('Predicted Mask')\n",
    "\n",
    "axs[2].imshow(rd_label_cpu, aspect='auto', cmap='gray', vmin=0, vmax=1)\n",
    "axs[2].set_title('Ground Truth Label')\n",
    "\n",
    "plt.tight_layout()\n",
    "plt.show()\n"
   ]
  },
  {
   "cell_type": "code",
   "execution_count": 21,
   "metadata": {},
   "outputs": [
    {
     "name": "stdout",
     "output_type": "stream",
     "text": [
      "ratio: 0.03384857177734375 , n1: 44366 , n_total: 1310720\n",
      "CBBCE weight for positives:  29.400380132286458\n",
      "Epoch 1/200\n",
      "Train Loss: 0.1985, Train Acc: 0.9894\n",
      "Val Loss: 0.0765,   Val Acc: 0.9996\n",
      "Val Precision: 0.6075, Val Recall: 0.9844, Val F1: 0.7513, Val Dice: 0.7513\n",
      "Epoch 2/200\n",
      "Train Loss: 0.0435, Train Acc: 0.9997\n",
      "Val Loss: 0.0265,   Val Acc: 0.9997\n",
      "Val Precision: 0.6813, Val Recall: 0.9911, Val F1: 0.8075, Val Dice: 0.8075\n",
      "Epoch 3/200\n",
      "Train Loss: 0.0190, Train Acc: 0.9998\n",
      "Val Loss: 0.0140,   Val Acc: 0.9998\n",
      "Val Precision: 0.7183, Val Recall: 0.9903, Val F1: 0.8327, Val Dice: 0.8327\n",
      "Epoch 4/200\n",
      "Train Loss: 0.0108, Train Acc: 0.9998\n",
      "Val Loss: 0.0085,   Val Acc: 0.9998\n",
      "Val Precision: 0.7589, Val Recall: 0.9896, Val F1: 0.8591, Val Dice: 0.8591\n",
      "Epoch 5/200\n",
      "Train Loss: 0.0072, Train Acc: 0.9998\n",
      "Val Loss: 0.0059,   Val Acc: 0.9998\n",
      "Val Precision: 0.7414, Val Recall: 0.9915, Val F1: 0.8484, Val Dice: 0.8484\n",
      "Epoch 6/200\n",
      "Train Loss: 0.0051, Train Acc: 0.9998\n",
      "Val Loss: 0.0045,   Val Acc: 0.9998\n",
      "Val Precision: 0.8105, Val Recall: 0.9936, Val F1: 0.8927, Val Dice: 0.8927\n",
      "Epoch 7/200\n",
      "Train Loss: 0.0040, Train Acc: 0.9998\n",
      "Val Loss: 0.0035,   Val Acc: 0.9998\n",
      "Val Precision: 0.7992, Val Recall: 0.9953, Val F1: 0.8865, Val Dice: 0.8865\n",
      "Epoch 8/200\n",
      "Train Loss: 0.0032, Train Acc: 0.9998\n",
      "Val Loss: 0.0028,   Val Acc: 0.9999\n",
      "Val Precision: 0.7784, Val Recall: 0.9950, Val F1: 0.8734, Val Dice: 0.8734\n",
      "Epoch 9/200\n",
      "Train Loss: 0.0027, Train Acc: 0.9998\n",
      "Val Loss: 0.0024,   Val Acc: 0.9998\n",
      "Val Precision: 0.7722, Val Recall: 1.0000, Val F1: 0.8715, Val Dice: 0.8715\n",
      "Epoch 10/200\n",
      "Train Loss: 0.0022, Train Acc: 0.9999\n",
      "Val Loss: 0.0021,   Val Acc: 0.9999\n",
      "Val Precision: 0.8340, Val Recall: 0.9983, Val F1: 0.9088, Val Dice: 0.9088\n",
      "Epoch 11/200\n",
      "Train Loss: 0.0019, Train Acc: 0.9999\n",
      "Val Loss: 0.0019,   Val Acc: 0.9998\n",
      "Val Precision: 0.7928, Val Recall: 1.0000, Val F1: 0.8844, Val Dice: 0.8844\n",
      "Epoch 12/200\n",
      "Train Loss: 0.0017, Train Acc: 0.9999\n",
      "Val Loss: 0.0015,   Val Acc: 0.9999\n",
      "Val Precision: 0.8291, Val Recall: 0.9964, Val F1: 0.9051, Val Dice: 0.9051\n",
      "Epoch 13/200\n",
      "Train Loss: 0.0015, Train Acc: 0.9999\n",
      "Val Loss: 0.0013,   Val Acc: 0.9999\n",
      "Val Precision: 0.8576, Val Recall: 0.9982, Val F1: 0.9226, Val Dice: 0.9226\n",
      "Epoch 14/200\n",
      "Train Loss: 0.0013, Train Acc: 0.9999\n",
      "Val Loss: 0.0014,   Val Acc: 0.9998\n",
      "Val Precision: 0.7741, Val Recall: 0.9982, Val F1: 0.8720, Val Dice: 0.8720\n",
      "Epoch 15/200\n",
      "Train Loss: 0.0013, Train Acc: 0.9999\n",
      "Val Loss: 0.0012,   Val Acc: 0.9999\n",
      "Val Precision: 0.8525, Val Recall: 0.9948, Val F1: 0.9182, Val Dice: 0.9182\n",
      "Epoch 16/200\n",
      "Train Loss: 0.0011, Train Acc: 0.9999\n",
      "Val Loss: 0.0012,   Val Acc: 0.9999\n",
      "Val Precision: 0.8835, Val Recall: 0.9937, Val F1: 0.9353, Val Dice: 0.9353\n",
      "Epoch 17/200\n",
      "Train Loss: 0.0010, Train Acc: 0.9999\n",
      "Val Loss: 0.0011,   Val Acc: 0.9999\n",
      "Val Precision: 0.8578, Val Recall: 1.0000, Val F1: 0.9235, Val Dice: 0.9235\n",
      "Epoch 18/200\n",
      "Train Loss: 0.0009, Train Acc: 0.9999\n",
      "Val Loss: 0.0009,   Val Acc: 0.9999\n",
      "Val Precision: 0.8728, Val Recall: 0.9893, Val F1: 0.9274, Val Dice: 0.9274\n",
      "Epoch 19/200\n",
      "Train Loss: 0.0009, Train Acc: 0.9999\n",
      "Val Loss: 0.0008,   Val Acc: 0.9999\n",
      "Val Precision: 0.8637, Val Recall: 0.9982, Val F1: 0.9261, Val Dice: 0.9261\n",
      "Epoch 20/200\n",
      "Train Loss: 0.0008, Train Acc: 0.9999\n",
      "Val Loss: 0.0008,   Val Acc: 0.9999\n",
      "Val Precision: 0.8663, Val Recall: 0.9963, Val F1: 0.9268, Val Dice: 0.9268\n",
      "Epoch 21/200\n",
      "Train Loss: 0.0008, Train Acc: 0.9999\n",
      "Val Loss: 0.0007,   Val Acc: 0.9999\n",
      "Val Precision: 0.8727, Val Recall: 0.9962, Val F1: 0.9304, Val Dice: 0.9304\n",
      "Epoch 22/200\n",
      "Train Loss: 0.0007, Train Acc: 0.9999\n",
      "Val Loss: 0.0006,   Val Acc: 0.9999\n",
      "Val Precision: 0.8765, Val Recall: 1.0000, Val F1: 0.9342, Val Dice: 0.9342\n",
      "Epoch 23/200\n",
      "Train Loss: 0.0007, Train Acc: 0.9999\n",
      "Val Loss: 0.0007,   Val Acc: 0.9999\n",
      "Val Precision: 0.8834, Val Recall: 0.9905, Val F1: 0.9339, Val Dice: 0.9339\n",
      "Epoch 24/200\n",
      "Train Loss: 0.0006, Train Acc: 0.9999\n",
      "Val Loss: 0.0006,   Val Acc: 0.9999\n",
      "Val Precision: 0.9081, Val Recall: 0.9981, Val F1: 0.9510, Val Dice: 0.9510\n",
      "Epoch 25/200\n",
      "Train Loss: 0.0006, Train Acc: 0.9999\n",
      "Val Loss: 0.0006,   Val Acc: 0.9999\n",
      "Val Precision: 0.8464, Val Recall: 0.9963, Val F1: 0.9153, Val Dice: 0.9153\n",
      "Epoch 26/200\n",
      "Train Loss: 0.0005, Train Acc: 0.9999\n",
      "Val Loss: 0.0005,   Val Acc: 0.9999\n",
      "Val Precision: 0.8741, Val Recall: 0.9983, Val F1: 0.9320, Val Dice: 0.9320\n",
      "Epoch 27/200\n",
      "Train Loss: 0.0005, Train Acc: 0.9999\n",
      "Val Loss: 0.0006,   Val Acc: 0.9999\n",
      "Val Precision: 0.8715, Val Recall: 0.9983, Val F1: 0.9306, Val Dice: 0.9306\n",
      "Epoch 28/200\n",
      "Train Loss: 0.0006, Train Acc: 0.9999\n",
      "Val Loss: 0.0006,   Val Acc: 0.9999\n",
      "Val Precision: 0.8806, Val Recall: 1.0000, Val F1: 0.9365, Val Dice: 0.9365\n",
      "Epoch 29/200\n",
      "Train Loss: 0.0006, Train Acc: 0.9999\n",
      "Val Loss: 0.0005,   Val Acc: 0.9999\n",
      "Val Precision: 0.8809, Val Recall: 0.9980, Val F1: 0.9358, Val Dice: 0.9358\n",
      "Epoch 30/200\n",
      "Train Loss: 0.0005, Train Acc: 0.9999\n",
      "Val Loss: 0.0005,   Val Acc: 0.9999\n",
      "Val Precision: 0.8665, Val Recall: 0.9947, Val F1: 0.9261, Val Dice: 0.9261\n",
      "Epoch 31/200\n",
      "Train Loss: 0.0005, Train Acc: 0.9999\n",
      "Val Loss: 0.0005,   Val Acc: 0.9999\n",
      "Val Precision: 0.8746, Val Recall: 1.0000, Val F1: 0.9331, Val Dice: 0.9331\n",
      "Epoch 32/200\n",
      "Train Loss: 0.0005, Train Acc: 0.9999\n",
      "Val Loss: 0.0005,   Val Acc: 0.9999\n",
      "Val Precision: 0.8874, Val Recall: 0.9949, Val F1: 0.9381, Val Dice: 0.9381\n",
      "Epoch 33/200\n",
      "Train Loss: 0.0004, Train Acc: 0.9999\n",
      "Val Loss: 0.0004,   Val Acc: 0.9999\n",
      "Val Precision: 0.8993, Val Recall: 1.0000, Val F1: 0.9470, Val Dice: 0.9470\n",
      "Epoch 34/200\n",
      "Train Loss: 0.0004, Train Acc: 0.9999\n",
      "Val Loss: 0.0004,   Val Acc: 0.9999\n",
      "Val Precision: 0.9033, Val Recall: 0.9984, Val F1: 0.9484, Val Dice: 0.9484\n",
      "Epoch 35/200\n",
      "Train Loss: 0.0004, Train Acc: 0.9999\n",
      "Val Loss: 0.0004,   Val Acc: 0.9999\n",
      "Val Precision: 0.9066, Val Recall: 1.0000, Val F1: 0.9510, Val Dice: 0.9510\n",
      "Epoch 36/200\n",
      "Train Loss: 0.0004, Train Acc: 0.9999\n",
      "Val Loss: 0.0005,   Val Acc: 0.9999\n",
      "Val Precision: 0.9135, Val Recall: 0.9947, Val F1: 0.9524, Val Dice: 0.9524\n",
      "Epoch 37/200\n",
      "Train Loss: 0.0004, Train Acc: 0.9999\n",
      "Val Loss: 0.0004,   Val Acc: 0.9999\n",
      "Val Precision: 0.8977, Val Recall: 0.9968, Val F1: 0.9446, Val Dice: 0.9446\n",
      "Epoch 38/200\n",
      "Train Loss: 0.0004, Train Acc: 0.9999\n",
      "Val Loss: 0.0004,   Val Acc: 0.9999\n",
      "Val Precision: 0.8896, Val Recall: 0.9982, Val F1: 0.9408, Val Dice: 0.9408\n",
      "Epoch 39/200\n",
      "Train Loss: 0.0004, Train Acc: 0.9999\n",
      "Val Loss: 0.0004,   Val Acc: 0.9999\n",
      "Val Precision: 0.8719, Val Recall: 1.0000, Val F1: 0.9316, Val Dice: 0.9316\n",
      "Epoch 40/200\n",
      "Train Loss: 0.0004, Train Acc: 0.9999\n",
      "Val Loss: 0.0004,   Val Acc: 0.9999\n",
      "Val Precision: 0.8881, Val Recall: 0.9935, Val F1: 0.9378, Val Dice: 0.9378\n",
      "Epoch 41/200\n",
      "Train Loss: 0.0004, Train Acc: 0.9999\n",
      "Val Loss: 0.0004,   Val Acc: 0.9999\n",
      "Val Precision: 0.8780, Val Recall: 1.0000, Val F1: 0.9350, Val Dice: 0.9350\n",
      "Epoch 42/200\n",
      "Train Loss: 0.0004, Train Acc: 0.9999\n",
      "Val Loss: 0.0004,   Val Acc: 0.9999\n",
      "Val Precision: 0.9113, Val Recall: 0.9983, Val F1: 0.9528, Val Dice: 0.9528\n",
      "Epoch 43/200\n",
      "Train Loss: 0.0003, Train Acc: 0.9999\n",
      "Val Loss: 0.0003,   Val Acc: 0.9999\n",
      "Val Precision: 0.9107, Val Recall: 0.9984, Val F1: 0.9525, Val Dice: 0.9525\n",
      "Epoch 44/200\n",
      "Train Loss: 0.0004, Train Acc: 0.9999\n",
      "Val Loss: 0.0004,   Val Acc: 0.9999\n",
      "Val Precision: 0.8990, Val Recall: 0.9947, Val F1: 0.9444, Val Dice: 0.9444\n",
      "Epoch 45/200\n",
      "Train Loss: 0.0004, Train Acc: 0.9999\n",
      "Val Loss: 0.0003,   Val Acc: 1.0000\n",
      "Val Precision: 0.9132, Val Recall: 0.9982, Val F1: 0.9538, Val Dice: 0.9538\n",
      "Epoch 46/200\n",
      "Train Loss: 0.0003, Train Acc: 0.9999\n",
      "Val Loss: 0.0004,   Val Acc: 0.9999\n",
      "Val Precision: 0.9320, Val Recall: 0.9979, Val F1: 0.9638, Val Dice: 0.9638\n",
      "Epoch 47/200\n",
      "Train Loss: 0.0004, Train Acc: 0.9999\n",
      "Val Loss: 0.0004,   Val Acc: 0.9999\n",
      "Val Precision: 0.9247, Val Recall: 0.9968, Val F1: 0.9594, Val Dice: 0.9594\n",
      "Epoch 48/200\n",
      "Train Loss: 0.0003, Train Acc: 0.9999\n",
      "Val Loss: 0.0003,   Val Acc: 0.9999\n",
      "Val Precision: 0.9051, Val Recall: 0.9947, Val F1: 0.9478, Val Dice: 0.9478\n",
      "Epoch 49/200\n",
      "Train Loss: 0.0003, Train Acc: 0.9999\n",
      "Val Loss: 0.0003,   Val Acc: 0.9999\n",
      "Val Precision: 0.9140, Val Recall: 0.9982, Val F1: 0.9543, Val Dice: 0.9543\n",
      "Epoch 50/200\n",
      "Train Loss: 0.0003, Train Acc: 0.9999\n",
      "Val Loss: 0.0004,   Val Acc: 0.9999\n",
      "Val Precision: 0.8945, Val Recall: 0.9947, Val F1: 0.9420, Val Dice: 0.9420\n",
      "Epoch 51/200\n",
      "Train Loss: 0.0003, Train Acc: 0.9999\n",
      "Val Loss: 0.0003,   Val Acc: 1.0000\n",
      "Val Precision: 0.9211, Val Recall: 0.9982, Val F1: 0.9581, Val Dice: 0.9581\n",
      "Epoch 52/200\n",
      "Train Loss: 0.0003, Train Acc: 0.9999\n",
      "Val Loss: 0.0003,   Val Acc: 0.9999\n",
      "Val Precision: 0.9183, Val Recall: 1.0000, Val F1: 0.9574, Val Dice: 0.9574\n",
      "Epoch 53/200\n",
      "Train Loss: 0.0003, Train Acc: 0.9999\n",
      "Val Loss: 0.0003,   Val Acc: 0.9999\n",
      "Val Precision: 0.9127, Val Recall: 1.0000, Val F1: 0.9544, Val Dice: 0.9544\n",
      "Epoch 54/200\n",
      "Train Loss: 0.0003, Train Acc: 0.9999\n",
      "Val Loss: 0.0003,   Val Acc: 0.9999\n",
      "Val Precision: 0.9067, Val Recall: 1.0000, Val F1: 0.9511, Val Dice: 0.9511\n",
      "Epoch 55/200\n",
      "Train Loss: 0.0003, Train Acc: 0.9999\n",
      "Val Loss: 0.0003,   Val Acc: 1.0000\n",
      "Val Precision: 0.9217, Val Recall: 0.9984, Val F1: 0.9585, Val Dice: 0.9585\n",
      "Epoch 56/200\n",
      "Train Loss: 0.0003, Train Acc: 0.9999\n",
      "Val Loss: 0.0003,   Val Acc: 0.9999\n",
      "Val Precision: 0.9036, Val Recall: 0.9950, Val F1: 0.9471, Val Dice: 0.9471\n",
      "Epoch 57/200\n",
      "Train Loss: 0.0003, Train Acc: 0.9999\n",
      "Val Loss: 0.0004,   Val Acc: 0.9999\n",
      "Val Precision: 0.9130, Val Recall: 0.9982, Val F1: 0.9537, Val Dice: 0.9537\n",
      "Epoch 58/200\n",
      "Train Loss: 0.0003, Train Acc: 0.9999\n",
      "Val Loss: 0.0003,   Val Acc: 1.0000\n",
      "Val Precision: 0.9040, Val Recall: 0.9982, Val F1: 0.9488, Val Dice: 0.9488\n",
      "Epoch 59/200\n",
      "Train Loss: 0.0003, Train Acc: 0.9999\n",
      "Val Loss: 0.0002,   Val Acc: 1.0000\n",
      "Val Precision: 0.9238, Val Recall: 1.0000, Val F1: 0.9604, Val Dice: 0.9604\n",
      "Epoch 60/200\n",
      "Train Loss: 0.0003, Train Acc: 0.9999\n",
      "Val Loss: 0.0003,   Val Acc: 0.9999\n",
      "Val Precision: 0.9137, Val Recall: 0.9983, Val F1: 0.9541, Val Dice: 0.9541\n",
      "Epoch 61/200\n",
      "Train Loss: 0.0003, Train Acc: 0.9999\n",
      "Val Loss: 0.0003,   Val Acc: 0.9999\n",
      "Val Precision: 0.9186, Val Recall: 0.9984, Val F1: 0.9568, Val Dice: 0.9568\n",
      "Epoch 62/200\n",
      "Train Loss: 0.0003, Train Acc: 0.9999\n",
      "Val Loss: 0.0003,   Val Acc: 1.0000\n",
      "Val Precision: 0.9198, Val Recall: 0.9966, Val F1: 0.9567, Val Dice: 0.9567\n",
      "Epoch 63/200\n",
      "Train Loss: 0.0003, Train Acc: 0.9999\n",
      "Val Loss: 0.0004,   Val Acc: 0.9999\n",
      "Val Precision: 0.9201, Val Recall: 0.9982, Val F1: 0.9576, Val Dice: 0.9576\n",
      "Epoch 64/200\n",
      "Train Loss: 0.0003, Train Acc: 0.9999\n",
      "Val Loss: 0.0003,   Val Acc: 1.0000\n",
      "Val Precision: 0.9211, Val Recall: 1.0000, Val F1: 0.9589, Val Dice: 0.9589\n",
      "Epoch 65/200\n",
      "Train Loss: 0.0003, Train Acc: 0.9999\n",
      "Val Loss: 0.0003,   Val Acc: 0.9999\n",
      "Val Precision: 0.8895, Val Recall: 0.9983, Val F1: 0.9408, Val Dice: 0.9408\n",
      "Epoch 66/200\n",
      "Train Loss: 0.0003, Train Acc: 0.9999\n",
      "Val Loss: 0.0003,   Val Acc: 0.9999\n",
      "Val Precision: 0.9386, Val Recall: 1.0000, Val F1: 0.9683, Val Dice: 0.9683\n",
      "Epoch 67/200\n",
      "Train Loss: 0.0003, Train Acc: 0.9999\n",
      "Val Loss: 0.0002,   Val Acc: 1.0000\n",
      "Val Precision: 0.9274, Val Recall: 0.9980, Val F1: 0.9614, Val Dice: 0.9614\n",
      "Epoch 68/200\n",
      "Train Loss: 0.0003, Train Acc: 0.9999\n",
      "Val Loss: 0.0003,   Val Acc: 0.9999\n",
      "Val Precision: 0.8916, Val Recall: 0.9979, Val F1: 0.9418, Val Dice: 0.9418\n",
      "Epoch 69/200\n",
      "Train Loss: 0.0003, Train Acc: 0.9999\n",
      "Val Loss: 0.0003,   Val Acc: 0.9999\n",
      "Val Precision: 0.9011, Val Recall: 0.9983, Val F1: 0.9472, Val Dice: 0.9472\n",
      "Epoch 70/200\n",
      "Train Loss: 0.0003, Train Acc: 0.9999\n",
      "Val Loss: 0.0002,   Val Acc: 0.9999\n",
      "Val Precision: 0.9081, Val Recall: 1.0000, Val F1: 0.9518, Val Dice: 0.9518\n",
      "Epoch 71/200\n",
      "Train Loss: 0.0003, Train Acc: 1.0000\n",
      "Val Loss: 0.0003,   Val Acc: 0.9999\n",
      "Val Precision: 0.9136, Val Recall: 0.9983, Val F1: 0.9541, Val Dice: 0.9541\n",
      "Epoch 72/200\n",
      "Train Loss: 0.0002, Train Acc: 1.0000\n",
      "Val Loss: 0.0002,   Val Acc: 1.0000\n",
      "Val Precision: 0.9343, Val Recall: 1.0000, Val F1: 0.9660, Val Dice: 0.9660\n",
      "Epoch 73/200\n",
      "Train Loss: 0.0002, Train Acc: 1.0000\n",
      "Val Loss: 0.0003,   Val Acc: 1.0000\n",
      "Val Precision: 0.9178, Val Recall: 0.9952, Val F1: 0.9549, Val Dice: 0.9549\n",
      "Epoch 74/200\n",
      "Train Loss: 0.0002, Train Acc: 1.0000\n",
      "Val Loss: 0.0003,   Val Acc: 1.0000\n",
      "Val Precision: 0.9432, Val Recall: 1.0000, Val F1: 0.9708, Val Dice: 0.9708\n",
      "Epoch 75/200\n",
      "Train Loss: 0.0002, Train Acc: 1.0000\n",
      "Val Loss: 0.0003,   Val Acc: 1.0000\n",
      "Val Precision: 0.9470, Val Recall: 0.9967, Val F1: 0.9712, Val Dice: 0.9712\n",
      "Epoch 76/200\n",
      "Train Loss: 0.0003, Train Acc: 0.9999\n",
      "Val Loss: 0.0003,   Val Acc: 1.0000\n",
      "Val Precision: 0.9192, Val Recall: 0.9981, Val F1: 0.9571, Val Dice: 0.9571\n",
      "Epoch 77/200\n",
      "Train Loss: 0.0003, Train Acc: 0.9999\n",
      "Val Loss: 0.0003,   Val Acc: 0.9999\n",
      "Val Precision: 0.8981, Val Recall: 0.9980, Val F1: 0.9454, Val Dice: 0.9454\n",
      "Epoch 78/200\n",
      "Train Loss: 0.0002, Train Acc: 1.0000\n",
      "Val Loss: 0.0002,   Val Acc: 1.0000\n",
      "Val Precision: 0.9221, Val Recall: 0.9983, Val F1: 0.9587, Val Dice: 0.9587\n",
      "Epoch 79/200\n",
      "Train Loss: 0.0003, Train Acc: 1.0000\n",
      "Val Loss: 0.0003,   Val Acc: 0.9999\n",
      "Val Precision: 0.9052, Val Recall: 1.0000, Val F1: 0.9502, Val Dice: 0.9502\n",
      "Epoch 80/200\n",
      "Train Loss: 0.0002, Train Acc: 1.0000\n",
      "Val Loss: 0.0002,   Val Acc: 1.0000\n",
      "Val Precision: 0.9384, Val Recall: 0.9964, Val F1: 0.9665, Val Dice: 0.9665\n",
      "Epoch 81/200\n",
      "Train Loss: 0.0002, Train Acc: 1.0000\n",
      "Val Loss: 0.0003,   Val Acc: 1.0000\n",
      "Val Precision: 0.9211, Val Recall: 1.0000, Val F1: 0.9590, Val Dice: 0.9590\n",
      "Epoch 82/200\n",
      "Train Loss: 0.0002, Train Acc: 1.0000\n",
      "Val Loss: 0.0002,   Val Acc: 0.9999\n",
      "Val Precision: 0.9050, Val Recall: 1.0000, Val F1: 0.9501, Val Dice: 0.9501\n",
      "Epoch 83/200\n",
      "Train Loss: 0.0002, Train Acc: 0.9999\n",
      "Val Loss: 0.0002,   Val Acc: 1.0000\n",
      "Val Precision: 0.9194, Val Recall: 1.0000, Val F1: 0.9580, Val Dice: 0.9580\n",
      "Epoch 84/200\n",
      "Train Loss: 0.0002, Train Acc: 1.0000\n",
      "Val Loss: 0.0002,   Val Acc: 1.0000\n",
      "Val Precision: 0.9060, Val Recall: 0.9983, Val F1: 0.9499, Val Dice: 0.9499\n",
      "Epoch 85/200\n",
      "Train Loss: 0.0002, Train Acc: 1.0000\n",
      "Val Loss: 0.0002,   Val Acc: 1.0000\n",
      "Val Precision: 0.9192, Val Recall: 0.9984, Val F1: 0.9572, Val Dice: 0.9572\n",
      "Epoch 86/200\n",
      "Train Loss: 0.0002, Train Acc: 1.0000\n",
      "Val Loss: 0.0003,   Val Acc: 0.9999\n",
      "Val Precision: 0.8981, Val Recall: 1.0000, Val F1: 0.9463, Val Dice: 0.9463\n",
      "Epoch 87/200\n",
      "Train Loss: 0.0003, Train Acc: 1.0000\n",
      "Val Loss: 0.0002,   Val Acc: 1.0000\n",
      "Val Precision: 0.9325, Val Recall: 0.9984, Val F1: 0.9643, Val Dice: 0.9643\n",
      "Epoch 88/200\n",
      "Train Loss: 0.0002, Train Acc: 1.0000\n",
      "Val Loss: 0.0002,   Val Acc: 0.9999\n",
      "Val Precision: 0.9228, Val Recall: 1.0000, Val F1: 0.9599, Val Dice: 0.9599\n",
      "Epoch 89/200\n",
      "Train Loss: 0.0003, Train Acc: 1.0000\n",
      "Val Loss: 0.0002,   Val Acc: 1.0000\n",
      "Val Precision: 0.9374, Val Recall: 1.0000, Val F1: 0.9677, Val Dice: 0.9677\n",
      "Epoch 90/200\n",
      "Train Loss: 0.0002, Train Acc: 1.0000\n",
      "Val Loss: 0.0002,   Val Acc: 1.0000\n",
      "Val Precision: 0.9246, Val Recall: 0.9983, Val F1: 0.9601, Val Dice: 0.9601\n",
      "Epoch 91/200\n",
      "Train Loss: 0.0002, Train Acc: 1.0000\n",
      "Val Loss: 0.0002,   Val Acc: 1.0000\n",
      "Val Precision: 0.9038, Val Recall: 0.9984, Val F1: 0.9487, Val Dice: 0.9487\n",
      "Epoch 92/200\n",
      "Train Loss: 0.0002, Train Acc: 1.0000\n",
      "Val Loss: 0.0002,   Val Acc: 1.0000\n",
      "Val Precision: 0.9511, Val Recall: 0.9984, Val F1: 0.9742, Val Dice: 0.9742\n",
      "Epoch 93/200\n",
      "Train Loss: 0.0002, Train Acc: 1.0000\n",
      "Val Loss: 0.0002,   Val Acc: 1.0000\n",
      "Val Precision: 0.9429, Val Recall: 0.9983, Val F1: 0.9698, Val Dice: 0.9698\n",
      "Epoch 94/200\n",
      "Train Loss: 0.0002, Train Acc: 1.0000\n",
      "Val Loss: 0.0002,   Val Acc: 1.0000\n",
      "Val Precision: 0.9307, Val Recall: 0.9983, Val F1: 0.9633, Val Dice: 0.9633\n",
      "Epoch 95/200\n",
      "Train Loss: 0.0002, Train Acc: 1.0000\n",
      "Val Loss: 0.0003,   Val Acc: 1.0000\n",
      "Val Precision: 0.9417, Val Recall: 0.9982, Val F1: 0.9691, Val Dice: 0.9691\n",
      "Epoch 96/200\n",
      "Train Loss: 0.0002, Train Acc: 1.0000\n",
      "Val Loss: 0.0002,   Val Acc: 1.0000\n",
      "Val Precision: 0.9208, Val Recall: 0.9983, Val F1: 0.9580, Val Dice: 0.9580\n",
      "Epoch 97/200\n",
      "Train Loss: 0.0002, Train Acc: 1.0000\n",
      "Val Loss: 0.0002,   Val Acc: 1.0000\n",
      "Val Precision: 0.9346, Val Recall: 0.9946, Val F1: 0.9637, Val Dice: 0.9637\n",
      "Epoch 98/200\n",
      "Train Loss: 0.0002, Train Acc: 1.0000\n",
      "Val Loss: 0.0002,   Val Acc: 1.0000\n",
      "Val Precision: 0.9270, Val Recall: 1.0000, Val F1: 0.9621, Val Dice: 0.9621\n",
      "Epoch 99/200\n",
      "Train Loss: 0.0002, Train Acc: 1.0000\n",
      "Val Loss: 0.0002,   Val Acc: 1.0000\n",
      "Val Precision: 0.9395, Val Recall: 0.9984, Val F1: 0.9681, Val Dice: 0.9681\n",
      "Epoch 100/200\n",
      "Train Loss: 0.0002, Train Acc: 1.0000\n",
      "Val Loss: 0.0002,   Val Acc: 0.9999\n",
      "Val Precision: 0.9107, Val Recall: 1.0000, Val F1: 0.9532, Val Dice: 0.9532\n",
      "Epoch 101/200\n",
      "Train Loss: 0.0002, Train Acc: 1.0000\n",
      "Val Loss: 0.0003,   Val Acc: 0.9999\n",
      "Val Precision: 0.8819, Val Recall: 1.0000, Val F1: 0.9373, Val Dice: 0.9373\n",
      "Epoch 102/200\n",
      "Train Loss: 0.0002, Train Acc: 1.0000\n",
      "Val Loss: 0.0002,   Val Acc: 1.0000\n",
      "Val Precision: 0.9124, Val Recall: 0.9985, Val F1: 0.9535, Val Dice: 0.9535\n",
      "Epoch 103/200\n",
      "Train Loss: 0.0002, Train Acc: 1.0000\n",
      "Val Loss: 0.0002,   Val Acc: 1.0000\n",
      "Val Precision: 0.9419, Val Recall: 0.9983, Val F1: 0.9693, Val Dice: 0.9693\n",
      "Epoch 104/200\n",
      "Train Loss: 0.0002, Train Acc: 1.0000\n",
      "Val Loss: 0.0002,   Val Acc: 1.0000\n",
      "Val Precision: 0.9509, Val Recall: 0.9965, Val F1: 0.9732, Val Dice: 0.9732\n",
      "Epoch 105/200\n",
      "Train Loss: 0.0002, Train Acc: 1.0000\n",
      "Val Loss: 0.0002,   Val Acc: 1.0000\n",
      "Val Precision: 0.9337, Val Recall: 1.0000, Val F1: 0.9657, Val Dice: 0.9657\n",
      "Epoch 106/200\n",
      "Train Loss: 0.0002, Train Acc: 1.0000\n",
      "Val Loss: 0.0002,   Val Acc: 1.0000\n",
      "Val Precision: 0.9294, Val Recall: 0.9980, Val F1: 0.9625, Val Dice: 0.9625\n",
      "Epoch 107/200\n",
      "Train Loss: 0.0002, Train Acc: 1.0000\n",
      "Val Loss: 0.0003,   Val Acc: 0.9999\n",
      "Val Precision: 0.8936, Val Recall: 1.0000, Val F1: 0.9438, Val Dice: 0.9438\n",
      "Epoch 108/200\n",
      "Train Loss: 0.0002, Train Acc: 1.0000\n",
      "Val Loss: 0.0002,   Val Acc: 1.0000\n",
      "Val Precision: 0.9421, Val Recall: 0.9982, Val F1: 0.9693, Val Dice: 0.9693\n",
      "Epoch 109/200\n",
      "Train Loss: 0.0002, Train Acc: 1.0000\n",
      "Val Loss: 0.0003,   Val Acc: 1.0000\n",
      "Val Precision: 0.9340, Val Recall: 0.9964, Val F1: 0.9642, Val Dice: 0.9642\n",
      "Epoch 110/200\n",
      "Train Loss: 0.0002, Train Acc: 1.0000\n",
      "Val Loss: 0.0002,   Val Acc: 1.0000\n",
      "Val Precision: 0.9488, Val Recall: 0.9946, Val F1: 0.9712, Val Dice: 0.9712\n",
      "Epoch 111/200\n",
      "Train Loss: 0.0002, Train Acc: 1.0000\n",
      "Val Loss: 0.0002,   Val Acc: 1.0000\n",
      "Val Precision: 0.9135, Val Recall: 1.0000, Val F1: 0.9548, Val Dice: 0.9548\n",
      "Epoch 112/200\n",
      "Train Loss: 0.0002, Train Acc: 1.0000\n",
      "Val Loss: 0.0002,   Val Acc: 1.0000\n",
      "Val Precision: 0.9135, Val Recall: 0.9984, Val F1: 0.9541, Val Dice: 0.9541\n",
      "Early stopping triggered.\n",
      "Training complete. Best validation loss:  0.00018240203644381836\n"
     ]
    },
    {
     "data": {
      "image/png": "[encoded data removed]",
      "text/plain": [
       "<Figure size 1200x800 with 5 Axes>"
      ]
     },
     "metadata": {},
     "output_type": "display_data"
    }
   ],
   "source": [
    "def compute_metrics(pred_mask, rd_label, eps=1e-8):\n",
    "    pred_mask = pred_mask.bool()\n",
    "    rd_label = rd_label.bool()\n",
    "\n",
    "    tp = (pred_mask & rd_label).sum().item()\n",
    "    fp = (pred_mask & ~rd_label).sum().item()\n",
    "    fn = (~pred_mask & rd_label).sum().item()\n",
    "\n",
    "    precision = tp / (tp + fp + eps)\n",
    "    recall = tp / (tp + fn + eps)\n",
    "    f1 = 2 * (precision * recall) / (precision + recall + eps)\n",
    "    dice = (2 * tp) / (2*tp + fp + fn + eps)\n",
    "\n",
    "    return precision, recall, f1, dice\n",
    "\n",
    "# detection_type for ratio calculation\n",
    "detection_type = \"range\"\n",
    "ratio = calculate_ratio(train_loader, detection_type)\n",
    "\n",
    "model = UNet(in_channels=2, out_channels=1).cuda()\n",
    "criterion = CBBCE(ratio=ratio)\n",
    "optimizer = optim.Adam(model.parameters(), lr=1e-3)\n",
    "scheduler = optim.lr_scheduler.ReduceLROnPlateau(optimizer, mode='min', factor=0.905, patience=5)\n",
    "\n",
    "# Early stopping parameters\n",
    "patience = 20\n",
    "best_val_loss = float('inf')\n",
    "epochs_no_improve = 0\n",
    "\n",
    "num_epochs = 200\n",
    "\n",
    "# Lists to store metrics for plotting\n",
    "train_losses = []\n",
    "val_losses = []\n",
    "val_precisions = []\n",
    "val_recalls = []\n",
    "val_f1s = []\n",
    "val_dices = []\n",
    "\n",
    "for epoch in range(num_epochs):\n",
    "    model.train()\n",
    "    train_loss = 0.0\n",
    "    train_correct = 0\n",
    "    train_total = 0\n",
    "\n",
    "    for batch in train_loader:\n",
    "        S, C, IQ_map, clean_RD_map, RD_map, rd_label = batch\n",
    "\n",
    "        # Prepare inputs for IQ map\n",
    "        RD_map_real = RD_map.real.unsqueeze(1).cuda()  # [B, 1, N, K]\n",
    "        RD_map_imag = RD_map.imag.unsqueeze(1).cuda()\n",
    "        RD_map_input = torch.cat([RD_map_real, RD_map_imag], dim=1) # [B, 2, N, K]\n",
    "\n",
    "        rd_label = rd_label.unsqueeze(1).float().cuda() # [B, 1, N, K]\n",
    "\n",
    "        # Forward pass\n",
    "        y_pred_logits = model(RD_map_input)  # [B, 1, N, K] logits\n",
    "        B, C, H, W = y_pred_logits.shape\n",
    "        y_pred_flat = y_pred_logits.view(B, H*W)\n",
    "        y_true_flat = rd_label.view(B, H*W)\n",
    "\n",
    "        loss = criterion(y_pred_flat, y_true_flat)\n",
    "\n",
    "        optimizer.zero_grad()\n",
    "        loss.backward()\n",
    "        optimizer.step()\n",
    "\n",
    "        train_loss += loss.item() * B\n",
    "\n",
    "        with torch.no_grad():\n",
    "            pred_probs = torch.sigmoid(y_pred_logits)\n",
    "            pred_mask = (pred_probs > 0.5).float()\n",
    "            correct = (pred_mask == rd_label).sum().item()\n",
    "            total = rd_label.numel()\n",
    "            train_correct += correct\n",
    "            train_total += total\n",
    "\n",
    "    train_loss = train_loss / len(train_loader.dataset)\n",
    "    train_acc = train_correct / train_total\n",
    "\n",
    "    # Validation step\n",
    "    model.eval()\n",
    "    val_loss = 0.0\n",
    "    val_correct = 0\n",
    "    val_total = 0\n",
    "    val_tp, val_fp, val_fn = 0, 0, 0\n",
    "\n",
    "    with torch.no_grad():\n",
    "        for batch in val_loader:\n",
    "            S, C, IQ_map, clean_RD_map, RD_map, rd_label = batch\n",
    "            RD_map_real = RD_map.real.unsqueeze(1).cuda()\n",
    "            RD_map_imag = RD_map.imag.unsqueeze(1).cuda()\n",
    "            RD_map_input = torch.cat([RD_map_real, RD_map_imag], dim=1)\n",
    "\n",
    "            rd_label = rd_label.unsqueeze(1).float().cuda()\n",
    "\n",
    "            y_pred_logits = model(RD_map_input)\n",
    "            B, C, H, W = y_pred_logits.shape\n",
    "            y_pred_flat = y_pred_logits.view(B, H*W)\n",
    "            y_true_flat = rd_label.view(B, H*W)\n",
    "\n",
    "            loss = criterion(y_pred_flat, y_true_flat)\n",
    "            val_loss += loss.item() * B\n",
    "\n",
    "            pred_probs = torch.sigmoid(y_pred_logits)\n",
    "            pred_mask = (pred_probs > 0.5).float()\n",
    "            correct = (pred_mask == rd_label).sum().item()\n",
    "            total = rd_label.numel()\n",
    "            val_correct += correct\n",
    "            val_total += total\n",
    "\n",
    "            # Compute TP, FP, FN for val\n",
    "            pred_bool = pred_mask.bool()\n",
    "            gt_bool = rd_label.bool()\n",
    "            val_tp += (pred_bool & gt_bool).sum().item()\n",
    "            val_fp += (pred_bool & ~gt_bool).sum().item()\n",
    "            val_fn += (~pred_bool & gt_bool).sum().item()\n",
    "\n",
    "    val_loss = val_loss / len(val_loader.dataset)\n",
    "    val_acc = val_correct / val_total\n",
    "    val_precision, val_recall, val_f1, val_dice = compute_metrics(pred_mask, rd_label)\n",
    "\n",
    "    # Append metrics to lists\n",
    "    train_losses.append(train_loss)\n",
    "    val_losses.append(val_loss)\n",
    "    val_precisions.append(val_precision)\n",
    "    val_recalls.append(val_recall)\n",
    "    val_f1s.append(val_f1)\n",
    "    val_dices.append(val_dice)\n",
    "\n",
    "    wandb.log({\n",
    "        \"RD_unet/train_loss\": train_loss,\n",
    "        \"RD_unet/val_loss\": val_loss,\n",
    "        \"RD_unet/val_precision\": val_precision,\n",
    "        \"RD_unet/val_recall\": val_recall,\n",
    "        \"RD_unet/val_f1\": val_f1,\n",
    "        \"RD_unet/val_dice\": val_dice,\n",
    "        \"epoch\": epoch + 1,\n",
    "    })\n",
    "\n",
    "    # Print progress\n",
    "    print(f\"Epoch {epoch+1}/{num_epochs}\")\n",
    "    print(f\"Train Loss: {train_loss:.4f}, Train Acc: {train_acc:.4f}\")\n",
    "    print(f\"Val Loss: {val_loss:.4f},   Val Acc: {val_acc:.4f}\")\n",
    "    print(f\"Val Precision: {val_precision:.4f}, Val Recall: {val_recall:.4f}, Val F1: {val_f1:.4f}, Val Dice: {val_dice:.4f}\")\n",
    "\n",
    "    # Scheduler step - based on validation loss\n",
    "    scheduler.step(val_loss)\n",
    "\n",
    "    # Early stopping\n",
    "    if val_loss < best_val_loss:\n",
    "        best_val_loss = val_loss\n",
    "        epochs_no_improve = 0\n",
    "        # Save best model so far\n",
    "        torch.save(model.state_dict(), \"RD_unet.pt\")\n",
    "    else:\n",
    "        epochs_no_improve += 1\n",
    "        if epochs_no_improve == patience:\n",
    "            print(\"Early stopping triggered.\")\n",
    "            break\n",
    "\n",
    "print(\"Training complete. Best validation loss: \", best_val_loss)\n",
    "\n",
    "# Plotting the metrics\n",
    "epochs = range(1, len(train_losses)+1)\n",
    "\n",
    "plt.figure(figsize=(12, 8))\n",
    "\n",
    "plt.subplot(2, 3, 1)\n",
    "plt.plot(epochs, train_losses, 'b', label='Train Loss')\n",
    "plt.plot(epochs, val_losses, 'r', label='Val Loss')\n",
    "plt.title('Loss')\n",
    "plt.xlabel('Epoch')\n",
    "plt.ylabel('Loss')\n",
    "plt.legend()\n",
    "\n",
    "plt.subplot(2, 3, 2)\n",
    "plt.plot(epochs, val_precisions, 'g', label='Val Precision')\n",
    "plt.title('Precision')\n",
    "plt.xlabel('Epoch')\n",
    "plt.ylabel('Precision')\n",
    "plt.legend()\n",
    "\n",
    "plt.subplot(2, 3, 3)\n",
    "plt.plot(epochs, val_recalls, 'm', label='Val Recall')\n",
    "plt.title('Recall')\n",
    "plt.xlabel('Epoch')\n",
    "plt.ylabel('Recall')\n",
    "plt.legend()\n",
    "\n",
    "plt.subplot(2, 3, 4)\n",
    "plt.plot(epochs, val_f1s, 'c', label='Val F1')\n",
    "plt.title('F1-Score')\n",
    "plt.xlabel('Epoch')\n",
    "plt.ylabel('F1-Score')\n",
    "plt.legend()\n",
    "\n",
    "plt.subplot(2, 3, 5)\n",
    "plt.plot(epochs, val_dices, 'y', label='Val Dice')\n",
    "plt.title('Dice Coefficient')\n",
    "plt.xlabel('Epoch')\n",
    "plt.ylabel('Dice')\n",
    "plt.legend()\n",
    "\n",
    "plt.tight_layout()\n",
    "plt.show()\n"
   ]
  },
  {
   "cell_type": "code",
   "execution_count": 22,
   "metadata": {},
   "outputs": [
    {
     "data": {
      "image/png": "[encoded data removed]",
      "text/plain": [
       "<Figure size 1200x400 with 3 Axes>"
      ]
     },
     "metadata": {},
     "output_type": "display_data"
    }
   ],
   "source": [
    "import matplotlib.pyplot as plt\n",
    "\n",
    "model.eval()\n",
    "with torch.no_grad():\n",
    "    S, C, IQ_map, clean_RD_map, RD_map, rd_label = train_dataset[0]\n",
    "\n",
    "    RD_map_real = RD_map.real.unsqueeze(0).unsqueeze(1).cuda()\n",
    "    RD_map_imag = RD_map.imag.unsqueeze(0).unsqueeze(1).cuda()\n",
    "    RD_map_input = torch.cat([RD_map_real, RD_map_imag], dim=1) # [1, 2, N, K]\n",
    "\n",
    "    y_pred_logits = model(RD_map_input)  # [1, 1, N, K]\n",
    "    pred_probs = torch.sigmoid(y_pred_logits)  # Convert logits to probabilities\n",
    "    pred_mask = (pred_probs > 0.5).float().cpu().squeeze(0).squeeze(0) # [N, K]\n",
    "\n",
    "RD_map_magnitude = RD_map.abs()\n",
    "rd_label_cpu = rd_label.cpu()\n",
    "\n",
    "# Plot\n",
    "fig, axs = plt.subplots(1, 3, figsize=(12,4))\n",
    "axs[0].imshow(RD_map_magnitude, aspect='auto', cmap='viridis')\n",
    "axs[0].set_title('RD Map (Magnitude)')\n",
    "\n",
    "axs[1].imshow(pred_mask, aspect='auto', cmap='gray', vmin=0, vmax=1)\n",
    "axs[1].set_title('Predicted Mask')\n",
    "\n",
    "axs[2].imshow(rd_label_cpu, aspect='auto', cmap='gray', vmin=0, vmax=1)\n",
    "axs[2].set_title('Ground Truth Label')\n",
    "\n",
    "plt.tight_layout()\n",
    "plt.show()\n"
   ]
  },
  {
   "cell_type": "markdown",
   "metadata": {},
   "source": [
    "## DAFC-DACK"
   ]
  },
  {
   "cell_type": "markdown",
   "metadata": {},
   "source": [
    "### Preprocessing"
   ]
  },
  {
   "cell_type": "code",
   "execution_count": 23,
   "metadata": {},
   "outputs": [],
   "source": [
    "class RadarPreprocessing(nn.Module):\n",
    "    def __init__(self, detection_type: str = \"range\"):\n",
    "        \"\"\"\n",
    "        Preprocessing module as described in Section III.B\n",
    "\n",
    "        Args:\n",
    "            detection_type: Either \"range\" or \"doppler\"\n",
    "        \"\"\"\n",
    "        super().__init__()\n",
    "        self.detection_type = detection_type\n",
    "\n",
    "    def forward(self, X: torch.Tensor) -> torch.Tensor:\n",
    "        # X shape: (batch, N, K, 2) - real and imaginary parts stacked in last dimension\n",
    "        # Step 1: Reshape input based on detection type\n",
    "        if self.detection_type == \"range\":\n",
    "            X_0 = X.transpose(1, 2)  # (batch, K, N)\n",
    "        else:  # doppler\n",
    "            X_0 = X  # (batch, N, K)\n",
    "        # Step 2: Center features over rows\n",
    "        X_mean = torch.mean(X_0, dim=1, keepdim=True)\n",
    "        X_1 = X_0 - X_mean\n",
    "        # Step 3: Concatenate real and imaginary terms\n",
    "        if torch.is_complex(X):\n",
    "\n",
    "            Z_0 = torch.cat([X_1.real, X_1.imag], dim=-1)  # (batch, K/N, 2*N/K)\n",
    "        else:\n",
    "            Z_0 = torch.cat([X_1, torch.zeros_like(X_1)], dim=-1)\n",
    "        return Z_0"
   ]
  },
  {
   "cell_type": "markdown",
   "metadata": {},
   "source": [
    "### DAFC NN"
   ]
  },
  {
   "cell_type": "code",
   "execution_count": 24,
   "metadata": {},
   "outputs": [],
   "source": [
    "class DAFCBlock(nn.Module):\n",
    "    def __init__(self, H: int, W: int, H_out: int, W_out: int):\n",
    "        \"\"\"\n",
    "        Dimensional-Alternating Fully Connected Block\n",
    "\n",
    "        Args:\n",
    "            H: Input height\n",
    "            W: Input width\n",
    "            H_out: Output height\n",
    "            W_out: Output width\n",
    "        \"\"\"\n",
    "        super().__init__()\n",
    "\n",
    "        # Row mapping layer (F transform)\n",
    "        self.row_fc = nn.Linear(W, W_out)\n",
    "\n",
    "        # Column mapping layer (G transform)\n",
    "        self.col_fc = nn.Linear(H, H_out)\n",
    "\n",
    "        # Activation functions\n",
    "        self.hr = nn.Tanh()\n",
    "        self.hc = nn.Tanh()\n",
    "\n",
    "    def forward(self, Z_in: torch.Tensor) -> torch.Tensor:\n",
    "        Z_in = Z_in.float()\n",
    "        batch_size = Z_in.size(0)\n",
    "        H = Z_in.size(1)\n",
    "\n",
    "        # Step 1: FC transform of each row\n",
    "        # Reshaping is necessary to apply nn.Linear\n",
    "        Z_reshaped = Z_in.reshape(-1, Z_in.size(-1))  # (batch*H, W)\n",
    "\n",
    "        Z_r = self.hr(self.row_fc(Z_reshaped))  # (batch*H, W_out)\n",
    "\n",
    "        # Reshaping back to normal after applying nn.Linear\n",
    "        Z_r = Z_r.reshape(batch_size, H, -1)  # (batch, H, W_out)\n",
    "\n",
    "        # Step 2: FC transform of each column\n",
    "        Z_r = Z_r.transpose(1, 2)  # (batch, W_out, H)\n",
    "        Z_r = Z_r.contiguous()  # Make memory contiguous after transpose\n",
    "\n",
    "        # Reshaping is necessary to apply nn.Linear\n",
    "        Z_reshaped = Z_r.reshape(-1, Z_r.size(-1))  # (batch*W_out, H)\n",
    "\n",
    "        Z_out = self.hc(self.col_fc(Z_reshaped))  # (batch*W_out, H_out)\n",
    "\n",
    "        # Reshaping back to normal after applying nn.Linear\n",
    "        Z_out = Z_out.reshape(batch_size, -1, Z_out.size(-1))  # (batch, W_out, H_out)\n",
    "\n",
    "        Z_out = Z_out.transpose(1, 2)  # (batch, H_out, W_out)\n",
    "\n",
    "        return Z_out\n",
    "\n",
    "\n",
    "class DAFCRadarNet(nn.Module):\n",
    "    def __init__(self, detection_type: str = \"range\", map_type: str = \"IQ\"):\n",
    "        \"\"\"\n",
    "        DAFC-based Radar Detection Network\n",
    "\n",
    "        Args:\n",
    "            detection_type: Either \"range\" or \"doppler\"\n",
    "        \"\"\"\n",
    "        super().__init__()\n",
    "\n",
    "        # Parameters from Table I\n",
    "        \n",
    "        if map_type == \"IQ\":\n",
    "            if detection_type == \"range\":\n",
    "                self.input_dim = (64, 128)  # (K, 2*N)\n",
    "            else:  # doppler\n",
    "                self.input_dim = (64, 128)  # (N, 2*K)\n",
    "        else: # RD\n",
    "            if detection_type == \"range\":\n",
    "                self.input_dim = (64, 128)  # (K, 2*N)\n",
    "            else:  # doppler\n",
    "                self.input_dim = (64, 128)  # (N, 2*K)\n",
    "\n",
    "        # Preprocessing\n",
    "        self.preprocess = RadarPreprocessing(detection_type)\n",
    "\n",
    "        # DAFC blocks (dimensions from Table I)\n",
    "        self.dafc1 = DAFCBlock(self.input_dim[0], self.input_dim[1], 128, 1024)\n",
    "        self.dafc2 = DAFCBlock(128, 1024, 16, 256)\n",
    "        self.dafc3 = DAFCBlock(16, 256, 4, 128)\n",
    "\n",
    "        # Final FC layer\n",
    "        fc_input_size = 4 * 128\n",
    "        self.fc = nn.Linear(fc_input_size, 64)\n",
    "        self.sigmoid = nn.Sigmoid()\n",
    "\n",
    "    def forward(self, X: torch.Tensor) -> torch.Tensor:\n",
    "        # Preprocessing\n",
    "        Z_0 = self.preprocess(X)\n",
    "        # DAFC blocks\n",
    "        Z_1 = self.dafc1(Z_0)\n",
    "        Z_2 = self.dafc2(Z_1)\n",
    "        Z_3 = self.dafc3(Z_2)\n",
    "\n",
    "        # Flatten and final FC layer\n",
    "        Z_flat = Z_3.reshape(Z_3.size(0), -1)\n",
    "        y = self.sigmoid(self.fc(Z_flat))\n",
    "\n",
    "        return y\n",
    "    \n"
   ]
  },
  {
   "cell_type": "markdown",
   "metadata": {},
   "source": [
    "### DACK NN"
   ]
  },
  {
   "cell_type": "code",
   "execution_count": 25,
   "metadata": {},
   "outputs": [],
   "source": [
    "class DACKRadarNet(nn.Module):\n",
    "    def __init__(self, detection_type: str = \"range\", map_type: str = \"IQ\"):\n",
    "        \"\"\"\n",
    "        Convolution-based Radar Detection Network\n",
    "\n",
    "        Args:\n",
    "            detection_type: Either \"range\" or \"doppler\"\n",
    "        \"\"\"\n",
    "        super().__init__()\n",
    "\n",
    "        # Parameters from Table I\n",
    "        if map_type == \"IQ\":\n",
    "            if detection_type == \"range\":\n",
    "                self.input_dim = (64, 128)  # (K, 2*N)\n",
    "            else:  # doppler\n",
    "                self.input_dim = (64, 128)  # (N, 2*K)\n",
    "        else: # RD\n",
    "            if detection_type == \"range\":\n",
    "                self.input_dim = (64, 128)  # (K, 2*N)\n",
    "            else:  # doppler\n",
    "                self.input_dim = (64, 128)  # (N, 2*K)\n",
    "\n",
    "        # Preprocessing\n",
    "        self.preprocess = RadarPreprocessing(detection_type)\n",
    "\n",
    "        # Convolutional layers\n",
    "        self.conv1 = nn.Sequential(\n",
    "            nn.Conv2d(1, 16, kernel_size=(3, 3), stride=(1, 1), padding=(1, 1)),\n",
    "            nn.ReLU(),\n",
    "            nn.MaxPool2d(kernel_size=(2, 2))\n",
    "        )  # Output: (16, 32, 64)\n",
    "\n",
    "        self.conv2 = nn.Sequential(\n",
    "            nn.Conv2d(16, 32, kernel_size=(3, 3), stride=(1, 1), padding=(1, 1)),\n",
    "            nn.ReLU(),\n",
    "            nn.MaxPool2d(kernel_size=(2, 2))\n",
    "        )  # Output: (32, 16, 32)\n",
    "\n",
    "        self.conv3 = nn.Sequential(\n",
    "            nn.Conv2d(32, 64, kernel_size=(3, 3), stride=(1, 1), padding=(1, 1)),\n",
    "            nn.ReLU(),\n",
    "            nn.MaxPool2d(kernel_size=(2, 2))\n",
    "        )  # Output: (64, 8, 16)\n",
    "\n",
    "        # Fully connected layers\n",
    "        if map_type == \"IQ\":\n",
    "            fc_input_size = 64 * 8 * 16\n",
    "        else:\n",
    "            fc_input_size = 64 * 8 * 16 #8\n",
    "        self.fc1 = nn.Linear(fc_input_size, 128)\n",
    "        self.fc2 = nn.Linear(128, 64)\n",
    "        self.sigmoid = nn.Sigmoid()\n",
    "\n",
    "    def forward(self, X: torch.Tensor) -> torch.Tensor:\n",
    "        # Preprocessing\n",
    "        Z_0 = self.preprocess(X)  # (batch, H, W)\n",
    "\n",
    "        # Add channel dimension for convolutional layers\n",
    "        Z_0 = Z_0.unsqueeze(1)  # (batch, 1, H, W)\n",
    "\n",
    "        # Convolutional layers\n",
    "        #print(Z_0.shape)\n",
    "        Z_1 = self.conv1(Z_0)\n",
    "        #print(Z_1.shape)\n",
    "        Z_2 = self.conv2(Z_1)\n",
    "        #print(Z_2.shape)\n",
    "        Z_3 = self.conv3(Z_2)\n",
    "        #print(Z_3.shape)\n",
    "\n",
    "        # Flatten and fully connected layers\n",
    "        Z_flat = Z_3.view(Z_3.size(0), -1)\n",
    "        Z_fc1 = nn.ReLU()(self.fc1(Z_flat))\n",
    "        y = self.sigmoid(self.fc2(Z_fc1))\n",
    "\n",
    "        return y\n",
    "        "
   ]
  },
  {
   "cell_type": "markdown",
   "metadata": {},
   "source": [
    "### Custom Loss Function"
   ]
  },
  {
   "cell_type": "code",
   "execution_count": 26,
   "metadata": {},
   "outputs": [],
   "source": [
    "class CBBCE(nn.Module):\n",
    "    def __init__(self, ratio: float, beta: float = 0.99):\n",
    "        \"\"\"\n",
    "        Class-Balanced Binary Cross Entropy Loss\n",
    "\n",
    "        Args:\n",
    "            ratio: Ratio of positive samples in dataset\n",
    "            (number of targets in the dataset / number of bins in the dataset)\n",
    "            beta: Beta parameter for class balancing\n",
    "        \"\"\"\n",
    "        super().__init__()\n",
    "        self.weight1 = (1 - beta) / (1 - beta ** ratio)\n",
    "        print(\"w1: \", self.weight1)\n",
    "\n",
    "    def forward(self, y_pred: torch.Tensor, y_true: torch.Tensor) -> torch.Tensor:\n",
    "        \"\"\"\n",
    "        Forward pass\n",
    "\n",
    "        Args:\n",
    "            y_pred: Predicted values [batch, dim] (after sigmoid)\n",
    "            y_true: True values [batch, dim]\n",
    "        \"\"\"\n",
    "        _nll2 = F.binary_cross_entropy(y_pred, y_true, reduction='none')\n",
    "        # Find indices where y_true >= 0.9999\n",
    "        ind1 = (y_true >= 0.9999).nonzero(as_tuple=False)  # Shape: [N, 2]\n",
    "\n",
    "        # Gather the loss values at these indices\n",
    "        _nll_subset = self.weight1 * _nll2[ind1[:, 0], ind1[:, 1]]\n",
    "\n",
    "        # Update the original loss tensor using scatter_\n",
    "        _nll2 = _nll2.index_put_((ind1[:, 0], ind1[:, 1]), _nll_subset)\n",
    "\n",
    "        # Return the mean of the updated loss tensor\n",
    "        loss = torch.mean(_nll2)\n",
    "        return loss\n"
   ]
  },
  {
   "cell_type": "code",
   "execution_count": 32,
   "metadata": {},
   "outputs": [],
   "source": [
    "def calculate_ratio(train_loader, detection_type):\n",
    "    \"\"\"Calculate ratio of positive samples in dataset from 2D labels\"\"\"\n",
    "    n1 = 0  # target samples\n",
    "    n_total = len(train_loader.dataset)\n",
    "    n_total *= 32 if detection_type == 'range' else 63\n",
    "    #for _, rd_label in train_loader:\n",
    "    for _, _, _, _, _, rd_label in train_loader:\n",
    "    \n",
    "        # Get 1D labels by summing across appropriate dimension\n",
    "        label = (rd_label.sum(dim=-1 if detection_type == \"range\" else -2) >= 1).float()\n",
    "        # Count bins with targets\n",
    "        n1 += torch.sum(label >= 0.9999)\n",
    "    ratio = n1.item() / n_total\n",
    "    print(\"ratio:\", ratio, \", n1:\", n1.item(), \", n_total:\", n_total)\n",
    "    return ratio\n"
   ]
  },
  {
   "cell_type": "markdown",
   "metadata": {},
   "source": [
    "#### Plot function"
   ]
  },
  {
   "cell_type": "code",
   "execution_count": 33,
   "metadata": {},
   "outputs": [],
   "source": [
    "def plot_training_history(history: dict, detection_type: str, map_type: str):\n",
    "    \"\"\"Plot and save training history for a given detector type.\n",
    "\n",
    "    Parameters\n",
    "    ----------\n",
    "    history : dict\n",
    "        A dictionary containing keys \"train_loss\", \"val_loss\", \n",
    "        \"train_accuracy\", and \"val_accuracy\", each mapping to a list \n",
    "        of values recorded per epoch.\n",
    "    detection_type : str\n",
    "        A string indicating the type/category of the detector \n",
    "        (e.g., 'Target', 'Object', 'Clutter').\n",
    "    \"\"\"\n",
    "    fig, (ax1, ax2) = plt.subplots(1, 2, figsize=(12, 6))\n",
    "    fig.suptitle(f\"{detection_type} Detector Training History\", fontsize=16, fontweight='bold')\n",
    "\n",
    "    # Define a style\n",
    "    #plt.style.use('seaborn')\n",
    "\n",
    "    # Plot Loss\n",
    "    ax1.plot(history[\"train_loss\"], label=\"Training Loss\", color=\"steelblue\", linewidth=1)\n",
    "    ax1.plot(history[\"val_loss\"], label=\"Validation Loss\", color=\"firebrick\", linewidth=1)\n",
    "    ax1.set_title(\"Loss per Epoch\", fontsize=14)\n",
    "    ax1.set_xlabel(\"Epoch\", fontsize=12)\n",
    "    ax1.set_ylabel(\"Loss\", fontsize=12)\n",
    "    ax1.grid(True, linestyle='--', alpha=0.7)\n",
    "    ax1.legend()\n",
    "\n",
    "    # Plot Accuracy\n",
    "    ax2.plot(history[\"train_accuracy\"], label=\"Training Accuracy\", color=\"darkgreen\", linewidth=1)\n",
    "    ax2.plot(history[\"val_accuracy\"], label=\"Validation Accuracy\", color=\"darkorange\", linewidth=1)\n",
    "    ax2.set_title(\"Accuracy per Epoch\", fontsize=14)\n",
    "    ax2.set_xlabel(\"Epoch\", fontsize=12)\n",
    "    ax2.set_ylabel(\"Accuracy\", fontsize=12)\n",
    "    ax2.grid(True, linestyle='--', alpha=0.7)\n",
    "    ax2.legend()\n",
    "\n",
    "    plt.tight_layout(rect=[0, 0, 1, 0.95])  # Leave space for suptitle\n",
    "    if map_type == \"RD\":\n",
    "        plt.savefig(f\"{detection_type}_RD_training_history.png\", dpi=300)\n",
    "    else:\n",
    "        plt.savefig(f\"{detection_type}_IQ_training_history.png\", dpi=300)\n",
    "    plt.close()\n"
   ]
  },
  {
   "cell_type": "markdown",
   "metadata": {},
   "source": [
    "### Training"
   ]
  },
  {
   "cell_type": "markdown",
   "metadata": {},
   "source": [
    "#### train function"
   ]
  },
  {
   "cell_type": "code",
   "execution_count": 34,
   "metadata": {},
   "outputs": [],
   "source": [
    "def train_model(model, criterion, train_loader, val_loader, detection_type, map_type, epochs=300, learning_rate=1e-3,\n",
    "                weight_decay=5e-4):\n",
    "    \"\"\"\n",
    "    Train range or Doppler detector\n",
    "\n",
    "    Args:\n",
    "        model: Neural network model\n",
    "        criterion: Loss function\n",
    "        train_loader: Training data loader\n",
    "        val_loader: Validation data loader\n",
    "        detection_type: \"range\" or \"doppler\"\n",
    "        map_type: \"IQ\" or \"RD\"\n",
    "        epochs: Number of training epochs\n",
    "        learning_rate: Learning rate for optimizer\n",
    "        weight_decay: Weight decay for optimizer\n",
    "    \"\"\"\n",
    "\n",
    "    # Initialize wandb\n",
    "    wandb.init(\n",
    "        project=\"radar_detection\",  # replace with your project name\n",
    "        name=f\"{detection_type}_{map_type}_run\",\n",
    "        config={\n",
    "            \"detection_type\": detection_type,\n",
    "            \"map_type\": map_type,\n",
    "            \"epochs\": epochs,\n",
    "            \"learning_rate\": learning_rate,\n",
    "            \"weight_decay\": weight_decay,\n",
    "            \"optimizer\": \"Adam\"\n",
    "        },\n",
    "        tags=[detection_type, map_type]\n",
    "    )\n",
    "\n",
    "    device = torch.device(\"cuda\" if torch.cuda.is_available() else \"cpu\")\n",
    "\n",
    "    # Move model to device\n",
    "    model = model.to(device)\n",
    "\n",
    "    optimizer = optim.Adam(model.parameters(), lr=learning_rate, weight_decay=weight_decay)\n",
    "\n",
    "    # Learning rate scheduler\n",
    "    scheduler = optim.lr_scheduler.ReduceLROnPlateau(optimizer, mode='min', factor=0.905, patience=5)\n",
    "    # Check the last computed learning rate\n",
    "    print(f\"Last computed LR: {scheduler.get_last_lr()[0]}\")\n",
    "\n",
    "    # Training history\n",
    "    history = {\"train_loss\": [], \"val_loss\": [], \"train_accuracy\": [], \"val_accuracy\": []}\n",
    "\n",
    "    # Early stopping setup\n",
    "    best_val_loss = float('inf')\n",
    "    patience = 20\n",
    "    patience_counter = 0\n",
    "    best_model_state = None\n",
    "    epoch_pbar = tqdm(range(epochs), desc=\"Training Progress\")\n",
    "\n",
    "    if map_type == \"IQ\":\n",
    "        print('Training IQ network')\n",
    "        for epoch in epoch_pbar:\n",
    "            # Training phase\n",
    "            model.train()\n",
    "            train_loss = 0\n",
    "            train_correct = 0\n",
    "            train_total = 0\n",
    "\n",
    "            for _, _, X, _, _, rd_label in train_loader:\n",
    "                X = X.to(device)\n",
    "                rd_label = rd_label.to(device)\n",
    "\n",
    "                # Preprocess input and get 1D label\n",
    "                label = (rd_label.sum(dim=-1 if detection_type == \"range\" else -2) >= 1).float()\n",
    "\n",
    "                # Forward pass\n",
    "                outputs = model(X)\n",
    "                loss = criterion(outputs, label)\n",
    "\n",
    "                # Backward pass and optimize\n",
    "                optimizer.zero_grad()\n",
    "                loss.backward()\n",
    "                optimizer.step()\n",
    "\n",
    "                train_loss += loss.item()\n",
    "                predictions = (outputs > 0.5).float()\n",
    "                train_correct += (predictions == label).float().sum().item()\n",
    "                train_total += label.numel()\n",
    "\n",
    "            # Validation phase\n",
    "            model.eval()\n",
    "            val_loss = 0\n",
    "            val_correct = 0\n",
    "            val_total = 0\n",
    "\n",
    "            with torch.no_grad():\n",
    "                for _, _, X, _, _, rd_label in val_loader:\n",
    "                    X = X.to(device)\n",
    "                    rd_label = rd_label.to(device)\n",
    "\n",
    "                    # Preprocess input and get 1D label\n",
    "                    label = (rd_label.sum(dim=-1 if detection_type == \"range\" else -2) >= 1).float()\n",
    "\n",
    "                    outputs = model(X)\n",
    "                    loss = criterion(outputs, label)\n",
    "\n",
    "                    val_loss += loss.item()\n",
    "                    predictions = (outputs > 0.5).float()\n",
    "                    val_correct += (predictions == label).float().sum().item()\n",
    "                    val_total += label.numel()\n",
    "\n",
    "            # Calculate epoch metrics\n",
    "            epoch_train_loss = train_loss / len(train_loader)\n",
    "            epoch_val_loss = val_loss / len(val_loader)\n",
    "            epoch_train_acc = train_correct / train_total\n",
    "            epoch_val_acc = val_correct / val_total\n",
    "\n",
    "            # Update history\n",
    "            history[\"train_loss\"].append(epoch_train_loss)\n",
    "            history[\"val_loss\"].append(epoch_val_loss)\n",
    "            history[\"train_accuracy\"].append(epoch_train_acc)\n",
    "            history[\"val_accuracy\"].append(epoch_val_acc)\n",
    "\n",
    "            # Log metrics to wandb\n",
    "            wandb.log({\n",
    "                \"epoch\": epoch + 1,\n",
    "                \"train_loss\": epoch_train_loss,\n",
    "                \"val_loss\": epoch_val_loss,\n",
    "                \"train_accuracy\": epoch_train_acc,\n",
    "                \"val_accuracy\": epoch_val_acc,\n",
    "                \"learning_rate\": scheduler.optimizer.param_groups[0][\"lr\"]\n",
    "            })\n",
    "\n",
    "            # Learning rate scheduling\n",
    "            scheduler.step(epoch_val_loss)\n",
    "\n",
    "            # Early stopping\n",
    "            if epoch_val_loss < best_val_loss:\n",
    "                best_val_loss = epoch_val_loss\n",
    "                patience_counter = 0\n",
    "                best_model_state = model.state_dict()\n",
    "            else:\n",
    "                patience_counter += 1\n",
    "                if patience_counter >= patience:\n",
    "                    print(f\"\\nEarly stopping triggered after {epoch + 1} epochs\")\n",
    "                    break\n",
    "\n",
    "            # Print epoch results every 10 epochs\n",
    "            if epoch % 10 == 0:\n",
    "                print(f\"\\nEpoch {epoch + 1}/{epochs}\")\n",
    "                print(f\"Train Loss: {epoch_train_loss:.4f} | Val Loss: {epoch_val_loss:.4f}\")\n",
    "                print(f\"Train Acc: {epoch_train_acc:.4f} | Val Acc: {epoch_val_acc:.4f}\")\n",
    "\n",
    "        # Restore best model\n",
    "        if best_model_state is not None:\n",
    "            model.load_state_dict(best_model_state)\n",
    "\n",
    "        # Save model\n",
    "        torch.save(model.state_dict(), f\"{detection_type}_64_{map_type}_IQ_model.pt\")\n",
    "\n",
    "    else:\n",
    "        print('Training RD network')\n",
    "        for epoch in epoch_pbar:\n",
    "            # Training phase\n",
    "            model.train()\n",
    "            train_loss = 0\n",
    "            train_correct = 0\n",
    "            train_total = 0\n",
    "\n",
    "            for _, _, _, _, X, rd_label in train_loader:\n",
    "                X = X.to(device)\n",
    "                rd_label = rd_label.to(device)\n",
    "\n",
    "                # Preprocess input and get 1D label\n",
    "                label = (rd_label.sum(dim=-1 if detection_type == \"range\" else -2) >= 1).float()\n",
    "\n",
    "                outputs = model(X)\n",
    "                loss = criterion(outputs, label)\n",
    "\n",
    "                optimizer.zero_grad()\n",
    "                loss.backward()\n",
    "                optimizer.step()\n",
    "\n",
    "                train_loss += loss.item()\n",
    "                predictions = (outputs > 0.5).float()\n",
    "                train_correct += (predictions == label).float().sum().item()\n",
    "                train_total += label.numel()\n",
    "\n",
    "            # Validation phase\n",
    "            model.eval()\n",
    "            val_loss = 0\n",
    "            val_correct = 0\n",
    "            val_total = 0\n",
    "\n",
    "            with torch.no_grad():\n",
    "                for _, _, _, _, X, rd_label in val_loader:\n",
    "                    X = X.to(device)\n",
    "                    rd_label = rd_label.to(device)\n",
    "\n",
    "                    label = (rd_label.sum(dim=-1 if detection_type == \"range\" else -2) >= 1).float()\n",
    "\n",
    "                    outputs = model(X)\n",
    "                    loss = criterion(outputs, label)\n",
    "\n",
    "                    val_loss += loss.item()\n",
    "                    predictions = (outputs > 0.5).float()\n",
    "                    val_correct += (predictions == label).float().sum().item()\n",
    "                    val_total += label.numel()\n",
    "\n",
    "            # Calculate epoch metrics\n",
    "            epoch_train_loss = train_loss / len(train_loader)\n",
    "            epoch_val_loss = val_loss / len(val_loader)\n",
    "            epoch_train_acc = train_correct / train_total\n",
    "            epoch_val_acc = val_correct / val_total\n",
    "\n",
    "            history[\"train_loss\"].append(epoch_train_loss)\n",
    "            history[\"val_loss\"].append(epoch_val_loss)\n",
    "            history[\"train_accuracy\"].append(epoch_train_acc)\n",
    "            history[\"val_accuracy\"].append(epoch_val_acc)\n",
    "\n",
    "            # Log metrics to wandb\n",
    "            wandb.log({\n",
    "                \"epoch\": epoch + 1,\n",
    "                \"train_loss\": epoch_train_loss,\n",
    "                \"val_loss\": epoch_val_loss,\n",
    "                \"train_accuracy\": epoch_train_acc,\n",
    "                \"val_accuracy\": epoch_val_acc,\n",
    "                \"learning_rate\": scheduler.optimizer.param_groups[0][\"lr\"]\n",
    "            })\n",
    "\n",
    "            scheduler.step(epoch_val_loss)\n",
    "\n",
    "            # Early stopping\n",
    "            if epoch_val_loss < best_val_loss:\n",
    "                best_val_loss = epoch_val_loss\n",
    "                patience_counter = 0\n",
    "                best_model_state = model.state_dict()\n",
    "            else:\n",
    "                patience_counter += 1\n",
    "                if patience_counter >= patience:\n",
    "                    print(f\"\\nEarly stopping triggered after {epoch + 1} epochs\")\n",
    "                    break\n",
    "\n",
    "            if epoch % 10 == 0:\n",
    "                print(f\"\\nEpoch {epoch + 1}/{epochs}\")\n",
    "                print(f\"Train Loss: {epoch_train_loss:.4f} | Val Loss: {epoch_val_loss:.4f}\")\n",
    "                print(f\"Train Acc: {epoch_train_acc:.4f} | Val Acc: {epoch_val_acc:.4f}\")\n",
    "\n",
    "        if best_model_state is not None:\n",
    "            model.load_state_dict(best_model_state)\n",
    "\n",
    "        torch.save(model.state_dict(), f\"{detection_type}_64_{map_type}_IQ_model.pt\")\n",
    "\n",
    "\n",
    "    # Finish the wandb run\n",
    "    wandb.finish()\n",
    "\n",
    "    return history\n"
   ]
  },
  {
   "cell_type": "markdown",
   "metadata": {},
   "source": [
    "#### Train DAFC models"
   ]
  },
  {
   "cell_type": "code",
   "execution_count": 35,
   "metadata": {},
   "outputs": [
    {
     "name": "stdout",
     "output_type": "stream",
     "text": [
      "\n",
      "Training IQ Range Detector:\n",
      "ratio: 0.0686798095703125 , n1: 45010 , n_total: 655360\n",
      "w1:  14.492396957923885\n"
     ]
    },
    {
     "data": {
      "text/html": [
       "Finishing last run (ID:wl5rffv8) before initializing another..."
      ],
      "text/plain": [
       "<IPython.core.display.HTML object>"
      ]
     },
     "metadata": {},
     "output_type": "display_data"
    },
    {
     "data": {
      "application/vnd.jupyter.widget-view+json": {
       "model_id": "943637a1a9624bda9b9c57428803e61d",
       "version_major": 2,
       "version_minor": 0
      },
      "text/plain": [
       "VBox(children=(Label(value='0.004 MB of 0.004 MB uploaded\\r'), FloatProgress(value=1.0, max=1.0)))"
      ]
     },
     "metadata": {},
     "output_type": "display_data"
    },
    {
     "data": {
      "text/html": [
       "<style>\n",
       "    table.wandb td:nth-child(1) { padding: 0 10px; text-align: left ; width: auto;} td:nth-child(2) {text-align: left ; width: 100%}\n",
       "    .wandb-row { display: flex; flex-direction: row; flex-wrap: wrap; justify-content: flex-start; width: 100% }\n",
       "    .wandb-col { display: flex; flex-direction: column; flex-basis: 100%; flex: 1; padding: 10px; }\n",
       "    </style>\n",
       "<div class=\"wandb-row\"><div class=\"wandb-col\"><h3>Run history:</h3><br/><table class=\"wandb\"><tr><td>IQ_unet/train_loss</td><td>█▅▅▄▄▃▃▃▃▂▂▂▂▂▂▂▂▂▂▁▁▁▁▁▁▁▁▁▁▁▁▁▁▁▁▁▁▁▁▁</td></tr><tr><td>IQ_unet/val_dice</td><td>▁▁▁▂▃▃▄▄▄▄▅▅▆▅▅▆▆▆▇▆▇▆▆▆▆▇▇▇▇▇▇▇███▇████</td></tr><tr><td>IQ_unet/val_f1</td><td>▁▁▁▂▃▃▄▄▄▄▅▅▆▅▅▆▆▆▇▆▇▆▆▆▆▇▇▇▇▇▇▇███▇████</td></tr><tr><td>IQ_unet/val_loss</td><td>██▆▅▄▄▄▃▃▃▃▂▂▂▂▂▂▂▂▂▂▂▁▁▂▁▁▁▁▁▁▁▁▁▁▁▁▁▁▁</td></tr><tr><td>IQ_unet/val_precision</td><td>▁▁▁▃▄▅▅▄▄▄▅▅▆▅▅▆▆▆▇▆▆▆▆▆▆▆▇▇▇▇▇▇███▇▇███</td></tr><tr><td>IQ_unet/val_recall</td><td>▁▁▁▁▂▂▃▃▄▅▄▅▅▆▅▆▆▇▆▇▇▇▇▇▇▇▇▇▇██▇████████</td></tr><tr><td>RD_unet/train_loss</td><td>█▂▁▁▁▁▁▁▁▁▁▁▁▁▁▁▁▁▁▁▁▁▁▁▁▁▁▁▁▁▁▁▁▁▁▁▁▁▁▁</td></tr><tr><td>RD_unet/val_dice</td><td>▁▄▅▅▆▆▇▇▇▇▇▇▇▇▇▇█▇▇█▇▇▇█▇██▇█▇▇████▇███▇</td></tr><tr><td>RD_unet/val_f1</td><td>▁▄▅▅▆▆▇▇▇▇▇▇▇▇▇▇█▇▇█▇▇▇█▇██▇█▇▇████▇███▇</td></tr><tr><td>RD_unet/val_loss</td><td>█▂▁▁▁▁▁▁▁▁▁▁▁▁▁▁▁▁▁▁▁▁▁▁▁▁▁▁▁▁▁▁▁▁▁▁▁▁▁▁</td></tr><tr><td>RD_unet/val_precision</td><td>▁▃▅▄▆▆▆▆▇▆▇▇▇▇▇▇█▇▇▇▇▇▇█▇██▇█▇▇████▇███▇</td></tr><tr><td>RD_unet/val_recall</td><td>▁▄▅█▆▆▃▆▄▇▇▆█▇▅▇▇▇█▇▇▇▇█▇█▇▇▆███▇▇▆█▇▇▆▇</td></tr><tr><td>epoch</td><td>▁▁▁▂▂▂▃▃▃▃▄▄▄▅▅▅▅▆▆▆▇▇▇▇██▁▁▂▂▂▃▃▃▃▄▄▄▅▅</td></tr></table><br/></div><div class=\"wandb-col\"><h3>Run summary:</h3><br/><table class=\"wandb\"><tr><td>IQ_unet/train_loss</td><td>0.02086</td></tr><tr><td>IQ_unet/val_dice</td><td>0.20664</td></tr><tr><td>IQ_unet/val_f1</td><td>0.20664</td></tr><tr><td>IQ_unet/val_loss</td><td>0.02169</td></tr><tr><td>IQ_unet/val_precision</td><td>0.12166</td></tr><tr><td>IQ_unet/val_recall</td><td>0.68558</td></tr><tr><td>RD_unet/train_loss</td><td>0.0002</td></tr><tr><td>RD_unet/val_dice</td><td>0.95406</td></tr><tr><td>RD_unet/val_f1</td><td>0.95406</td></tr><tr><td>RD_unet/val_loss</td><td>0.00022</td></tr><tr><td>RD_unet/val_precision</td><td>0.91349</td></tr><tr><td>RD_unet/val_recall</td><td>0.9984</td></tr><tr><td>epoch</td><td>112</td></tr></table><br/></div></div>"
      ],
      "text/plain": [
       "<IPython.core.display.HTML object>"
      ]
     },
     "metadata": {},
     "output_type": "display_data"
    },
    {
     "data": {
      "text/html": [
       " View run <strong style=\"color:#cdcd00\">efficient-tree-8</strong> at: <a href='https://wandb.ai/ari-granevich/Target_detection-Unet_DAFC_DACK_Diffusion/runs/wl5rffv8' target=\"_blank\">https://wandb.ai/ari-granevich/Target_detection-Unet_DAFC_DACK_Diffusion/runs/wl5rffv8</a><br/> View project at: <a href='https://wandb.ai/ari-granevich/Target_detection-Unet_DAFC_DACK_Diffusion' target=\"_blank\">https://wandb.ai/ari-granevich/Target_detection-Unet_DAFC_DACK_Diffusion</a><br/>Synced 5 W&B file(s), 0 media file(s), 0 artifact file(s) and 0 other file(s)"
      ],
      "text/plain": [
       "<IPython.core.display.HTML object>"
      ]
     },
     "metadata": {},
     "output_type": "display_data"
    },
    {
     "data": {
      "text/html": [
       "Find logs at: <code>./wandb/run-20250210_210535-wl5rffv8/logs</code>"
      ],
      "text/plain": [
       "<IPython.core.display.HTML object>"
      ]
     },
     "metadata": {},
     "output_type": "display_data"
    },
    {
     "data": {
      "text/html": [
       "Successfully finished last run (ID:wl5rffv8). Initializing new run:<br/>"
      ],
      "text/plain": [
       "<IPython.core.display.HTML object>"
      ]
     },
     "metadata": {},
     "output_type": "display_data"
    },
    {
     "data": {
      "application/vnd.jupyter.widget-view+json": {
       "model_id": "a78d7f5e03284a4ebf13e45e4356bbe6",
       "version_major": 2,
       "version_minor": 0
      },
      "text/plain": [
       "VBox(children=(Label(value='Waiting for wandb.init()...\\r'), FloatProgress(value=0.011112202900565332, max=1.0…"
      ]
     },
     "metadata": {},
     "output_type": "display_data"
    },
    {
     "data": {
      "text/html": [
       "wandb version 0.19.6 is available!  To upgrade, please run:\n",
       " $ pip install wandb --upgrade"
      ],
      "text/plain": [
       "<IPython.core.display.HTML object>"
      ]
     },
     "metadata": {},
     "output_type": "display_data"
    },
    {
     "data": {
      "text/html": [
       "Tracking run with wandb version 0.17.1"
      ],
      "text/plain": [
       "<IPython.core.display.HTML object>"
      ]
     },
     "metadata": {},
     "output_type": "display_data"
    },
    {
     "data": {
      "text/html": [
       "Run data is saved locally in <code>/home/hawk/Desktop/Heavy Detector/Heavy-Clutter-Detection/notebooks/wandb/run-20250210_224333-wn21kes2</code>"
      ],
      "text/plain": [
       "<IPython.core.display.HTML object>"
      ]
     },
     "metadata": {},
     "output_type": "display_data"
    },
    {
     "data": {
      "text/html": [
       "Syncing run <strong><a href='https://wandb.ai/ari-granevich/radar_detection/runs/wn21kes2' target=\"_blank\">range_IQ_run</a></strong> to <a href='https://wandb.ai/ari-granevich/radar_detection' target=\"_blank\">Weights & Biases</a> (<a href='https://wandb.me/run' target=\"_blank\">docs</a>)<br/>"
      ],
      "text/plain": [
       "<IPython.core.display.HTML object>"
      ]
     },
     "metadata": {},
     "output_type": "display_data"
    },
    {
     "data": {
      "text/html": [
       " View project at <a href='https://wandb.ai/ari-granevich/radar_detection' target=\"_blank\">https://wandb.ai/ari-granevich/radar_detection</a>"
      ],
      "text/plain": [
       "<IPython.core.display.HTML object>"
      ]
     },
     "metadata": {},
     "output_type": "display_data"
    },
    {
     "data": {
      "text/html": [
       " View run at <a href='https://wandb.ai/ari-granevich/radar_detection/runs/wn21kes2' target=\"_blank\">https://wandb.ai/ari-granevich/radar_detection/runs/wn21kes2</a>"
      ],
      "text/plain": [
       "<IPython.core.display.HTML object>"
      ]
     },
     "metadata": {},
     "output_type": "display_data"
    },
    {
     "name": "stdout",
     "output_type": "stream",
     "text": [
      "Last computed LR: 0.001\n"
     ]
    },
    {
     "name": "stderr",
     "output_type": "stream",
     "text": [
      "Training Progress:   0%|          | 0/300 [00:00<?, ?it/s]"
     ]
    },
    {
     "name": "stdout",
     "output_type": "stream",
     "text": [
      "Training IQ network\n"
     ]
    },
    {
     "name": "stderr",
     "output_type": "stream",
     "text": [
      "Training Progress:   0%|          | 1/300 [00:10<53:34, 10.75s/it]"
     ]
    },
    {
     "name": "stdout",
     "output_type": "stream",
     "text": [
      "\n",
      "Epoch 1/300\n",
      "Train Loss: 0.8410 | Val Loss: 0.6754\n",
      "Train Acc: 0.8765 | Val Acc: 0.7277\n"
     ]
    },
    {
     "name": "stderr",
     "output_type": "stream",
     "text": [
      "Training Progress:   4%|▎         | 11/300 [01:58<51:48, 10.76s/it]"
     ]
    },
    {
     "name": "stdout",
     "output_type": "stream",
     "text": [
      "\n",
      "Epoch 11/300\n",
      "Train Loss: 0.6436 | Val Loss: 0.6477\n",
      "Train Acc: 0.7377 | Val Acc: 0.7019\n"
     ]
    },
    {
     "name": "stderr",
     "output_type": "stream",
     "text": [
      "Training Progress:   7%|▋         | 21/300 [03:46<50:09, 10.79s/it]"
     ]
    },
    {
     "name": "stdout",
     "output_type": "stream",
     "text": [
      "\n",
      "Epoch 21/300\n",
      "Train Loss: 0.5887 | Val Loss: 0.5787\n",
      "Train Acc: 0.7566 | Val Acc: 0.7503\n"
     ]
    },
    {
     "name": "stderr",
     "output_type": "stream",
     "text": [
      "Training Progress:  10%|█         | 31/300 [05:34<48:25, 10.80s/it]"
     ]
    },
    {
     "name": "stdout",
     "output_type": "stream",
     "text": [
      "\n",
      "Epoch 31/300\n",
      "Train Loss: 0.4609 | Val Loss: 0.4563\n",
      "Train Acc: 0.8342 | Val Acc: 0.8314\n"
     ]
    },
    {
     "name": "stderr",
     "output_type": "stream",
     "text": [
      "Training Progress:  14%|█▎        | 41/300 [07:22<46:37, 10.80s/it]"
     ]
    },
    {
     "name": "stdout",
     "output_type": "stream",
     "text": [
      "\n",
      "Epoch 41/300\n",
      "Train Loss: 0.3320 | Val Loss: 0.3275\n",
      "Train Acc: 0.8917 | Val Acc: 0.8945\n"
     ]
    },
    {
     "name": "stderr",
     "output_type": "stream",
     "text": [
      "Training Progress:  17%|█▋        | 51/300 [09:10<44:48, 10.80s/it]"
     ]
    },
    {
     "name": "stdout",
     "output_type": "stream",
     "text": [
      "\n",
      "Epoch 51/300\n",
      "Train Loss: 0.2653 | Val Loss: 0.2640\n",
      "Train Acc: 0.9210 | Val Acc: 0.9173\n"
     ]
    },
    {
     "name": "stderr",
     "output_type": "stream",
     "text": [
      "Training Progress:  20%|██        | 61/300 [10:58<43:02, 10.81s/it]"
     ]
    },
    {
     "name": "stdout",
     "output_type": "stream",
     "text": [
      "\n",
      "Epoch 61/300\n",
      "Train Loss: 0.2249 | Val Loss: 0.2262\n",
      "Train Acc: 0.9370 | Val Acc: 0.9403\n"
     ]
    },
    {
     "name": "stderr",
     "output_type": "stream",
     "text": [
      "Training Progress:  24%|██▎       | 71/300 [12:45<41:09, 10.78s/it]"
     ]
    },
    {
     "name": "stdout",
     "output_type": "stream",
     "text": [
      "\n",
      "Epoch 71/300\n",
      "Train Loss: 0.2033 | Val Loss: 0.2029\n",
      "Train Acc: 0.9445 | Val Acc: 0.9434\n"
     ]
    },
    {
     "name": "stderr",
     "output_type": "stream",
     "text": [
      "Training Progress:  27%|██▋       | 81/300 [14:33<39:19, 10.77s/it]"
     ]
    },
    {
     "name": "stdout",
     "output_type": "stream",
     "text": [
      "\n",
      "Epoch 81/300\n",
      "Train Loss: 0.1887 | Val Loss: 0.1894\n",
      "Train Acc: 0.9499 | Val Acc: 0.9492\n"
     ]
    },
    {
     "name": "stderr",
     "output_type": "stream",
     "text": [
      "Training Progress:  30%|███       | 91/300 [16:21<37:34, 10.79s/it]"
     ]
    },
    {
     "name": "stdout",
     "output_type": "stream",
     "text": [
      "\n",
      "Epoch 91/300\n",
      "Train Loss: 0.1823 | Val Loss: 0.1785\n",
      "Train Acc: 0.9524 | Val Acc: 0.9562\n"
     ]
    },
    {
     "name": "stderr",
     "output_type": "stream",
     "text": [
      "Training Progress:  34%|███▎      | 101/300 [18:09<35:48, 10.79s/it]"
     ]
    },
    {
     "name": "stdout",
     "output_type": "stream",
     "text": [
      "\n",
      "Epoch 101/300\n",
      "Train Loss: 0.1714 | Val Loss: 0.1704\n",
      "Train Acc: 0.9562 | Val Acc: 0.9562\n"
     ]
    },
    {
     "name": "stderr",
     "output_type": "stream",
     "text": [
      "Training Progress:  37%|███▋      | 111/300 [19:57<33:59, 10.79s/it]"
     ]
    },
    {
     "name": "stdout",
     "output_type": "stream",
     "text": [
      "\n",
      "Epoch 111/300\n",
      "Train Loss: 0.1666 | Val Loss: 0.1669\n",
      "Train Acc: 0.9584 | Val Acc: 0.9575\n"
     ]
    },
    {
     "name": "stderr",
     "output_type": "stream",
     "text": [
      "Training Progress:  40%|████      | 121/300 [21:45<32:14, 10.81s/it]"
     ]
    },
    {
     "name": "stdout",
     "output_type": "stream",
     "text": [
      "\n",
      "Epoch 121/300\n",
      "Train Loss: 0.1630 | Val Loss: 0.1638\n",
      "Train Acc: 0.9595 | Val Acc: 0.9596\n"
     ]
    },
    {
     "name": "stderr",
     "output_type": "stream",
     "text": [
      "Training Progress:  44%|████▎     | 131/300 [23:33<30:19, 10.77s/it]"
     ]
    },
    {
     "name": "stdout",
     "output_type": "stream",
     "text": [
      "\n",
      "Epoch 131/300\n",
      "Train Loss: 0.1573 | Val Loss: 0.1639\n",
      "Train Acc: 0.9611 | Val Acc: 0.9614\n"
     ]
    },
    {
     "name": "stderr",
     "output_type": "stream",
     "text": [
      "Training Progress:  47%|████▋     | 141/300 [25:21<28:38, 10.81s/it]"
     ]
    },
    {
     "name": "stdout",
     "output_type": "stream",
     "text": [
      "\n",
      "Epoch 141/300\n",
      "Train Loss: 0.1558 | Val Loss: 0.1543\n",
      "Train Acc: 0.9618 | Val Acc: 0.9618\n"
     ]
    },
    {
     "name": "stderr",
     "output_type": "stream",
     "text": [
      "Training Progress:  50%|█████     | 151/300 [27:09<26:52, 10.82s/it]"
     ]
    },
    {
     "name": "stdout",
     "output_type": "stream",
     "text": [
      "\n",
      "Epoch 151/300\n",
      "Train Loss: 0.1545 | Val Loss: 0.1562\n",
      "Train Acc: 0.9620 | Val Acc: 0.9612\n"
     ]
    },
    {
     "name": "stderr",
     "output_type": "stream",
     "text": [
      "Training Progress:  54%|█████▎    | 161/300 [28:57<25:01, 10.80s/it]"
     ]
    },
    {
     "name": "stdout",
     "output_type": "stream",
     "text": [
      "\n",
      "Epoch 161/300\n",
      "Train Loss: 0.1526 | Val Loss: 0.1534\n",
      "Train Acc: 0.9627 | Val Acc: 0.9638\n"
     ]
    },
    {
     "name": "stderr",
     "output_type": "stream",
     "text": [
      "Training Progress:  57%|█████▋    | 171/300 [30:45<23:11, 10.78s/it]"
     ]
    },
    {
     "name": "stdout",
     "output_type": "stream",
     "text": [
      "\n",
      "Epoch 171/300\n",
      "Train Loss: 0.1510 | Val Loss: 0.1509\n",
      "Train Acc: 0.9635 | Val Acc: 0.9645\n"
     ]
    },
    {
     "name": "stderr",
     "output_type": "stream",
     "text": [
      "Training Progress:  60%|██████    | 181/300 [32:33<21:23, 10.78s/it]"
     ]
    },
    {
     "name": "stdout",
     "output_type": "stream",
     "text": [
      "\n",
      "Epoch 181/300\n",
      "Train Loss: 0.1462 | Val Loss: 0.1499\n",
      "Train Acc: 0.9645 | Val Acc: 0.9644\n"
     ]
    },
    {
     "name": "stderr",
     "output_type": "stream",
     "text": [
      "Training Progress:  64%|██████▎   | 191/300 [34:21<19:38, 10.81s/it]"
     ]
    },
    {
     "name": "stdout",
     "output_type": "stream",
     "text": [
      "\n",
      "Epoch 191/300\n",
      "Train Loss: 0.1476 | Val Loss: 0.1438\n",
      "Train Acc: 0.9642 | Val Acc: 0.9664\n"
     ]
    },
    {
     "name": "stderr",
     "output_type": "stream",
     "text": [
      "Training Progress:  67%|██████▋   | 201/300 [36:09<17:50, 10.82s/it]"
     ]
    },
    {
     "name": "stdout",
     "output_type": "stream",
     "text": [
      "\n",
      "Epoch 201/300\n",
      "Train Loss: 0.1465 | Val Loss: 0.1433\n",
      "Train Acc: 0.9647 | Val Acc: 0.9645\n"
     ]
    },
    {
     "name": "stderr",
     "output_type": "stream",
     "text": [
      "Training Progress:  70%|███████   | 211/300 [37:57<16:00, 10.79s/it]"
     ]
    },
    {
     "name": "stdout",
     "output_type": "stream",
     "text": [
      "\n",
      "Epoch 211/300\n",
      "Train Loss: 0.1452 | Val Loss: 0.1418\n",
      "Train Acc: 0.9651 | Val Acc: 0.9655\n"
     ]
    },
    {
     "name": "stderr",
     "output_type": "stream",
     "text": [
      "Training Progress:  74%|███████▎  | 221/300 [39:45<14:15, 10.82s/it]"
     ]
    },
    {
     "name": "stdout",
     "output_type": "stream",
     "text": [
      "\n",
      "Epoch 221/300\n",
      "Train Loss: 0.1444 | Val Loss: 0.1416\n",
      "Train Acc: 0.9651 | Val Acc: 0.9658\n"
     ]
    },
    {
     "name": "stderr",
     "output_type": "stream",
     "text": [
      "Training Progress:  75%|███████▍  | 224/300 [40:28<13:44, 10.84s/it]"
     ]
    },
    {
     "name": "stdout",
     "output_type": "stream",
     "text": [
      "\n",
      "Early stopping triggered after 225 epochs\n"
     ]
    },
    {
     "name": "stderr",
     "output_type": "stream",
     "text": [
      "\n"
     ]
    },
    {
     "data": {
      "application/vnd.jupyter.widget-view+json": {
       "model_id": "fe3f12cac82647b6ac06f12ecb30a793",
       "version_major": 2,
       "version_minor": 0
      },
      "text/plain": [
       "VBox(children=(Label(value='0.004 MB of 0.004 MB uploaded\\r'), FloatProgress(value=1.0, max=1.0)))"
      ]
     },
     "metadata": {},
     "output_type": "display_data"
    },
    {
     "data": {
      "text/html": [
       "<style>\n",
       "    table.wandb td:nth-child(1) { padding: 0 10px; text-align: left ; width: auto;} td:nth-child(2) {text-align: left ; width: 100%}\n",
       "    .wandb-row { display: flex; flex-direction: row; flex-wrap: wrap; justify-content: flex-start; width: 100% }\n",
       "    .wandb-col { display: flex; flex-direction: column; flex-basis: 100%; flex: 1; padding: 10px; }\n",
       "    </style>\n",
       "<div class=\"wandb-row\"><div class=\"wandb-col\"><h3>Run history:</h3><br/><table class=\"wandb\"><tr><td>epoch</td><td>▁▁▁▂▂▂▂▂▂▃▃▃▃▃▃▄▄▄▄▄▅▅▅▅▅▅▆▆▆▆▆▇▇▇▇▇▇███</td></tr><tr><td>learning_rate</td><td>██████████████▇▇▇▆▆▆▆▆▆▅▅▄▄▄▃▃▂▂▂▂▂▂▂▂▁▁</td></tr><tr><td>train_accuracy</td><td>▁▁▁▂▂▄▅▆▆▇▇▇▇▇██████████████████████████</td></tr><tr><td>train_loss</td><td>███▇▇▆▄▄▃▃▂▂▂▂▂▂▁▁▁▁▁▁▁▁▁▁▁▁▁▁▁▁▁▁▁▁▁▁▁▁</td></tr><tr><td>val_accuracy</td><td>▂▁▂▂▂▄▆▆▆▇▇▇▇▇██████████████████████████</td></tr><tr><td>val_loss</td><td>███▇▇▆▄▄▃▃▂▂▂▂▂▂▁▁▁▁▁▁▁▁▁▁▁▁▁▁▁▁▁▁▁▁▁▁▁▁</td></tr></table><br/></div><div class=\"wandb-col\"><h3>Run summary:</h3><br/><table class=\"wandb\"><tr><td>epoch</td><td>225</td></tr><tr><td>learning_rate</td><td>0.00025</td></tr><tr><td>train_accuracy</td><td>0.96516</td></tr><tr><td>train_loss</td><td>0.14473</td></tr><tr><td>val_accuracy</td><td>0.96427</td></tr><tr><td>val_loss</td><td>0.14412</td></tr></table><br/></div></div>"
      ],
      "text/plain": [
       "<IPython.core.display.HTML object>"
      ]
     },
     "metadata": {},
     "output_type": "display_data"
    },
    {
     "data": {
      "text/html": [
       " View run <strong style=\"color:#cdcd00\">range_IQ_run</strong> at: <a href='https://wandb.ai/ari-granevich/radar_detection/runs/wn21kes2' target=\"_blank\">https://wandb.ai/ari-granevich/radar_detection/runs/wn21kes2</a><br/> View project at: <a href='https://wandb.ai/ari-granevich/radar_detection' target=\"_blank\">https://wandb.ai/ari-granevich/radar_detection</a><br/>Synced 5 W&B file(s), 0 media file(s), 0 artifact file(s) and 0 other file(s)"
      ],
      "text/plain": [
       "<IPython.core.display.HTML object>"
      ]
     },
     "metadata": {},
     "output_type": "display_data"
    },
    {
     "data": {
      "text/html": [
       "Find logs at: <code>./wandb/run-20250210_224333-wn21kes2/logs</code>"
      ],
      "text/plain": [
       "<IPython.core.display.HTML object>"
      ]
     },
     "metadata": {},
     "output_type": "display_data"
    }
   ],
   "source": [
    "# Train IQ range detector\n",
    "print(\"\\nTraining IQ Range Detector:\")\n",
    "map_type = \"IQ\"\n",
    "detection_type = \"range\"\n",
    "ratio = calculate_ratio(train_loader, detection_type)\n",
    "criterion = CBBCE(ratio)\n",
    "range_model = DAFCRadarNet(detection_type, map_type)\n",
    "range_history = train_model(range_model, criterion, train_loader, val_loader, detection_type, map_type)\n",
    "plot_training_history(range_history, \"Range\", map_type)"
   ]
  },
  {
   "cell_type": "code",
   "execution_count": 36,
   "metadata": {},
   "outputs": [
    {
     "name": "stdout",
     "output_type": "stream",
     "text": [
      "\n",
      "Training RD Range Detector:\n",
      "w1:  14.492396957923885\n"
     ]
    },
    {
     "data": {
      "application/vnd.jupyter.widget-view+json": {
       "model_id": "b4fdc9c6469a4dce85af5cdf1f55da56",
       "version_major": 2,
       "version_minor": 0
      },
      "text/plain": [
       "VBox(children=(Label(value='Waiting for wandb.init()...\\r'), FloatProgress(value=0.011113184122627394, max=1.0…"
      ]
     },
     "metadata": {},
     "output_type": "display_data"
    },
    {
     "data": {
      "text/html": [
       "wandb version 0.19.6 is available!  To upgrade, please run:\n",
       " $ pip install wandb --upgrade"
      ],
      "text/plain": [
       "<IPython.core.display.HTML object>"
      ]
     },
     "metadata": {},
     "output_type": "display_data"
    },
    {
     "data": {
      "text/html": [
       "Tracking run with wandb version 0.17.1"
      ],
      "text/plain": [
       "<IPython.core.display.HTML object>"
      ]
     },
     "metadata": {},
     "output_type": "display_data"
    },
    {
     "data": {
      "text/html": [
       "Run data is saved locally in <code>/home/hawk/Desktop/Heavy Detector/Heavy-Clutter-Detection/notebooks/wandb/run-20250210_232416-3nbl0oiq</code>"
      ],
      "text/plain": [
       "<IPython.core.display.HTML object>"
      ]
     },
     "metadata": {},
     "output_type": "display_data"
    },
    {
     "data": {
      "text/html": [
       "Syncing run <strong><a href='https://wandb.ai/ari-granevich/radar_detection/runs/3nbl0oiq' target=\"_blank\">range_RD_run</a></strong> to <a href='https://wandb.ai/ari-granevich/radar_detection' target=\"_blank\">Weights & Biases</a> (<a href='https://wandb.me/run' target=\"_blank\">docs</a>)<br/>"
      ],
      "text/plain": [
       "<IPython.core.display.HTML object>"
      ]
     },
     "metadata": {},
     "output_type": "display_data"
    },
    {
     "data": {
      "text/html": [
       " View project at <a href='https://wandb.ai/ari-granevich/radar_detection' target=\"_blank\">https://wandb.ai/ari-granevich/radar_detection</a>"
      ],
      "text/plain": [
       "<IPython.core.display.HTML object>"
      ]
     },
     "metadata": {},
     "output_type": "display_data"
    },
    {
     "data": {
      "text/html": [
       " View run at <a href='https://wandb.ai/ari-granevich/radar_detection/runs/3nbl0oiq' target=\"_blank\">https://wandb.ai/ari-granevich/radar_detection/runs/3nbl0oiq</a>"
      ],
      "text/plain": [
       "<IPython.core.display.HTML object>"
      ]
     },
     "metadata": {},
     "output_type": "display_data"
    },
    {
     "name": "stdout",
     "output_type": "stream",
     "text": [
      "Last computed LR: 0.001\n"
     ]
    },
    {
     "name": "stderr",
     "output_type": "stream",
     "text": [
      "Training Progress:   0%|          | 0/300 [00:00<?, ?it/s]"
     ]
    },
    {
     "name": "stdout",
     "output_type": "stream",
     "text": [
      "Training RD network\n"
     ]
    },
    {
     "name": "stderr",
     "output_type": "stream",
     "text": [
      "Training Progress:   0%|          | 1/300 [00:10<54:12, 10.88s/it]"
     ]
    },
    {
     "name": "stdout",
     "output_type": "stream",
     "text": [
      "\n",
      "Epoch 1/300\n",
      "Train Loss: 0.9372 | Val Loss: 0.9375\n",
      "Train Acc: 0.9567 | Val Acc: 0.9656\n"
     ]
    },
    {
     "name": "stderr",
     "output_type": "stream",
     "text": [
      "Training Progress:   4%|▎         | 11/300 [01:58<52:02, 10.80s/it]"
     ]
    },
    {
     "name": "stdout",
     "output_type": "stream",
     "text": [
      "\n",
      "Epoch 11/300\n",
      "Train Loss: 0.2805 | Val Loss: 0.2789\n",
      "Train Acc: 0.9465 | Val Acc: 0.9375\n"
     ]
    },
    {
     "name": "stderr",
     "output_type": "stream",
     "text": [
      "Training Progress:   7%|▋         | 21/300 [03:46<50:14, 10.80s/it]"
     ]
    },
    {
     "name": "stdout",
     "output_type": "stream",
     "text": [
      "\n",
      "Epoch 21/300\n",
      "Train Loss: 0.1785 | Val Loss: 0.1800\n",
      "Train Acc: 0.9687 | Val Acc: 0.9749\n"
     ]
    },
    {
     "name": "stderr",
     "output_type": "stream",
     "text": [
      "Training Progress:  10%|█         | 31/300 [05:34<48:26, 10.80s/it]"
     ]
    },
    {
     "name": "stdout",
     "output_type": "stream",
     "text": [
      "\n",
      "Epoch 31/300\n",
      "Train Loss: 0.1540 | Val Loss: 0.1544\n",
      "Train Acc: 0.9742 | Val Acc: 0.9779\n"
     ]
    },
    {
     "name": "stderr",
     "output_type": "stream",
     "text": [
      "Training Progress:  14%|█▎        | 41/300 [07:22<46:37, 10.80s/it]"
     ]
    },
    {
     "name": "stdout",
     "output_type": "stream",
     "text": [
      "\n",
      "Epoch 41/300\n",
      "Train Loss: 0.1411 | Val Loss: 0.1414\n",
      "Train Acc: 0.9768 | Val Acc: 0.9784\n"
     ]
    },
    {
     "name": "stderr",
     "output_type": "stream",
     "text": [
      "Training Progress:  17%|█▋        | 51/300 [09:11<44:55, 10.82s/it]"
     ]
    },
    {
     "name": "stdout",
     "output_type": "stream",
     "text": [
      "\n",
      "Epoch 51/300\n",
      "Train Loss: 0.1325 | Val Loss: 0.1307\n",
      "Train Acc: 0.9781 | Val Acc: 0.9764\n"
     ]
    },
    {
     "name": "stderr",
     "output_type": "stream",
     "text": [
      "Training Progress:  20%|██        | 61/300 [10:59<43:00, 10.80s/it]"
     ]
    },
    {
     "name": "stdout",
     "output_type": "stream",
     "text": [
      "\n",
      "Epoch 61/300\n",
      "Train Loss: 0.1273 | Val Loss: 0.1235\n",
      "Train Acc: 0.9788 | Val Acc: 0.9795\n"
     ]
    },
    {
     "name": "stderr",
     "output_type": "stream",
     "text": [
      "Training Progress:  24%|██▎       | 71/300 [12:47<41:12, 10.79s/it]"
     ]
    },
    {
     "name": "stdout",
     "output_type": "stream",
     "text": [
      "\n",
      "Epoch 71/300\n",
      "Train Loss: 0.1226 | Val Loss: 0.1221\n",
      "Train Acc: 0.9796 | Val Acc: 0.9801\n"
     ]
    },
    {
     "name": "stderr",
     "output_type": "stream",
     "text": [
      "Training Progress:  27%|██▋       | 81/300 [14:35<39:22, 10.79s/it]"
     ]
    },
    {
     "name": "stdout",
     "output_type": "stream",
     "text": [
      "\n",
      "Epoch 81/300\n",
      "Train Loss: 0.1183 | Val Loss: 0.1182\n",
      "Train Acc: 0.9802 | Val Acc: 0.9798\n"
     ]
    },
    {
     "name": "stderr",
     "output_type": "stream",
     "text": [
      "Training Progress:  30%|███       | 91/300 [16:23<37:38, 10.81s/it]"
     ]
    },
    {
     "name": "stdout",
     "output_type": "stream",
     "text": [
      "\n",
      "Epoch 91/300\n",
      "Train Loss: 0.1141 | Val Loss: 0.1133\n",
      "Train Acc: 0.9807 | Val Acc: 0.9787\n"
     ]
    },
    {
     "name": "stderr",
     "output_type": "stream",
     "text": [
      "Training Progress:  34%|███▎      | 101/300 [18:10<35:48, 10.79s/it]"
     ]
    },
    {
     "name": "stdout",
     "output_type": "stream",
     "text": [
      "\n",
      "Epoch 101/300\n",
      "Train Loss: 0.1129 | Val Loss: 0.1148\n",
      "Train Acc: 0.9807 | Val Acc: 0.9777\n"
     ]
    },
    {
     "name": "stderr",
     "output_type": "stream",
     "text": [
      "Training Progress:  37%|███▋      | 111/300 [19:59<34:06, 10.83s/it]"
     ]
    },
    {
     "name": "stdout",
     "output_type": "stream",
     "text": [
      "\n",
      "Epoch 111/300\n",
      "Train Loss: 0.1078 | Val Loss: 0.1067\n",
      "Train Acc: 0.9817 | Val Acc: 0.9824\n"
     ]
    },
    {
     "name": "stderr",
     "output_type": "stream",
     "text": [
      "Training Progress:  40%|████      | 121/300 [21:46<32:09, 10.78s/it]"
     ]
    },
    {
     "name": "stdout",
     "output_type": "stream",
     "text": [
      "\n",
      "Epoch 121/300\n",
      "Train Loss: 0.1061 | Val Loss: 0.1046\n",
      "Train Acc: 0.9819 | Val Acc: 0.9815\n"
     ]
    },
    {
     "name": "stderr",
     "output_type": "stream",
     "text": [
      "Training Progress:  44%|████▎     | 131/300 [23:35<30:26, 10.81s/it]"
     ]
    },
    {
     "name": "stdout",
     "output_type": "stream",
     "text": [
      "\n",
      "Epoch 131/300\n",
      "Train Loss: 0.1043 | Val Loss: 0.1054\n",
      "Train Acc: 0.9822 | Val Acc: 0.9802\n"
     ]
    },
    {
     "name": "stderr",
     "output_type": "stream",
     "text": [
      "Training Progress:  47%|████▋     | 141/300 [25:23<28:39, 10.81s/it]"
     ]
    },
    {
     "name": "stdout",
     "output_type": "stream",
     "text": [
      "\n",
      "Epoch 141/300\n",
      "Train Loss: 0.1029 | Val Loss: 0.1037\n",
      "Train Acc: 0.9826 | Val Acc: 0.9835\n"
     ]
    },
    {
     "name": "stderr",
     "output_type": "stream",
     "text": [
      "Training Progress:  50%|█████     | 151/300 [27:11<26:53, 10.83s/it]"
     ]
    },
    {
     "name": "stdout",
     "output_type": "stream",
     "text": [
      "\n",
      "Epoch 151/300\n",
      "Train Loss: 0.1005 | Val Loss: 0.0985\n",
      "Train Acc: 0.9830 | Val Acc: 0.9840\n"
     ]
    },
    {
     "name": "stderr",
     "output_type": "stream",
     "text": [
      "Training Progress:  54%|█████▎    | 161/300 [28:59<24:59, 10.79s/it]"
     ]
    },
    {
     "name": "stdout",
     "output_type": "stream",
     "text": [
      "\n",
      "Epoch 161/300\n",
      "Train Loss: 0.0983 | Val Loss: 0.0996\n",
      "Train Acc: 0.9837 | Val Acc: 0.9814\n"
     ]
    },
    {
     "name": "stderr",
     "output_type": "stream",
     "text": [
      "Training Progress:  57%|█████▋    | 171/300 [30:47<23:10, 10.78s/it]"
     ]
    },
    {
     "name": "stdout",
     "output_type": "stream",
     "text": [
      "\n",
      "Epoch 171/300\n",
      "Train Loss: 0.0958 | Val Loss: 0.0979\n",
      "Train Acc: 0.9838 | Val Acc: 0.9856\n"
     ]
    },
    {
     "name": "stderr",
     "output_type": "stream",
     "text": [
      "Training Progress:  60%|██████    | 181/300 [32:35<21:22, 10.78s/it]"
     ]
    },
    {
     "name": "stdout",
     "output_type": "stream",
     "text": [
      "\n",
      "Epoch 181/300\n",
      "Train Loss: 0.0947 | Val Loss: 0.0936\n",
      "Train Acc: 0.9841 | Val Acc: 0.9853\n"
     ]
    },
    {
     "name": "stderr",
     "output_type": "stream",
     "text": [
      "Training Progress:  64%|██████▎   | 191/300 [34:22<19:35, 10.78s/it]"
     ]
    },
    {
     "name": "stdout",
     "output_type": "stream",
     "text": [
      "\n",
      "Epoch 191/300\n",
      "Train Loss: 0.0932 | Val Loss: 0.0925\n",
      "Train Acc: 0.9845 | Val Acc: 0.9862\n"
     ]
    },
    {
     "name": "stderr",
     "output_type": "stream",
     "text": [
      "Training Progress:  67%|██████▋   | 201/300 [36:10<17:46, 10.78s/it]"
     ]
    },
    {
     "name": "stdout",
     "output_type": "stream",
     "text": [
      "\n",
      "Epoch 201/300\n",
      "Train Loss: 0.0905 | Val Loss: 0.0915\n",
      "Train Acc: 0.9850 | Val Acc: 0.9855\n"
     ]
    },
    {
     "name": "stderr",
     "output_type": "stream",
     "text": [
      "Training Progress:  70%|███████   | 211/300 [37:58<15:58, 10.77s/it]"
     ]
    },
    {
     "name": "stdout",
     "output_type": "stream",
     "text": [
      "\n",
      "Epoch 211/300\n",
      "Train Loss: 0.0894 | Val Loss: 0.0871\n",
      "Train Acc: 0.9852 | Val Acc: 0.9852\n"
     ]
    },
    {
     "name": "stderr",
     "output_type": "stream",
     "text": [
      "Training Progress:  74%|███████▎  | 221/300 [39:46<14:13, 10.80s/it]"
     ]
    },
    {
     "name": "stdout",
     "output_type": "stream",
     "text": [
      "\n",
      "Epoch 221/300\n",
      "Train Loss: 0.0857 | Val Loss: 0.0884\n",
      "Train Acc: 0.9858 | Val Acc: 0.9853\n"
     ]
    },
    {
     "name": "stderr",
     "output_type": "stream",
     "text": [
      "Training Progress:  77%|███████▋  | 231/300 [41:34<12:26, 10.82s/it]"
     ]
    },
    {
     "name": "stdout",
     "output_type": "stream",
     "text": [
      "\n",
      "Epoch 231/300\n",
      "Train Loss: 0.0857 | Val Loss: 0.0847\n",
      "Train Acc: 0.9859 | Val Acc: 0.9842\n"
     ]
    },
    {
     "name": "stderr",
     "output_type": "stream",
     "text": [
      "Training Progress:  80%|████████  | 241/300 [43:22<10:37, 10.81s/it]"
     ]
    },
    {
     "name": "stdout",
     "output_type": "stream",
     "text": [
      "\n",
      "Epoch 241/300\n",
      "Train Loss: 0.0847 | Val Loss: 0.0851\n",
      "Train Acc: 0.9861 | Val Acc: 0.9838\n"
     ]
    },
    {
     "name": "stderr",
     "output_type": "stream",
     "text": [
      "Training Progress:  84%|████████▎ | 251/300 [45:11<08:48, 10.79s/it]"
     ]
    },
    {
     "name": "stdout",
     "output_type": "stream",
     "text": [
      "\n",
      "Epoch 251/300\n",
      "Train Loss: 0.0853 | Val Loss: 0.0839\n",
      "Train Acc: 0.9860 | Val Acc: 0.9868\n"
     ]
    },
    {
     "name": "stderr",
     "output_type": "stream",
     "text": [
      "Training Progress:  87%|████████▋ | 261/300 [46:58<07:00, 10.78s/it]"
     ]
    },
    {
     "name": "stdout",
     "output_type": "stream",
     "text": [
      "\n",
      "Epoch 261/300\n",
      "Train Loss: 0.0827 | Val Loss: 0.0808\n",
      "Train Acc: 0.9863 | Val Acc: 0.9872\n"
     ]
    },
    {
     "name": "stderr",
     "output_type": "stream",
     "text": [
      "Training Progress:  90%|█████████ | 271/300 [48:46<05:12, 10.79s/it]"
     ]
    },
    {
     "name": "stdout",
     "output_type": "stream",
     "text": [
      "\n",
      "Epoch 271/300\n",
      "Train Loss: 0.0810 | Val Loss: 0.0818\n",
      "Train Acc: 0.9867 | Val Acc: 0.9867\n"
     ]
    },
    {
     "name": "stderr",
     "output_type": "stream",
     "text": [
      "Training Progress:  94%|█████████▎| 281/300 [50:35<03:25, 10.81s/it]"
     ]
    },
    {
     "name": "stdout",
     "output_type": "stream",
     "text": [
      "\n",
      "Epoch 281/300\n",
      "Train Loss: 0.0811 | Val Loss: 0.0795\n",
      "Train Acc: 0.9867 | Val Acc: 0.9860\n"
     ]
    },
    {
     "name": "stderr",
     "output_type": "stream",
     "text": [
      "Training Progress:  97%|█████████▋| 291/300 [52:22<01:37, 10.80s/it]"
     ]
    },
    {
     "name": "stdout",
     "output_type": "stream",
     "text": [
      "\n",
      "Epoch 291/300\n",
      "Train Loss: 0.0807 | Val Loss: 0.0811\n",
      "Train Acc: 0.9870 | Val Acc: 0.9861\n"
     ]
    },
    {
     "name": "stderr",
     "output_type": "stream",
     "text": [
      "Training Progress: 100%|██████████| 300/300 [54:00<00:00, 10.80s/it]\n"
     ]
    },
    {
     "data": {
      "application/vnd.jupyter.widget-view+json": {
       "model_id": "338376e53a7243c2ad00b1bf8aa92c7b",
       "version_major": 2,
       "version_minor": 0
      },
      "text/plain": [
       "VBox(children=(Label(value='0.004 MB of 0.004 MB uploaded\\r'), FloatProgress(value=1.0, max=1.0)))"
      ]
     },
     "metadata": {},
     "output_type": "display_data"
    },
    {
     "data": {
      "text/html": [
       "<style>\n",
       "    table.wandb td:nth-child(1) { padding: 0 10px; text-align: left ; width: auto;} td:nth-child(2) {text-align: left ; width: 100%}\n",
       "    .wandb-row { display: flex; flex-direction: row; flex-wrap: wrap; justify-content: flex-start; width: 100% }\n",
       "    .wandb-col { display: flex; flex-direction: column; flex-basis: 100%; flex: 1; padding: 10px; }\n",
       "    </style>\n",
       "<div class=\"wandb-row\"><div class=\"wandb-col\"><h3>Run history:</h3><br/><table class=\"wandb\"><tr><td>epoch</td><td>▁▁▁▁▂▂▂▂▂▃▃▃▃▃▃▄▄▄▄▄▅▅▅▅▅▅▆▆▆▆▆▆▇▇▇▇▇███</td></tr><tr><td>learning_rate</td><td>████████▇▇▇▇▇▇▆▅▅▅▅▄▄▄▄▃▃▃▃▂▂▂▂▂▂▂▂▁▁▁▁▁</td></tr><tr><td>train_accuracy</td><td>▁▆▇█████████████████████████████████████</td></tr><tr><td>train_loss</td><td>█▅▃▂▂▂▂▂▂▁▁▁▁▁▁▁▁▁▁▁▁▁▁▁▁▁▁▁▁▁▁▁▁▁▁▁▁▁▁▁</td></tr><tr><td>val_accuracy</td><td>▁▇▇█████████████████████████████████████</td></tr><tr><td>val_loss</td><td>█▄▃▂▂▂▂▂▂▂▁▁▁▁▁▁▁▁▁▁▁▁▁▁▁▁▁▁▁▁▁▁▁▁▁▁▁▁▁▁</td></tr></table><br/></div><div class=\"wandb-col\"><h3>Run summary:</h3><br/><table class=\"wandb\"><tr><td>epoch</td><td>300</td></tr><tr><td>learning_rate</td><td>0.0001</td></tr><tr><td>train_accuracy</td><td>0.98706</td></tr><tr><td>train_loss</td><td>0.08015</td></tr><tr><td>val_accuracy</td><td>0.98704</td></tr><tr><td>val_loss</td><td>0.07621</td></tr></table><br/></div></div>"
      ],
      "text/plain": [
       "<IPython.core.display.HTML object>"
      ]
     },
     "metadata": {},
     "output_type": "display_data"
    },
    {
     "data": {
      "text/html": [
       " View run <strong style=\"color:#cdcd00\">range_RD_run</strong> at: <a href='https://wandb.ai/ari-granevich/radar_detection/runs/3nbl0oiq' target=\"_blank\">https://wandb.ai/ari-granevich/radar_detection/runs/3nbl0oiq</a><br/> View project at: <a href='https://wandb.ai/ari-granevich/radar_detection' target=\"_blank\">https://wandb.ai/ari-granevich/radar_detection</a><br/>Synced 5 W&B file(s), 0 media file(s), 0 artifact file(s) and 0 other file(s)"
      ],
      "text/plain": [
       "<IPython.core.display.HTML object>"
      ]
     },
     "metadata": {},
     "output_type": "display_data"
    },
    {
     "data": {
      "text/html": [
       "Find logs at: <code>./wandb/run-20250210_232416-3nbl0oiq/logs</code>"
      ],
      "text/plain": [
       "<IPython.core.display.HTML object>"
      ]
     },
     "metadata": {},
     "output_type": "display_data"
    }
   ],
   "source": [
    "print(\"\\nTraining RD Range Detector:\")\n",
    "map_type = \"RD\"\n",
    "detection_type = \"range\"\n",
    "criterion = CBBCE(ratio)\n",
    "range_model = DAFCRadarNet(detection_type, map_type)\n",
    "range_history = train_model(range_model, criterion, train_loader, val_loader, detection_type, map_type)\n",
    "plot_training_history(range_history, \"Range\", map_type)"
   ]
  },
  {
   "cell_type": "code",
   "execution_count": 37,
   "metadata": {},
   "outputs": [
    {
     "name": "stdout",
     "output_type": "stream",
     "text": [
      "ratio: 0.034496682787698414 , n1: 44509 , n_total: 1290240\n",
      "w1:  28.848110533976634\n",
      "\n",
      "Training IQ Doppler Detector:\n"
     ]
    },
    {
     "data": {
      "text/html": [
       "wandb version 0.19.6 is available!  To upgrade, please run:\n",
       " $ pip install wandb --upgrade"
      ],
      "text/plain": [
       "<IPython.core.display.HTML object>"
      ]
     },
     "metadata": {},
     "output_type": "display_data"
    },
    {
     "data": {
      "text/html": [
       "Tracking run with wandb version 0.17.1"
      ],
      "text/plain": [
       "<IPython.core.display.HTML object>"
      ]
     },
     "metadata": {},
     "output_type": "display_data"
    },
    {
     "data": {
      "text/html": [
       "Run data is saved locally in <code>/home/hawk/Desktop/Heavy Detector/Heavy-Clutter-Detection/notebooks/wandb/run-20250211_001832-bs3ecy3e</code>"
      ],
      "text/plain": [
       "<IPython.core.display.HTML object>"
      ]
     },
     "metadata": {},
     "output_type": "display_data"
    },
    {
     "data": {
      "text/html": [
       "Syncing run <strong><a href='https://wandb.ai/ari-granevich/radar_detection/runs/bs3ecy3e' target=\"_blank\">doppler_IQ_run</a></strong> to <a href='https://wandb.ai/ari-granevich/radar_detection' target=\"_blank\">Weights & Biases</a> (<a href='https://wandb.me/run' target=\"_blank\">docs</a>)<br/>"
      ],
      "text/plain": [
       "<IPython.core.display.HTML object>"
      ]
     },
     "metadata": {},
     "output_type": "display_data"
    },
    {
     "data": {
      "text/html": [
       " View project at <a href='https://wandb.ai/ari-granevich/radar_detection' target=\"_blank\">https://wandb.ai/ari-granevich/radar_detection</a>"
      ],
      "text/plain": [
       "<IPython.core.display.HTML object>"
      ]
     },
     "metadata": {},
     "output_type": "display_data"
    },
    {
     "data": {
      "text/html": [
       " View run at <a href='https://wandb.ai/ari-granevich/radar_detection/runs/bs3ecy3e' target=\"_blank\">https://wandb.ai/ari-granevich/radar_detection/runs/bs3ecy3e</a>"
      ],
      "text/plain": [
       "<IPython.core.display.HTML object>"
      ]
     },
     "metadata": {},
     "output_type": "display_data"
    },
    {
     "name": "stdout",
     "output_type": "stream",
     "text": [
      "Last computed LR: 0.001\n"
     ]
    },
    {
     "name": "stderr",
     "output_type": "stream",
     "text": [
      "Training Progress:   0%|          | 0/300 [00:00<?, ?it/s]"
     ]
    },
    {
     "name": "stdout",
     "output_type": "stream",
     "text": [
      "Training IQ network\n"
     ]
    },
    {
     "name": "stderr",
     "output_type": "stream",
     "text": [
      "Training Progress:   0%|          | 1/300 [00:10<53:50, 10.80s/it]"
     ]
    },
    {
     "name": "stdout",
     "output_type": "stream",
     "text": [
      "\n",
      "Epoch 1/300\n",
      "Train Loss: 1.2159 | Val Loss: 0.9420\n",
      "Train Acc: 0.5866 | Val Acc: 0.6406\n"
     ]
    },
    {
     "name": "stderr",
     "output_type": "stream",
     "text": [
      "Training Progress:   4%|▎         | 11/300 [01:58<52:01, 10.80s/it]"
     ]
    },
    {
     "name": "stdout",
     "output_type": "stream",
     "text": [
      "\n",
      "Epoch 11/300\n",
      "Train Loss: 0.5491 | Val Loss: 0.4847\n",
      "Train Acc: 0.8253 | Val Acc: 0.8598\n"
     ]
    },
    {
     "name": "stderr",
     "output_type": "stream",
     "text": [
      "Training Progress:   7%|▋         | 21/300 [03:46<50:12, 10.80s/it]"
     ]
    },
    {
     "name": "stdout",
     "output_type": "stream",
     "text": [
      "\n",
      "Epoch 21/300\n",
      "Train Loss: 0.2063 | Val Loss: 0.2034\n",
      "Train Acc: 0.9490 | Val Acc: 0.9557\n"
     ]
    },
    {
     "name": "stderr",
     "output_type": "stream",
     "text": [
      "Training Progress:  10%|█         | 31/300 [05:34<48:20, 10.78s/it]"
     ]
    },
    {
     "name": "stdout",
     "output_type": "stream",
     "text": [
      "\n",
      "Epoch 31/300\n",
      "Train Loss: 0.1417 | Val Loss: 0.1432\n",
      "Train Acc: 0.9688 | Val Acc: 0.9707\n"
     ]
    },
    {
     "name": "stderr",
     "output_type": "stream",
     "text": [
      "Training Progress:  14%|█▎        | 41/300 [07:22<46:39, 10.81s/it]"
     ]
    },
    {
     "name": "stdout",
     "output_type": "stream",
     "text": [
      "\n",
      "Epoch 41/300\n",
      "Train Loss: 0.1173 | Val Loss: 0.1190\n",
      "Train Acc: 0.9766 | Val Acc: 0.9711\n"
     ]
    },
    {
     "name": "stderr",
     "output_type": "stream",
     "text": [
      "Training Progress:  17%|█▋        | 51/300 [09:10<44:46, 10.79s/it]"
     ]
    },
    {
     "name": "stdout",
     "output_type": "stream",
     "text": [
      "\n",
      "Epoch 51/300\n",
      "Train Loss: 0.1059 | Val Loss: 0.1067\n",
      "Train Acc: 0.9805 | Val Acc: 0.9785\n"
     ]
    },
    {
     "name": "stderr",
     "output_type": "stream",
     "text": [
      "Training Progress:  20%|██        | 61/300 [10:58<43:05, 10.82s/it]"
     ]
    },
    {
     "name": "stdout",
     "output_type": "stream",
     "text": [
      "\n",
      "Epoch 61/300\n",
      "Train Loss: 0.1018 | Val Loss: 0.0968\n",
      "Train Acc: 0.9821 | Val Acc: 0.9804\n"
     ]
    },
    {
     "name": "stderr",
     "output_type": "stream",
     "text": [
      "Training Progress:  24%|██▎       | 71/300 [12:46<41:14, 10.80s/it]"
     ]
    },
    {
     "name": "stdout",
     "output_type": "stream",
     "text": [
      "\n",
      "Epoch 71/300\n",
      "Train Loss: 0.0968 | Val Loss: 0.1047\n",
      "Train Acc: 0.9835 | Val Acc: 0.9835\n"
     ]
    },
    {
     "name": "stderr",
     "output_type": "stream",
     "text": [
      "Training Progress:  27%|██▋       | 81/300 [14:34<39:25, 10.80s/it]"
     ]
    },
    {
     "name": "stdout",
     "output_type": "stream",
     "text": [
      "\n",
      "Epoch 81/300\n",
      "Train Loss: 0.0894 | Val Loss: 0.0889\n",
      "Train Acc: 0.9850 | Val Acc: 0.9882\n"
     ]
    },
    {
     "name": "stderr",
     "output_type": "stream",
     "text": [
      "Training Progress:  30%|███       | 91/300 [16:22<37:33, 10.78s/it]"
     ]
    },
    {
     "name": "stdout",
     "output_type": "stream",
     "text": [
      "\n",
      "Epoch 91/300\n",
      "Train Loss: 0.0876 | Val Loss: 0.0794\n",
      "Train Acc: 0.9861 | Val Acc: 0.9875\n"
     ]
    },
    {
     "name": "stderr",
     "output_type": "stream",
     "text": [
      "Training Progress:  34%|███▎      | 101/300 [18:10<35:48, 10.80s/it]"
     ]
    },
    {
     "name": "stdout",
     "output_type": "stream",
     "text": [
      "\n",
      "Epoch 101/300\n",
      "Train Loss: 0.0800 | Val Loss: 0.0808\n",
      "Train Acc: 0.9876 | Val Acc: 0.9891\n"
     ]
    },
    {
     "name": "stderr",
     "output_type": "stream",
     "text": [
      "Training Progress:  37%|███▋      | 111/300 [19:58<34:03, 10.81s/it]"
     ]
    },
    {
     "name": "stdout",
     "output_type": "stream",
     "text": [
      "\n",
      "Epoch 111/300\n",
      "Train Loss: 0.0798 | Val Loss: 0.0804\n",
      "Train Acc: 0.9877 | Val Acc: 0.9862\n"
     ]
    },
    {
     "name": "stderr",
     "output_type": "stream",
     "text": [
      "Training Progress:  40%|████      | 121/300 [21:46<32:13, 10.80s/it]"
     ]
    },
    {
     "name": "stdout",
     "output_type": "stream",
     "text": [
      "\n",
      "Epoch 121/300\n",
      "Train Loss: 0.0737 | Val Loss: 0.0782\n",
      "Train Acc: 0.9889 | Val Acc: 0.9881\n"
     ]
    },
    {
     "name": "stderr",
     "output_type": "stream",
     "text": [
      "Training Progress:  44%|████▎     | 131/300 [23:34<30:26, 10.80s/it]"
     ]
    },
    {
     "name": "stdout",
     "output_type": "stream",
     "text": [
      "\n",
      "Epoch 131/300\n",
      "Train Loss: 0.0737 | Val Loss: 0.0742\n",
      "Train Acc: 0.9891 | Val Acc: 0.9906\n"
     ]
    },
    {
     "name": "stderr",
     "output_type": "stream",
     "text": [
      "Training Progress:  47%|████▋     | 141/300 [25:22<28:37, 10.80s/it]"
     ]
    },
    {
     "name": "stdout",
     "output_type": "stream",
     "text": [
      "\n",
      "Epoch 141/300\n",
      "Train Loss: 0.0712 | Val Loss: 0.0739\n",
      "Train Acc: 0.9897 | Val Acc: 0.9903\n"
     ]
    },
    {
     "name": "stderr",
     "output_type": "stream",
     "text": [
      "Training Progress:  50%|█████     | 151/300 [27:10<26:48, 10.79s/it]"
     ]
    },
    {
     "name": "stdout",
     "output_type": "stream",
     "text": [
      "\n",
      "Epoch 151/300\n",
      "Train Loss: 0.0705 | Val Loss: 0.0680\n",
      "Train Acc: 0.9903 | Val Acc: 0.9904\n"
     ]
    },
    {
     "name": "stderr",
     "output_type": "stream",
     "text": [
      "Training Progress:  54%|█████▎    | 161/300 [28:58<25:01, 10.80s/it]"
     ]
    },
    {
     "name": "stdout",
     "output_type": "stream",
     "text": [
      "\n",
      "Epoch 161/300\n",
      "Train Loss: 0.0691 | Val Loss: 0.0677\n",
      "Train Acc: 0.9905 | Val Acc: 0.9904\n"
     ]
    },
    {
     "name": "stderr",
     "output_type": "stream",
     "text": [
      "Training Progress:  57%|█████▋    | 171/300 [30:47<23:16, 10.82s/it]"
     ]
    },
    {
     "name": "stdout",
     "output_type": "stream",
     "text": [
      "\n",
      "Epoch 171/300\n",
      "Train Loss: 0.0660 | Val Loss: 0.0662\n",
      "Train Acc: 0.9910 | Val Acc: 0.9916\n"
     ]
    },
    {
     "name": "stderr",
     "output_type": "stream",
     "text": [
      "Training Progress:  60%|██████    | 181/300 [32:35<21:27, 10.82s/it]"
     ]
    },
    {
     "name": "stdout",
     "output_type": "stream",
     "text": [
      "\n",
      "Epoch 181/300\n",
      "Train Loss: 0.0624 | Val Loss: 0.0643\n",
      "Train Acc: 0.9917 | Val Acc: 0.9902\n"
     ]
    },
    {
     "name": "stderr",
     "output_type": "stream",
     "text": [
      "Training Progress:  64%|██████▎   | 191/300 [34:22<19:35, 10.78s/it]"
     ]
    },
    {
     "name": "stdout",
     "output_type": "stream",
     "text": [
      "\n",
      "Epoch 191/300\n",
      "Train Loss: 0.0633 | Val Loss: 0.0669\n",
      "Train Acc: 0.9917 | Val Acc: 0.9902\n"
     ]
    },
    {
     "name": "stderr",
     "output_type": "stream",
     "text": [
      "Training Progress:  67%|██████▋   | 201/300 [36:11<17:52, 10.83s/it]"
     ]
    },
    {
     "name": "stdout",
     "output_type": "stream",
     "text": [
      "\n",
      "Epoch 201/300\n",
      "Train Loss: 0.0618 | Val Loss: 0.0603\n",
      "Train Acc: 0.9918 | Val Acc: 0.9930\n"
     ]
    },
    {
     "name": "stderr",
     "output_type": "stream",
     "text": [
      "Training Progress:  68%|██████▊   | 204/300 [36:54<17:22, 10.86s/it]"
     ]
    },
    {
     "name": "stdout",
     "output_type": "stream",
     "text": [
      "\n",
      "Early stopping triggered after 205 epochs\n"
     ]
    },
    {
     "name": "stderr",
     "output_type": "stream",
     "text": [
      "\n"
     ]
    },
    {
     "data": {
      "application/vnd.jupyter.widget-view+json": {
       "model_id": "6bacdd1ac846436aba17ba25405525d4",
       "version_major": 2,
       "version_minor": 0
      },
      "text/plain": [
       "VBox(children=(Label(value='0.004 MB of 0.004 MB uploaded\\r'), FloatProgress(value=1.0, max=1.0)))"
      ]
     },
     "metadata": {},
     "output_type": "display_data"
    },
    {
     "data": {
      "text/html": [
       "<style>\n",
       "    table.wandb td:nth-child(1) { padding: 0 10px; text-align: left ; width: auto;} td:nth-child(2) {text-align: left ; width: 100%}\n",
       "    .wandb-row { display: flex; flex-direction: row; flex-wrap: wrap; justify-content: flex-start; width: 100% }\n",
       "    .wandb-col { display: flex; flex-direction: column; flex-basis: 100%; flex: 1; padding: 10px; }\n",
       "    </style>\n",
       "<div class=\"wandb-row\"><div class=\"wandb-col\"><h3>Run history:</h3><br/><table class=\"wandb\"><tr><td>epoch</td><td>▁▁▁▁▂▂▂▂▂▃▃▃▃▃▃▄▄▄▄▄▅▅▅▅▅▅▆▆▆▆▆▇▇▇▇▇▇███</td></tr><tr><td>learning_rate</td><td>██████████████▇▇▇▆▆▅▅▅▅▅▅▄▄▄▃▃▃▂▂▂▂▂▂▂▁▁</td></tr><tr><td>train_accuracy</td><td>▁▁▆▇▇▇██████████████████████████████████</td></tr><tr><td>train_loss</td><td>██▄▃▂▂▂▂▁▁▁▁▁▁▁▁▁▁▁▁▁▁▁▁▁▁▁▁▁▁▁▁▁▁▁▁▁▁▁▁</td></tr><tr><td>val_accuracy</td><td>▁▁▆▇▇▇██████████████████████████████████</td></tr><tr><td>val_loss</td><td>██▄▃▂▂▂▂▁▁▁▁▁▁▁▁▁▁▁▁▁▁▁▁▁▁▁▁▁▁▁▁▁▁▁▁▁▁▁▁</td></tr></table><br/></div><div class=\"wandb-col\"><h3>Run summary:</h3><br/><table class=\"wandb\"><tr><td>epoch</td><td>205</td></tr><tr><td>learning_rate</td><td>0.0003</td></tr><tr><td>train_accuracy</td><td>0.99214</td></tr><tr><td>train_loss</td><td>0.05981</td></tr><tr><td>val_accuracy</td><td>0.99181</td></tr><tr><td>val_loss</td><td>0.06063</td></tr></table><br/></div></div>"
      ],
      "text/plain": [
       "<IPython.core.display.HTML object>"
      ]
     },
     "metadata": {},
     "output_type": "display_data"
    },
    {
     "data": {
      "text/html": [
       " View run <strong style=\"color:#cdcd00\">doppler_IQ_run</strong> at: <a href='https://wandb.ai/ari-granevich/radar_detection/runs/bs3ecy3e' target=\"_blank\">https://wandb.ai/ari-granevich/radar_detection/runs/bs3ecy3e</a><br/> View project at: <a href='https://wandb.ai/ari-granevich/radar_detection' target=\"_blank\">https://wandb.ai/ari-granevich/radar_detection</a><br/>Synced 5 W&B file(s), 0 media file(s), 0 artifact file(s) and 0 other file(s)"
      ],
      "text/plain": [
       "<IPython.core.display.HTML object>"
      ]
     },
     "metadata": {},
     "output_type": "display_data"
    },
    {
     "data": {
      "text/html": [
       "Find logs at: <code>./wandb/run-20250211_001832-bs3ecy3e/logs</code>"
      ],
      "text/plain": [
       "<IPython.core.display.HTML object>"
      ]
     },
     "metadata": {},
     "output_type": "display_data"
    }
   ],
   "source": [
    "# Train IQ Doppler detector\n",
    "map_type = \"IQ\"\n",
    "detection_type = \"doppler\"\n",
    "ratio = calculate_ratio(train_loader, detection_type)\n",
    "criterion = CBBCE(ratio)\n",
    "print(\"\\nTraining IQ Doppler Detector:\")\n",
    "doppler_model = DAFCRadarNet(detection_type)\n",
    "doppler_history = train_model(doppler_model, criterion, train_loader, val_loader, detection_type, map_type)\n",
    "plot_training_history(doppler_history, \"Doppler\", map_type)"
   ]
  },
  {
   "cell_type": "code",
   "execution_count": 38,
   "metadata": {},
   "outputs": [
    {
     "name": "stdout",
     "output_type": "stream",
     "text": [
      "\n",
      "Training RD Doppler Detector:\n",
      "w1:  28.848110533976634\n"
     ]
    },
    {
     "data": {
      "text/html": [
       "wandb version 0.19.6 is available!  To upgrade, please run:\n",
       " $ pip install wandb --upgrade"
      ],
      "text/plain": [
       "<IPython.core.display.HTML object>"
      ]
     },
     "metadata": {},
     "output_type": "display_data"
    },
    {
     "data": {
      "text/html": [
       "Tracking run with wandb version 0.17.1"
      ],
      "text/plain": [
       "<IPython.core.display.HTML object>"
      ]
     },
     "metadata": {},
     "output_type": "display_data"
    },
    {
     "data": {
      "text/html": [
       "Run data is saved locally in <code>/home/hawk/Desktop/Heavy Detector/Heavy-Clutter-Detection/notebooks/wandb/run-20250211_005535-r32b6oou</code>"
      ],
      "text/plain": [
       "<IPython.core.display.HTML object>"
      ]
     },
     "metadata": {},
     "output_type": "display_data"
    },
    {
     "data": {
      "text/html": [
       "Syncing run <strong><a href='https://wandb.ai/ari-granevich/radar_detection/runs/r32b6oou' target=\"_blank\">doppler_RD_run</a></strong> to <a href='https://wandb.ai/ari-granevich/radar_detection' target=\"_blank\">Weights & Biases</a> (<a href='https://wandb.me/run' target=\"_blank\">docs</a>)<br/>"
      ],
      "text/plain": [
       "<IPython.core.display.HTML object>"
      ]
     },
     "metadata": {},
     "output_type": "display_data"
    },
    {
     "data": {
      "text/html": [
       " View project at <a href='https://wandb.ai/ari-granevich/radar_detection' target=\"_blank\">https://wandb.ai/ari-granevich/radar_detection</a>"
      ],
      "text/plain": [
       "<IPython.core.display.HTML object>"
      ]
     },
     "metadata": {},
     "output_type": "display_data"
    },
    {
     "data": {
      "text/html": [
       " View run at <a href='https://wandb.ai/ari-granevich/radar_detection/runs/r32b6oou' target=\"_blank\">https://wandb.ai/ari-granevich/radar_detection/runs/r32b6oou</a>"
      ],
      "text/plain": [
       "<IPython.core.display.HTML object>"
      ]
     },
     "metadata": {},
     "output_type": "display_data"
    },
    {
     "name": "stdout",
     "output_type": "stream",
     "text": [
      "Last computed LR: 0.001\n"
     ]
    },
    {
     "name": "stderr",
     "output_type": "stream",
     "text": [
      "Training Progress:   0%|          | 0/300 [00:00<?, ?it/s]"
     ]
    },
    {
     "name": "stdout",
     "output_type": "stream",
     "text": [
      "Training RD network\n"
     ]
    },
    {
     "name": "stderr",
     "output_type": "stream",
     "text": [
      "Training Progress:   0%|          | 1/300 [00:10<53:44, 10.78s/it]"
     ]
    },
    {
     "name": "stdout",
     "output_type": "stream",
     "text": [
      "\n",
      "Epoch 1/300\n",
      "Train Loss: 1.3437 | Val Loss: 1.3496\n",
      "Train Acc: 0.3885 | Val Acc: 0.3445\n"
     ]
    },
    {
     "name": "stderr",
     "output_type": "stream",
     "text": [
      "Training Progress:   4%|▎         | 11/300 [01:58<52:01, 10.80s/it]"
     ]
    },
    {
     "name": "stdout",
     "output_type": "stream",
     "text": [
      "\n",
      "Epoch 11/300\n",
      "Train Loss: 1.3469 | Val Loss: 1.3488\n",
      "Train Acc: 0.2259 | Val Acc: 0.2539\n"
     ]
    },
    {
     "name": "stderr",
     "output_type": "stream",
     "text": [
      "Training Progress:   7%|▋         | 21/300 [03:46<50:16, 10.81s/it]"
     ]
    },
    {
     "name": "stdout",
     "output_type": "stream",
     "text": [
      "\n",
      "Epoch 21/300\n",
      "Train Loss: 1.3407 | Val Loss: 1.3353\n",
      "Train Acc: 0.2126 | Val Acc: 0.2530\n"
     ]
    },
    {
     "name": "stderr",
     "output_type": "stream",
     "text": [
      "Training Progress:  10%|█         | 31/300 [05:34<48:28, 10.81s/it]"
     ]
    },
    {
     "name": "stdout",
     "output_type": "stream",
     "text": [
      "\n",
      "Epoch 31/300\n",
      "Train Loss: 1.3433 | Val Loss: 1.3465\n",
      "Train Acc: 0.2336 | Val Acc: 0.1959\n"
     ]
    },
    {
     "name": "stderr",
     "output_type": "stream",
     "text": [
      "Training Progress:  14%|█▎        | 41/300 [07:22<46:37, 10.80s/it]"
     ]
    },
    {
     "name": "stdout",
     "output_type": "stream",
     "text": [
      "\n",
      "Epoch 41/300\n",
      "Train Loss: 1.3386 | Val Loss: 1.3327\n",
      "Train Acc: 0.1935 | Val Acc: 0.2819\n"
     ]
    },
    {
     "name": "stderr",
     "output_type": "stream",
     "text": [
      "Training Progress:  17%|█▋        | 51/300 [09:10<44:42, 10.77s/it]"
     ]
    },
    {
     "name": "stdout",
     "output_type": "stream",
     "text": [
      "\n",
      "Epoch 51/300\n",
      "Train Loss: 1.3449 | Val Loss: 1.3408\n",
      "Train Acc: 0.2039 | Val Acc: 0.1666\n"
     ]
    },
    {
     "name": "stderr",
     "output_type": "stream",
     "text": [
      "Training Progress:  20%|██        | 61/300 [10:58<42:58, 10.79s/it]"
     ]
    },
    {
     "name": "stdout",
     "output_type": "stream",
     "text": [
      "\n",
      "Epoch 61/300\n",
      "Train Loss: 1.3386 | Val Loss: 1.3374\n",
      "Train Acc: 0.1518 | Val Acc: 0.1658\n"
     ]
    },
    {
     "name": "stderr",
     "output_type": "stream",
     "text": [
      "Training Progress:  22%|██▏       | 66/300 [12:03<42:45, 10.96s/it]"
     ]
    },
    {
     "name": "stdout",
     "output_type": "stream",
     "text": [
      "\n",
      "Early stopping triggered after 67 epochs\n"
     ]
    },
    {
     "name": "stderr",
     "output_type": "stream",
     "text": [
      "\n"
     ]
    },
    {
     "data": {
      "application/vnd.jupyter.widget-view+json": {
       "model_id": "354a02a4dd3a44258fca43e1f4e939b7",
       "version_major": 2,
       "version_minor": 0
      },
      "text/plain": [
       "VBox(children=(Label(value='0.004 MB of 0.004 MB uploaded\\r'), FloatProgress(value=1.0, max=1.0)))"
      ]
     },
     "metadata": {},
     "output_type": "display_data"
    },
    {
     "data": {
      "text/html": [
       "<style>\n",
       "    table.wandb td:nth-child(1) { padding: 0 10px; text-align: left ; width: auto;} td:nth-child(2) {text-align: left ; width: 100%}\n",
       "    .wandb-row { display: flex; flex-direction: row; flex-wrap: wrap; justify-content: flex-start; width: 100% }\n",
       "    .wandb-col { display: flex; flex-direction: column; flex-basis: 100%; flex: 1; padding: 10px; }\n",
       "    </style>\n",
       "<div class=\"wandb-row\"><div class=\"wandb-col\"><h3>Run history:</h3><br/><table class=\"wandb\"><tr><td>epoch</td><td>▁▁▁▂▂▂▂▂▂▃▃▃▃▃▃▄▄▄▄▄▅▅▅▅▅▅▆▆▆▆▆▇▇▇▇▇▇███</td></tr><tr><td>learning_rate</td><td>████████▇▇▇▇▆▆▆▆▅▅▅▅▅▅▄▄▄▃▃▃▃▃▃▃▂▂▂▂▂▂▂▁</td></tr><tr><td>train_accuracy</td><td>█▇▆▆▅▆▃▄▄▅▄▃▃▇▄▄▆▃▃▃▄▆▄▂▂▃▂▃▃▂▃▄▄▁▂▂▁▂▂▂</td></tr><tr><td>train_loss</td><td>▆▅▅▁▇▁█▄▆▃▇▃▄▂▄▃▃▄▆▅▄▅▅▄▃▆▇▆▅▃▇▆▃▄▆▃▃▄▂▁</td></tr><tr><td>val_accuracy</td><td>▅█▅▇▃▅▄▅▂▆▃▂▄▄▅▄▃▄▂▃▂▃▃▄▄▂▁▁▃▃▂▃▂▂▃▂▂▂▃▂</td></tr><tr><td>val_loss</td><td>▆▂▃▂▇▃▆▃▄▂▂▄▂▅▂▆▅█▅▄▃▇█▁▁▄▃▄▄█▃▃▄▂▇▂▂▃▃▃</td></tr></table><br/></div><div class=\"wandb-col\"><h3>Run summary:</h3><br/><table class=\"wandb\"><tr><td>epoch</td><td>67</td></tr><tr><td>learning_rate</td><td>0.00045</td></tr><tr><td>train_accuracy</td><td>0.19023</td></tr><tr><td>train_loss</td><td>1.33614</td></tr><tr><td>val_accuracy</td><td>0.19538</td></tr><tr><td>val_loss</td><td>1.33919</td></tr></table><br/></div></div>"
      ],
      "text/plain": [
       "<IPython.core.display.HTML object>"
      ]
     },
     "metadata": {},
     "output_type": "display_data"
    },
    {
     "data": {
      "text/html": [
       " View run <strong style=\"color:#cdcd00\">doppler_RD_run</strong> at: <a href='https://wandb.ai/ari-granevich/radar_detection/runs/r32b6oou' target=\"_blank\">https://wandb.ai/ari-granevich/radar_detection/runs/r32b6oou</a><br/> View project at: <a href='https://wandb.ai/ari-granevich/radar_detection' target=\"_blank\">https://wandb.ai/ari-granevich/radar_detection</a><br/>Synced 5 W&B file(s), 0 media file(s), 0 artifact file(s) and 0 other file(s)"
      ],
      "text/plain": [
       "<IPython.core.display.HTML object>"
      ]
     },
     "metadata": {},
     "output_type": "display_data"
    },
    {
     "data": {
      "text/html": [
       "Find logs at: <code>./wandb/run-20250211_005535-r32b6oou/logs</code>"
      ],
      "text/plain": [
       "<IPython.core.display.HTML object>"
      ]
     },
     "metadata": {},
     "output_type": "display_data"
    }
   ],
   "source": [
    "# Train RD Doppler detector\n",
    "print(\"\\nTraining RD Doppler Detector:\")\n",
    "map_type = \"RD\"\n",
    "detection_type = \"doppler\"\n",
    "criterion = CBBCE(ratio)\n",
    "doppler_model = DAFCRadarNet(detection_type, map_type)\n",
    "doppler_history = train_model(doppler_model, criterion, train_loader, val_loader, detection_type, map_type)\n",
    "plot_training_history(doppler_history, \"Doppler\", map_type)"
   ]
  },
  {
   "cell_type": "markdown",
   "metadata": {},
   "source": [
    "#### Train DACK models"
   ]
  },
  {
   "cell_type": "code",
   "execution_count": 39,
   "metadata": {},
   "outputs": [
    {
     "name": "stdout",
     "output_type": "stream",
     "text": [
      "\n",
      "Training IQ Range Detector:\n",
      "ratio: 0.0681365966796875 , n1: 44654 , n_total: 655360\n",
      "w1:  14.607896418421163\n"
     ]
    },
    {
     "data": {
      "text/html": [
       "wandb version 0.19.6 is available!  To upgrade, please run:\n",
       " $ pip install wandb --upgrade"
      ],
      "text/plain": [
       "<IPython.core.display.HTML object>"
      ]
     },
     "metadata": {},
     "output_type": "display_data"
    },
    {
     "data": {
      "text/html": [
       "Tracking run with wandb version 0.17.1"
      ],
      "text/plain": [
       "<IPython.core.display.HTML object>"
      ]
     },
     "metadata": {},
     "output_type": "display_data"
    },
    {
     "data": {
      "text/html": [
       "Run data is saved locally in <code>/home/hawk/Desktop/Heavy Detector/Heavy-Clutter-Detection/notebooks/wandb/run-20250211_010754-ebrkoeww</code>"
      ],
      "text/plain": [
       "<IPython.core.display.HTML object>"
      ]
     },
     "metadata": {},
     "output_type": "display_data"
    },
    {
     "data": {
      "text/html": [
       "Syncing run <strong><a href='https://wandb.ai/ari-granevich/radar_detection/runs/ebrkoeww' target=\"_blank\">range_IQ_run</a></strong> to <a href='https://wandb.ai/ari-granevich/radar_detection' target=\"_blank\">Weights & Biases</a> (<a href='https://wandb.me/run' target=\"_blank\">docs</a>)<br/>"
      ],
      "text/plain": [
       "<IPython.core.display.HTML object>"
      ]
     },
     "metadata": {},
     "output_type": "display_data"
    },
    {
     "data": {
      "text/html": [
       " View project at <a href='https://wandb.ai/ari-granevich/radar_detection' target=\"_blank\">https://wandb.ai/ari-granevich/radar_detection</a>"
      ],
      "text/plain": [
       "<IPython.core.display.HTML object>"
      ]
     },
     "metadata": {},
     "output_type": "display_data"
    },
    {
     "data": {
      "text/html": [
       " View run at <a href='https://wandb.ai/ari-granevich/radar_detection/runs/ebrkoeww' target=\"_blank\">https://wandb.ai/ari-granevich/radar_detection/runs/ebrkoeww</a>"
      ],
      "text/plain": [
       "<IPython.core.display.HTML object>"
      ]
     },
     "metadata": {},
     "output_type": "display_data"
    },
    {
     "name": "stdout",
     "output_type": "stream",
     "text": [
      "Last computed LR: 0.001\n"
     ]
    },
    {
     "name": "stderr",
     "output_type": "stream",
     "text": [
      "Training Progress:   0%|          | 0/300 [00:00<?, ?it/s]"
     ]
    },
    {
     "name": "stdout",
     "output_type": "stream",
     "text": [
      "Training IQ network\n"
     ]
    },
    {
     "name": "stderr",
     "output_type": "stream",
     "text": [
      "Training Progress:   0%|          | 1/300 [00:10<53:40, 10.77s/it]"
     ]
    },
    {
     "name": "stdout",
     "output_type": "stream",
     "text": [
      "\n",
      "Epoch 1/300\n",
      "Train Loss: 1.0016 | Val Loss: 0.9571\n",
      "Train Acc: 0.7307 | Val Acc: 0.8105\n"
     ]
    },
    {
     "name": "stderr",
     "output_type": "stream",
     "text": [
      "Training Progress:   4%|▎         | 11/300 [01:58<52:02, 10.80s/it]"
     ]
    },
    {
     "name": "stdout",
     "output_type": "stream",
     "text": [
      "\n",
      "Epoch 11/300\n",
      "Train Loss: 0.6160 | Val Loss: 0.6137\n",
      "Train Acc: 0.7400 | Val Acc: 0.7497\n"
     ]
    },
    {
     "name": "stderr",
     "output_type": "stream",
     "text": [
      "Training Progress:   7%|▋         | 21/300 [03:46<50:10, 10.79s/it]"
     ]
    },
    {
     "name": "stdout",
     "output_type": "stream",
     "text": [
      "\n",
      "Epoch 21/300\n",
      "Train Loss: 0.5787 | Val Loss: 0.5867\n",
      "Train Acc: 0.7593 | Val Acc: 0.7847\n"
     ]
    },
    {
     "name": "stderr",
     "output_type": "stream",
     "text": [
      "Training Progress:  10%|█         | 31/300 [05:34<48:26, 10.81s/it]"
     ]
    },
    {
     "name": "stdout",
     "output_type": "stream",
     "text": [
      "\n",
      "Epoch 31/300\n",
      "Train Loss: 0.5663 | Val Loss: 0.5634\n",
      "Train Acc: 0.7760 | Val Acc: 0.7804\n"
     ]
    },
    {
     "name": "stderr",
     "output_type": "stream",
     "text": [
      "Training Progress:  14%|█▎        | 41/300 [07:22<46:38, 10.80s/it]"
     ]
    },
    {
     "name": "stdout",
     "output_type": "stream",
     "text": [
      "\n",
      "Epoch 41/300\n",
      "Train Loss: 0.5405 | Val Loss: 0.5441\n",
      "Train Acc: 0.7882 | Val Acc: 0.7799\n"
     ]
    },
    {
     "name": "stderr",
     "output_type": "stream",
     "text": [
      "Training Progress:  17%|█▋        | 51/300 [09:10<44:47, 10.79s/it]"
     ]
    },
    {
     "name": "stdout",
     "output_type": "stream",
     "text": [
      "\n",
      "Epoch 51/300\n",
      "Train Loss: 0.5364 | Val Loss: 0.5299\n",
      "Train Acc: 0.7883 | Val Acc: 0.7831\n"
     ]
    },
    {
     "name": "stderr",
     "output_type": "stream",
     "text": [
      "Training Progress:  20%|██        | 61/300 [10:58<43:01, 10.80s/it]"
     ]
    },
    {
     "name": "stdout",
     "output_type": "stream",
     "text": [
      "\n",
      "Epoch 61/300\n",
      "Train Loss: 0.5339 | Val Loss: 0.5368\n",
      "Train Acc: 0.7899 | Val Acc: 0.7708\n"
     ]
    },
    {
     "name": "stderr",
     "output_type": "stream",
     "text": [
      "Training Progress:  24%|██▎       | 71/300 [12:46<41:18, 10.82s/it]"
     ]
    },
    {
     "name": "stdout",
     "output_type": "stream",
     "text": [
      "\n",
      "Epoch 71/300\n",
      "Train Loss: 0.5240 | Val Loss: 0.5250\n",
      "Train Acc: 0.7985 | Val Acc: 0.7999\n"
     ]
    },
    {
     "name": "stderr",
     "output_type": "stream",
     "text": [
      "Training Progress:  27%|██▋       | 81/300 [14:34<39:25, 10.80s/it]"
     ]
    },
    {
     "name": "stdout",
     "output_type": "stream",
     "text": [
      "\n",
      "Epoch 81/300\n",
      "Train Loss: 0.5168 | Val Loss: 0.5241\n",
      "Train Acc: 0.8006 | Val Acc: 0.8066\n"
     ]
    },
    {
     "name": "stderr",
     "output_type": "stream",
     "text": [
      "Training Progress:  30%|███       | 91/300 [16:22<37:32, 10.78s/it]"
     ]
    },
    {
     "name": "stdout",
     "output_type": "stream",
     "text": [
      "\n",
      "Epoch 91/300\n",
      "Train Loss: 0.5123 | Val Loss: 0.5159\n",
      "Train Acc: 0.8045 | Val Acc: 0.8068\n"
     ]
    },
    {
     "name": "stderr",
     "output_type": "stream",
     "text": [
      "Training Progress:  34%|███▎      | 101/300 [18:10<35:45, 10.78s/it]"
     ]
    },
    {
     "name": "stdout",
     "output_type": "stream",
     "text": [
      "\n",
      "Epoch 101/300\n",
      "Train Loss: 0.5146 | Val Loss: 0.5072\n",
      "Train Acc: 0.8031 | Val Acc: 0.8055\n"
     ]
    },
    {
     "name": "stderr",
     "output_type": "stream",
     "text": [
      "Training Progress:  37%|███▋      | 111/300 [19:58<33:56, 10.78s/it]"
     ]
    },
    {
     "name": "stdout",
     "output_type": "stream",
     "text": [
      "\n",
      "Epoch 111/300\n",
      "Train Loss: 0.5113 | Val Loss: 0.5133\n",
      "Train Acc: 0.8042 | Val Acc: 0.7925\n"
     ]
    },
    {
     "name": "stderr",
     "output_type": "stream",
     "text": [
      "Training Progress:  40%|████      | 121/300 [21:46<32:14, 10.81s/it]"
     ]
    },
    {
     "name": "stdout",
     "output_type": "stream",
     "text": [
      "\n",
      "Epoch 121/300\n",
      "Train Loss: 0.5065 | Val Loss: 0.5056\n",
      "Train Acc: 0.8068 | Val Acc: 0.8058\n"
     ]
    },
    {
     "name": "stderr",
     "output_type": "stream",
     "text": [
      "Training Progress:  44%|████▎     | 131/300 [23:33<30:18, 10.76s/it]"
     ]
    },
    {
     "name": "stdout",
     "output_type": "stream",
     "text": [
      "\n",
      "Epoch 131/300\n",
      "Train Loss: 0.5036 | Val Loss: 0.5051\n",
      "Train Acc: 0.8066 | Val Acc: 0.8023\n"
     ]
    },
    {
     "name": "stderr",
     "output_type": "stream",
     "text": [
      "Training Progress:  47%|████▋     | 141/300 [25:21<28:39, 10.81s/it]"
     ]
    },
    {
     "name": "stdout",
     "output_type": "stream",
     "text": [
      "\n",
      "Epoch 141/300\n",
      "Train Loss: 0.5045 | Val Loss: 0.5057\n",
      "Train Acc: 0.8062 | Val Acc: 0.7880\n"
     ]
    },
    {
     "name": "stderr",
     "output_type": "stream",
     "text": [
      "Training Progress:  50%|█████     | 151/300 [27:09<26:46, 10.78s/it]"
     ]
    },
    {
     "name": "stdout",
     "output_type": "stream",
     "text": [
      "\n",
      "Epoch 151/300\n",
      "Train Loss: 0.4999 | Val Loss: 0.5087\n",
      "Train Acc: 0.8085 | Val Acc: 0.7903\n"
     ]
    },
    {
     "name": "stderr",
     "output_type": "stream",
     "text": [
      "Training Progress:  54%|█████▎    | 161/300 [28:57<24:58, 10.78s/it]"
     ]
    },
    {
     "name": "stdout",
     "output_type": "stream",
     "text": [
      "\n",
      "Epoch 161/300\n",
      "Train Loss: 0.5005 | Val Loss: 0.4940\n",
      "Train Acc: 0.8089 | Val Acc: 0.8146\n"
     ]
    },
    {
     "name": "stderr",
     "output_type": "stream",
     "text": [
      "Training Progress:  57%|█████▋    | 171/300 [30:45<23:08, 10.76s/it]"
     ]
    },
    {
     "name": "stdout",
     "output_type": "stream",
     "text": [
      "\n",
      "Epoch 171/300\n",
      "Train Loss: 0.4949 | Val Loss: 0.4970\n",
      "Train Acc: 0.8113 | Val Acc: 0.8138\n"
     ]
    },
    {
     "name": "stderr",
     "output_type": "stream",
     "text": [
      "Training Progress:  57%|█████▋    | 171/300 [30:56<23:20, 10.85s/it]"
     ]
    },
    {
     "name": "stdout",
     "output_type": "stream",
     "text": [
      "\n",
      "Early stopping triggered after 172 epochs\n"
     ]
    },
    {
     "name": "stderr",
     "output_type": "stream",
     "text": [
      "\n"
     ]
    },
    {
     "data": {
      "application/vnd.jupyter.widget-view+json": {
       "model_id": "2cf5e26dde6449898c20c5974e572e36",
       "version_major": 2,
       "version_minor": 0
      },
      "text/plain": [
       "VBox(children=(Label(value='0.004 MB of 0.004 MB uploaded\\r'), FloatProgress(value=1.0, max=1.0)))"
      ]
     },
     "metadata": {},
     "output_type": "display_data"
    },
    {
     "data": {
      "text/html": [
       "<style>\n",
       "    table.wandb td:nth-child(1) { padding: 0 10px; text-align: left ; width: auto;} td:nth-child(2) {text-align: left ; width: 100%}\n",
       "    .wandb-row { display: flex; flex-direction: row; flex-wrap: wrap; justify-content: flex-start; width: 100% }\n",
       "    .wandb-col { display: flex; flex-direction: column; flex-basis: 100%; flex: 1; padding: 10px; }\n",
       "    </style>\n",
       "<div class=\"wandb-row\"><div class=\"wandb-col\"><h3>Run history:</h3><br/><table class=\"wandb\"><tr><td>epoch</td><td>▁▁▁▁▂▂▂▂▂▃▃▃▃▃▃▄▄▄▄▄▅▅▅▅▅▅▆▆▆▆▆▇▇▇▇▇▇███</td></tr><tr><td>learning_rate</td><td>████████████▇▇▆▆▆▆▅▅▄▄▄▄▃▃▃▃▃▃▂▂▂▂▂▂▂▁▁▁</td></tr><tr><td>train_accuracy</td><td>▁▃▄▅▅▆▆▇▇▇▇▇▇▇▇▇▇▇██▇███████████████████</td></tr><tr><td>train_loss</td><td>█▆▅▅▄▄▄▃▃▃▃▃▂▂▂▂▂▂▂▂▂▂▂▂▂▂▁▁▁▁▁▁▁▁▁▁▁▁▁▁</td></tr><tr><td>val_accuracy</td><td>▁▆▄▅▅▅▆▆▆▇▇▆▇▇▇▇▇▇▇▇▇▇█▇█▇▇█▇▇█▇▇▇▇▇▇▇█▇</td></tr><tr><td>val_loss</td><td>█▇▆▅▅▅▄▄▃▃▃▃▃▂▃▂▂▂▂▂▂▂▂▂▁▁▂▂▂▁▁▁▂▁▁▂▁▁▁▁</td></tr></table><br/></div><div class=\"wandb-col\"><h3>Run summary:</h3><br/><table class=\"wandb\"><tr><td>epoch</td><td>172</td></tr><tr><td>learning_rate</td><td>0.00022</td></tr><tr><td>train_accuracy</td><td>0.8129</td></tr><tr><td>train_loss</td><td>0.49489</td></tr><tr><td>val_accuracy</td><td>0.8072</td></tr><tr><td>val_loss</td><td>0.49213</td></tr></table><br/></div></div>"
      ],
      "text/plain": [
       "<IPython.core.display.HTML object>"
      ]
     },
     "metadata": {},
     "output_type": "display_data"
    },
    {
     "data": {
      "text/html": [
       " View run <strong style=\"color:#cdcd00\">range_IQ_run</strong> at: <a href='https://wandb.ai/ari-granevich/radar_detection/runs/ebrkoeww' target=\"_blank\">https://wandb.ai/ari-granevich/radar_detection/runs/ebrkoeww</a><br/> View project at: <a href='https://wandb.ai/ari-granevich/radar_detection' target=\"_blank\">https://wandb.ai/ari-granevich/radar_detection</a><br/>Synced 5 W&B file(s), 0 media file(s), 0 artifact file(s) and 0 other file(s)"
      ],
      "text/plain": [
       "<IPython.core.display.HTML object>"
      ]
     },
     "metadata": {},
     "output_type": "display_data"
    },
    {
     "data": {
      "text/html": [
       "Find logs at: <code>./wandb/run-20250211_010754-ebrkoeww/logs</code>"
      ],
      "text/plain": [
       "<IPython.core.display.HTML object>"
      ]
     },
     "metadata": {},
     "output_type": "display_data"
    },
    {
     "name": "stdout",
     "output_type": "stream",
     "text": [
      "\n",
      "Training RD Range Detector:\n"
     ]
    },
    {
     "data": {
      "application/vnd.jupyter.widget-view+json": {
       "model_id": "55c8d5eb0acd44f2aa9547a1932e8de6",
       "version_major": 2,
       "version_minor": 0
      },
      "text/plain": [
       "VBox(children=(Label(value='Waiting for wandb.init()...\\r'), FloatProgress(value=0.011113075199278278, max=1.0…"
      ]
     },
     "metadata": {},
     "output_type": "display_data"
    },
    {
     "data": {
      "text/html": [
       "wandb version 0.19.6 is available!  To upgrade, please run:\n",
       " $ pip install wandb --upgrade"
      ],
      "text/plain": [
       "<IPython.core.display.HTML object>"
      ]
     },
     "metadata": {},
     "output_type": "display_data"
    },
    {
     "data": {
      "text/html": [
       "Tracking run with wandb version 0.17.1"
      ],
      "text/plain": [
       "<IPython.core.display.HTML object>"
      ]
     },
     "metadata": {},
     "output_type": "display_data"
    },
    {
     "data": {
      "text/html": [
       "Run data is saved locally in <code>/home/hawk/Desktop/Heavy Detector/Heavy-Clutter-Detection/notebooks/wandb/run-20250211_013858-j4kwfila</code>"
      ],
      "text/plain": [
       "<IPython.core.display.HTML object>"
      ]
     },
     "metadata": {},
     "output_type": "display_data"
    },
    {
     "data": {
      "text/html": [
       "Syncing run <strong><a href='https://wandb.ai/ari-granevich/radar_detection/runs/j4kwfila' target=\"_blank\">range_RD_run</a></strong> to <a href='https://wandb.ai/ari-granevich/radar_detection' target=\"_blank\">Weights & Biases</a> (<a href='https://wandb.me/run' target=\"_blank\">docs</a>)<br/>"
      ],
      "text/plain": [
       "<IPython.core.display.HTML object>"
      ]
     },
     "metadata": {},
     "output_type": "display_data"
    },
    {
     "data": {
      "text/html": [
       " View project at <a href='https://wandb.ai/ari-granevich/radar_detection' target=\"_blank\">https://wandb.ai/ari-granevich/radar_detection</a>"
      ],
      "text/plain": [
       "<IPython.core.display.HTML object>"
      ]
     },
     "metadata": {},
     "output_type": "display_data"
    },
    {
     "data": {
      "text/html": [
       " View run at <a href='https://wandb.ai/ari-granevich/radar_detection/runs/j4kwfila' target=\"_blank\">https://wandb.ai/ari-granevich/radar_detection/runs/j4kwfila</a>"
      ],
      "text/plain": [
       "<IPython.core.display.HTML object>"
      ]
     },
     "metadata": {},
     "output_type": "display_data"
    },
    {
     "name": "stdout",
     "output_type": "stream",
     "text": [
      "Last computed LR: 0.001\n"
     ]
    },
    {
     "name": "stderr",
     "output_type": "stream",
     "text": [
      "Training Progress:   0%|          | 0/300 [00:00<?, ?it/s]"
     ]
    },
    {
     "name": "stdout",
     "output_type": "stream",
     "text": [
      "Training RD network\n"
     ]
    },
    {
     "name": "stderr",
     "output_type": "stream",
     "text": [
      "Training Progress:   0%|          | 1/300 [00:10<53:54, 10.82s/it]"
     ]
    },
    {
     "name": "stdout",
     "output_type": "stream",
     "text": [
      "\n",
      "Epoch 1/300\n",
      "Train Loss: 9.4008 | Val Loss: 0.9980\n",
      "Train Acc: 0.7176 | Val Acc: 0.9652\n"
     ]
    },
    {
     "name": "stderr",
     "output_type": "stream",
     "text": [
      "Training Progress:   4%|▎         | 11/300 [01:59<52:04, 10.81s/it]"
     ]
    },
    {
     "name": "stdout",
     "output_type": "stream",
     "text": [
      "\n",
      "Epoch 11/300\n",
      "Train Loss: 0.5053 | Val Loss: 0.4823\n",
      "Train Acc: 0.8485 | Val Acc: 0.8520\n"
     ]
    },
    {
     "name": "stderr",
     "output_type": "stream",
     "text": [
      "Training Progress:   7%|▋         | 21/300 [03:47<50:09, 10.79s/it]"
     ]
    },
    {
     "name": "stdout",
     "output_type": "stream",
     "text": [
      "\n",
      "Epoch 21/300\n",
      "Train Loss: 0.3594 | Val Loss: 0.3578\n",
      "Train Acc: 0.8740 | Val Acc: 0.8785\n"
     ]
    },
    {
     "name": "stderr",
     "output_type": "stream",
     "text": [
      "Training Progress:  10%|█         | 31/300 [05:35<48:21, 10.79s/it]"
     ]
    },
    {
     "name": "stdout",
     "output_type": "stream",
     "text": [
      "\n",
      "Epoch 31/300\n",
      "Train Loss: 0.2792 | Val Loss: 0.2772\n",
      "Train Acc: 0.9182 | Val Acc: 0.9193\n"
     ]
    },
    {
     "name": "stderr",
     "output_type": "stream",
     "text": [
      "Training Progress:  14%|█▎        | 41/300 [07:22<46:28, 10.76s/it]"
     ]
    },
    {
     "name": "stdout",
     "output_type": "stream",
     "text": [
      "\n",
      "Epoch 41/300\n",
      "Train Loss: 0.2241 | Val Loss: 0.2134\n",
      "Train Acc: 0.9374 | Val Acc: 0.9396\n"
     ]
    },
    {
     "name": "stderr",
     "output_type": "stream",
     "text": [
      "Training Progress:  17%|█▋        | 51/300 [09:10<44:51, 10.81s/it]"
     ]
    },
    {
     "name": "stdout",
     "output_type": "stream",
     "text": [
      "\n",
      "Epoch 51/300\n",
      "Train Loss: 0.2077 | Val Loss: 0.1998\n",
      "Train Acc: 0.9410 | Val Acc: 0.9403\n"
     ]
    },
    {
     "name": "stderr",
     "output_type": "stream",
     "text": [
      "Training Progress:  20%|██        | 61/300 [10:58<42:56, 10.78s/it]"
     ]
    },
    {
     "name": "stdout",
     "output_type": "stream",
     "text": [
      "\n",
      "Epoch 61/300\n",
      "Train Loss: 0.1863 | Val Loss: 0.1825\n",
      "Train Acc: 0.9464 | Val Acc: 0.9457\n"
     ]
    },
    {
     "name": "stderr",
     "output_type": "stream",
     "text": [
      "Training Progress:  24%|██▎       | 71/300 [12:46<41:14, 10.80s/it]"
     ]
    },
    {
     "name": "stdout",
     "output_type": "stream",
     "text": [
      "\n",
      "Epoch 71/300\n",
      "Train Loss: 0.1665 | Val Loss: 0.1644\n",
      "Train Acc: 0.9530 | Val Acc: 0.9494\n"
     ]
    },
    {
     "name": "stderr",
     "output_type": "stream",
     "text": [
      "Training Progress:  27%|██▋       | 81/300 [14:34<39:22, 10.79s/it]"
     ]
    },
    {
     "name": "stdout",
     "output_type": "stream",
     "text": [
      "\n",
      "Epoch 81/300\n",
      "Train Loss: 0.1396 | Val Loss: 0.1351\n",
      "Train Acc: 0.9643 | Val Acc: 0.9648\n"
     ]
    },
    {
     "name": "stderr",
     "output_type": "stream",
     "text": [
      "Training Progress:  30%|███       | 91/300 [16:22<37:34, 10.79s/it]"
     ]
    },
    {
     "name": "stdout",
     "output_type": "stream",
     "text": [
      "\n",
      "Epoch 91/300\n",
      "Train Loss: 0.1240 | Val Loss: 0.1259\n",
      "Train Acc: 0.9693 | Val Acc: 0.9743\n"
     ]
    },
    {
     "name": "stderr",
     "output_type": "stream",
     "text": [
      "Training Progress:  34%|███▎      | 101/300 [18:10<35:49, 10.80s/it]"
     ]
    },
    {
     "name": "stdout",
     "output_type": "stream",
     "text": [
      "\n",
      "Epoch 101/300\n",
      "Train Loss: 0.1139 | Val Loss: 0.1144\n",
      "Train Acc: 0.9725 | Val Acc: 0.9720\n"
     ]
    },
    {
     "name": "stderr",
     "output_type": "stream",
     "text": [
      "Training Progress:  37%|███▋      | 111/300 [19:58<34:02, 10.81s/it]"
     ]
    },
    {
     "name": "stdout",
     "output_type": "stream",
     "text": [
      "\n",
      "Epoch 111/300\n",
      "Train Loss: 0.1049 | Val Loss: 0.1053\n",
      "Train Acc: 0.9747 | Val Acc: 0.9737\n"
     ]
    },
    {
     "name": "stderr",
     "output_type": "stream",
     "text": [
      "Training Progress:  40%|████      | 121/300 [21:46<32:08, 10.77s/it]"
     ]
    },
    {
     "name": "stdout",
     "output_type": "stream",
     "text": [
      "\n",
      "Epoch 121/300\n",
      "Train Loss: 0.1029 | Val Loss: 0.0988\n",
      "Train Acc: 0.9756 | Val Acc: 0.9754\n"
     ]
    },
    {
     "name": "stderr",
     "output_type": "stream",
     "text": [
      "Training Progress:  44%|████▎     | 131/300 [23:34<30:22, 10.78s/it]"
     ]
    },
    {
     "name": "stdout",
     "output_type": "stream",
     "text": [
      "\n",
      "Epoch 131/300\n",
      "Train Loss: 0.0954 | Val Loss: 0.0987\n",
      "Train Acc: 0.9777 | Val Acc: 0.9756\n"
     ]
    },
    {
     "name": "stderr",
     "output_type": "stream",
     "text": [
      "Training Progress:  47%|████▋     | 141/300 [25:22<28:39, 10.82s/it]"
     ]
    },
    {
     "name": "stdout",
     "output_type": "stream",
     "text": [
      "\n",
      "Epoch 141/300\n",
      "Train Loss: 0.0924 | Val Loss: 0.0891\n",
      "Train Acc: 0.9782 | Val Acc: 0.9787\n"
     ]
    },
    {
     "name": "stderr",
     "output_type": "stream",
     "text": [
      "Training Progress:  50%|█████     | 151/300 [27:10<26:45, 10.78s/it]"
     ]
    },
    {
     "name": "stdout",
     "output_type": "stream",
     "text": [
      "\n",
      "Epoch 151/300\n",
      "Train Loss: 0.0843 | Val Loss: 0.0841\n",
      "Train Acc: 0.9798 | Val Acc: 0.9784\n"
     ]
    },
    {
     "name": "stderr",
     "output_type": "stream",
     "text": [
      "Training Progress:  54%|█████▎    | 161/300 [28:58<24:58, 10.78s/it]"
     ]
    },
    {
     "name": "stdout",
     "output_type": "stream",
     "text": [
      "\n",
      "Epoch 161/300\n",
      "Train Loss: 0.0825 | Val Loss: 0.0843\n",
      "Train Acc: 0.9806 | Val Acc: 0.9799\n"
     ]
    },
    {
     "name": "stderr",
     "output_type": "stream",
     "text": [
      "Training Progress:  57%|█████▋    | 171/300 [30:46<23:13, 10.80s/it]"
     ]
    },
    {
     "name": "stdout",
     "output_type": "stream",
     "text": [
      "\n",
      "Epoch 171/300\n",
      "Train Loss: 0.0789 | Val Loss: 0.0790\n",
      "Train Acc: 0.9812 | Val Acc: 0.9809\n"
     ]
    },
    {
     "name": "stderr",
     "output_type": "stream",
     "text": [
      "Training Progress:  60%|██████    | 181/300 [32:34<21:23, 10.79s/it]"
     ]
    },
    {
     "name": "stdout",
     "output_type": "stream",
     "text": [
      "\n",
      "Epoch 181/300\n",
      "Train Loss: 0.0771 | Val Loss: 0.0777\n",
      "Train Acc: 0.9816 | Val Acc: 0.9823\n"
     ]
    },
    {
     "name": "stderr",
     "output_type": "stream",
     "text": [
      "Training Progress:  64%|██████▎   | 191/300 [34:21<19:35, 10.79s/it]"
     ]
    },
    {
     "name": "stdout",
     "output_type": "stream",
     "text": [
      "\n",
      "Epoch 191/300\n",
      "Train Loss: 0.0739 | Val Loss: 0.0746\n",
      "Train Acc: 0.9824 | Val Acc: 0.9821\n"
     ]
    },
    {
     "name": "stderr",
     "output_type": "stream",
     "text": [
      "Training Progress:  67%|██████▋   | 201/300 [36:09<17:47, 10.78s/it]"
     ]
    },
    {
     "name": "stdout",
     "output_type": "stream",
     "text": [
      "\n",
      "Epoch 201/300\n",
      "Train Loss: 0.0708 | Val Loss: 0.0707\n",
      "Train Acc: 0.9833 | Val Acc: 0.9825\n"
     ]
    },
    {
     "name": "stderr",
     "output_type": "stream",
     "text": [
      "Training Progress:  70%|███████   | 211/300 [37:57<15:59, 10.78s/it]"
     ]
    },
    {
     "name": "stdout",
     "output_type": "stream",
     "text": [
      "\n",
      "Epoch 211/300\n",
      "Train Loss: 0.0676 | Val Loss: 0.0659\n",
      "Train Acc: 0.9842 | Val Acc: 0.9838\n"
     ]
    },
    {
     "name": "stderr",
     "output_type": "stream",
     "text": [
      "Training Progress:  74%|███████▎  | 221/300 [39:45<14:11, 10.78s/it]"
     ]
    },
    {
     "name": "stdout",
     "output_type": "stream",
     "text": [
      "\n",
      "Epoch 221/300\n",
      "Train Loss: 0.0657 | Val Loss: 0.0656\n",
      "Train Acc: 0.9844 | Val Acc: 0.9830\n"
     ]
    },
    {
     "name": "stderr",
     "output_type": "stream",
     "text": [
      "Training Progress:  77%|███████▋  | 231/300 [41:33<12:22, 10.76s/it]"
     ]
    },
    {
     "name": "stdout",
     "output_type": "stream",
     "text": [
      "\n",
      "Epoch 231/300\n",
      "Train Loss: 0.0615 | Val Loss: 0.0600\n",
      "Train Acc: 0.9854 | Val Acc: 0.9862\n"
     ]
    },
    {
     "name": "stderr",
     "output_type": "stream",
     "text": [
      "Training Progress:  80%|████████  | 241/300 [43:21<10:36, 10.79s/it]"
     ]
    },
    {
     "name": "stdout",
     "output_type": "stream",
     "text": [
      "\n",
      "Epoch 241/300\n",
      "Train Loss: 0.0588 | Val Loss: 0.0571\n",
      "Train Acc: 0.9863 | Val Acc: 0.9865\n"
     ]
    },
    {
     "name": "stderr",
     "output_type": "stream",
     "text": [
      "Training Progress:  84%|████████▎ | 251/300 [45:09<08:48, 10.78s/it]"
     ]
    },
    {
     "name": "stdout",
     "output_type": "stream",
     "text": [
      "\n",
      "Epoch 251/300\n",
      "Train Loss: 0.0591 | Val Loss: 0.0592\n",
      "Train Acc: 0.9863 | Val Acc: 0.9871\n"
     ]
    },
    {
     "name": "stderr",
     "output_type": "stream",
     "text": [
      "Training Progress:  87%|████████▋ | 261/300 [46:57<07:00, 10.78s/it]"
     ]
    },
    {
     "name": "stdout",
     "output_type": "stream",
     "text": [
      "\n",
      "Epoch 261/300\n",
      "Train Loss: 0.0543 | Val Loss: 0.0580\n",
      "Train Acc: 0.9877 | Val Acc: 0.9871\n"
     ]
    },
    {
     "name": "stderr",
     "output_type": "stream",
     "text": [
      "Training Progress:  90%|█████████ | 271/300 [48:44<05:12, 10.77s/it]"
     ]
    },
    {
     "name": "stdout",
     "output_type": "stream",
     "text": [
      "\n",
      "Epoch 271/300\n",
      "Train Loss: 0.0536 | Val Loss: 0.0525\n",
      "Train Acc: 0.9880 | Val Acc: 0.9878\n"
     ]
    },
    {
     "name": "stderr",
     "output_type": "stream",
     "text": [
      "Training Progress:  94%|█████████▎| 281/300 [50:32<03:25, 10.80s/it]"
     ]
    },
    {
     "name": "stdout",
     "output_type": "stream",
     "text": [
      "\n",
      "Epoch 281/300\n",
      "Train Loss: 0.0516 | Val Loss: 0.0518\n",
      "Train Acc: 0.9882 | Val Acc: 0.9883\n"
     ]
    },
    {
     "name": "stderr",
     "output_type": "stream",
     "text": [
      "Training Progress:  97%|█████████▋| 291/300 [52:20<01:36, 10.77s/it]"
     ]
    },
    {
     "name": "stdout",
     "output_type": "stream",
     "text": [
      "\n",
      "Epoch 291/300\n",
      "Train Loss: 0.0498 | Val Loss: 0.0481\n",
      "Train Acc: 0.9890 | Val Acc: 0.9887\n"
     ]
    },
    {
     "name": "stderr",
     "output_type": "stream",
     "text": [
      "Training Progress: 100%|██████████| 300/300 [53:57<00:00, 10.79s/it]\n"
     ]
    },
    {
     "data": {
      "application/vnd.jupyter.widget-view+json": {
       "model_id": "4496906df4394bc4b582c83a5bfb8540",
       "version_major": 2,
       "version_minor": 0
      },
      "text/plain": [
       "VBox(children=(Label(value='0.004 MB of 0.004 MB uploaded\\r'), FloatProgress(value=1.0, max=1.0)))"
      ]
     },
     "metadata": {},
     "output_type": "display_data"
    },
    {
     "data": {
      "text/html": [
       "<style>\n",
       "    table.wandb td:nth-child(1) { padding: 0 10px; text-align: left ; width: auto;} td:nth-child(2) {text-align: left ; width: 100%}\n",
       "    .wandb-row { display: flex; flex-direction: row; flex-wrap: wrap; justify-content: flex-start; width: 100% }\n",
       "    .wandb-col { display: flex; flex-direction: column; flex-basis: 100%; flex: 1; padding: 10px; }\n",
       "    </style>\n",
       "<div class=\"wandb-row\"><div class=\"wandb-col\"><h3>Run history:</h3><br/><table class=\"wandb\"><tr><td>epoch</td><td>▁▁▁▁▂▂▂▂▂▃▃▃▃▃▃▄▄▄▄▄▅▅▅▅▅▅▆▆▆▆▆▆▇▇▇▇▇███</td></tr><tr><td>learning_rate</td><td>████████████▇▇▆▆▆▅▅▅▅▄▄▄▄▃▃▃▃▂▂▂▂▁▁▁▁▁▁▁</td></tr><tr><td>train_accuracy</td><td>▇▁▂▄▅▆▆▆▆▇▇▇▇▇▇▇▇███████████████████████</td></tr><tr><td>train_loss</td><td>█▆▄▃▃▂▂▂▂▂▂▂▂▂▁▁▁▁▁▁▁▁▁▁▁▁▁▁▁▁▁▁▁▁▁▁▁▁▁▁</td></tr><tr><td>val_accuracy</td><td>▇▁▃▄▆▆▆▆▆▇▇▇▇█▇▇▇███████████████████████</td></tr><tr><td>val_loss</td><td>█▆▄▃▃▂▂▂▂▂▂▂▂▂▁▁▁▁▁▁▁▁▁▁▁▁▁▁▁▁▁▁▁▁▁▁▁▁▁▁</td></tr></table><br/></div><div class=\"wandb-col\"><h3>Run summary:</h3><br/><table class=\"wandb\"><tr><td>epoch</td><td>300</td></tr><tr><td>learning_rate</td><td>0.00018</td></tr><tr><td>train_accuracy</td><td>0.98914</td></tr><tr><td>train_loss</td><td>0.04917</td></tr><tr><td>val_accuracy</td><td>0.98807</td></tr><tr><td>val_loss</td><td>0.04978</td></tr></table><br/></div></div>"
      ],
      "text/plain": [
       "<IPython.core.display.HTML object>"
      ]
     },
     "metadata": {},
     "output_type": "display_data"
    },
    {
     "data": {
      "text/html": [
       " View run <strong style=\"color:#cdcd00\">range_RD_run</strong> at: <a href='https://wandb.ai/ari-granevich/radar_detection/runs/j4kwfila' target=\"_blank\">https://wandb.ai/ari-granevich/radar_detection/runs/j4kwfila</a><br/> View project at: <a href='https://wandb.ai/ari-granevich/radar_detection' target=\"_blank\">https://wandb.ai/ari-granevich/radar_detection</a><br/>Synced 5 W&B file(s), 0 media file(s), 0 artifact file(s) and 0 other file(s)"
      ],
      "text/plain": [
       "<IPython.core.display.HTML object>"
      ]
     },
     "metadata": {},
     "output_type": "display_data"
    },
    {
     "data": {
      "text/html": [
       "Find logs at: <code>./wandb/run-20250211_013858-j4kwfila/logs</code>"
      ],
      "text/plain": [
       "<IPython.core.display.HTML object>"
      ]
     },
     "metadata": {},
     "output_type": "display_data"
    },
    {
     "name": "stdout",
     "output_type": "stream",
     "text": [
      "ratio: 0.03481910342261905 , n1: 44925 , n_total: 1290240\n",
      "w1:  28.581026866959892\n",
      "\n",
      "Training IQ Doppler Detector:\n"
     ]
    },
    {
     "data": {
      "text/html": [
       "wandb version 0.19.6 is available!  To upgrade, please run:\n",
       " $ pip install wandb --upgrade"
      ],
      "text/plain": [
       "<IPython.core.display.HTML object>"
      ]
     },
     "metadata": {},
     "output_type": "display_data"
    },
    {
     "data": {
      "text/html": [
       "Tracking run with wandb version 0.17.1"
      ],
      "text/plain": [
       "<IPython.core.display.HTML object>"
      ]
     },
     "metadata": {},
     "output_type": "display_data"
    },
    {
     "data": {
      "text/html": [
       "Run data is saved locally in <code>/home/hawk/Desktop/Heavy Detector/Heavy-Clutter-Detection/notebooks/wandb/run-20250211_023312-gw2cz8ue</code>"
      ],
      "text/plain": [
       "<IPython.core.display.HTML object>"
      ]
     },
     "metadata": {},
     "output_type": "display_data"
    },
    {
     "data": {
      "text/html": [
       "Syncing run <strong><a href='https://wandb.ai/ari-granevich/radar_detection/runs/gw2cz8ue' target=\"_blank\">doppler_IQ_run</a></strong> to <a href='https://wandb.ai/ari-granevich/radar_detection' target=\"_blank\">Weights & Biases</a> (<a href='https://wandb.me/run' target=\"_blank\">docs</a>)<br/>"
      ],
      "text/plain": [
       "<IPython.core.display.HTML object>"
      ]
     },
     "metadata": {},
     "output_type": "display_data"
    },
    {
     "data": {
      "text/html": [
       " View project at <a href='https://wandb.ai/ari-granevich/radar_detection' target=\"_blank\">https://wandb.ai/ari-granevich/radar_detection</a>"
      ],
      "text/plain": [
       "<IPython.core.display.HTML object>"
      ]
     },
     "metadata": {},
     "output_type": "display_data"
    },
    {
     "data": {
      "text/html": [
       " View run at <a href='https://wandb.ai/ari-granevich/radar_detection/runs/gw2cz8ue' target=\"_blank\">https://wandb.ai/ari-granevich/radar_detection/runs/gw2cz8ue</a>"
      ],
      "text/plain": [
       "<IPython.core.display.HTML object>"
      ]
     },
     "metadata": {},
     "output_type": "display_data"
    },
    {
     "name": "stdout",
     "output_type": "stream",
     "text": [
      "Last computed LR: 0.001\n"
     ]
    },
    {
     "name": "stderr",
     "output_type": "stream",
     "text": [
      "Training Progress:   0%|          | 0/300 [00:00<?, ?it/s]"
     ]
    },
    {
     "name": "stdout",
     "output_type": "stream",
     "text": [
      "Training IQ network\n"
     ]
    },
    {
     "name": "stderr",
     "output_type": "stream",
     "text": [
      "Training Progress:   0%|          | 1/300 [00:10<53:54, 10.82s/it]"
     ]
    },
    {
     "name": "stdout",
     "output_type": "stream",
     "text": [
      "\n",
      "Epoch 1/300\n",
      "Train Loss: 1.2725 | Val Loss: 1.1668\n",
      "Train Acc: 0.2667 | Val Acc: 0.5591\n"
     ]
    },
    {
     "name": "stderr",
     "output_type": "stream",
     "text": [
      "Training Progress:   4%|▎         | 11/300 [01:58<51:56, 10.78s/it]"
     ]
    },
    {
     "name": "stdout",
     "output_type": "stream",
     "text": [
      "\n",
      "Epoch 11/300\n",
      "Train Loss: 0.7859 | Val Loss: 0.7840\n",
      "Train Acc: 0.6893 | Val Acc: 0.6898\n"
     ]
    },
    {
     "name": "stderr",
     "output_type": "stream",
     "text": [
      "Training Progress:   7%|▋         | 21/300 [03:46<50:06, 10.78s/it]"
     ]
    },
    {
     "name": "stdout",
     "output_type": "stream",
     "text": [
      "\n",
      "Epoch 21/300\n",
      "Train Loss: 0.7526 | Val Loss: 0.7512\n",
      "Train Acc: 0.7121 | Val Acc: 0.7331\n"
     ]
    },
    {
     "name": "stderr",
     "output_type": "stream",
     "text": [
      "Training Progress:  10%|█         | 31/300 [05:34<48:26, 10.80s/it]"
     ]
    },
    {
     "name": "stdout",
     "output_type": "stream",
     "text": [
      "\n",
      "Epoch 31/300\n",
      "Train Loss: 0.7380 | Val Loss: 0.7362\n",
      "Train Acc: 0.7205 | Val Acc: 0.6849\n"
     ]
    },
    {
     "name": "stderr",
     "output_type": "stream",
     "text": [
      "Training Progress:  14%|█▎        | 41/300 [07:22<46:33, 10.78s/it]"
     ]
    },
    {
     "name": "stdout",
     "output_type": "stream",
     "text": [
      "\n",
      "Epoch 41/300\n",
      "Train Loss: 0.7192 | Val Loss: 0.7104\n",
      "Train Acc: 0.7342 | Val Acc: 0.7500\n"
     ]
    },
    {
     "name": "stderr",
     "output_type": "stream",
     "text": [
      "Training Progress:  17%|█▋        | 51/300 [09:10<44:44, 10.78s/it]"
     ]
    },
    {
     "name": "stdout",
     "output_type": "stream",
     "text": [
      "\n",
      "Epoch 51/300\n",
      "Train Loss: 0.6966 | Val Loss: 0.6976\n",
      "Train Acc: 0.7465 | Val Acc: 0.7680\n"
     ]
    },
    {
     "name": "stderr",
     "output_type": "stream",
     "text": [
      "Training Progress:  20%|██        | 61/300 [10:58<43:00, 10.80s/it]"
     ]
    },
    {
     "name": "stdout",
     "output_type": "stream",
     "text": [
      "\n",
      "Epoch 61/300\n",
      "Train Loss: 0.6868 | Val Loss: 0.6854\n",
      "Train Acc: 0.7501 | Val Acc: 0.7397\n"
     ]
    },
    {
     "name": "stderr",
     "output_type": "stream",
     "text": [
      "Training Progress:  24%|██▎       | 71/300 [12:46<41:08, 10.78s/it]"
     ]
    },
    {
     "name": "stdout",
     "output_type": "stream",
     "text": [
      "\n",
      "Epoch 71/300\n",
      "Train Loss: 0.6760 | Val Loss: 0.6798\n",
      "Train Acc: 0.7567 | Val Acc: 0.7590\n"
     ]
    },
    {
     "name": "stderr",
     "output_type": "stream",
     "text": [
      "Training Progress:  27%|██▋       | 81/300 [14:34<39:21, 10.78s/it]"
     ]
    },
    {
     "name": "stdout",
     "output_type": "stream",
     "text": [
      "\n",
      "Epoch 81/300\n",
      "Train Loss: 0.6750 | Val Loss: 0.6685\n",
      "Train Acc: 0.7578 | Val Acc: 0.7683\n"
     ]
    },
    {
     "name": "stderr",
     "output_type": "stream",
     "text": [
      "Training Progress:  30%|███       | 91/300 [16:21<37:31, 10.77s/it]"
     ]
    },
    {
     "name": "stdout",
     "output_type": "stream",
     "text": [
      "\n",
      "Epoch 91/300\n",
      "Train Loss: 0.6631 | Val Loss: 0.6757\n",
      "Train Acc: 0.7633 | Val Acc: 0.7630\n"
     ]
    },
    {
     "name": "stderr",
     "output_type": "stream",
     "text": [
      "Training Progress:  34%|███▎      | 101/300 [18:09<35:45, 10.78s/it]"
     ]
    },
    {
     "name": "stdout",
     "output_type": "stream",
     "text": [
      "\n",
      "Epoch 101/300\n",
      "Train Loss: 0.6598 | Val Loss: 0.6599\n",
      "Train Acc: 0.7633 | Val Acc: 0.7759\n"
     ]
    },
    {
     "name": "stderr",
     "output_type": "stream",
     "text": [
      "Training Progress:  37%|███▋      | 111/300 [19:57<34:00, 10.79s/it]"
     ]
    },
    {
     "name": "stdout",
     "output_type": "stream",
     "text": [
      "\n",
      "Epoch 111/300\n",
      "Train Loss: 0.6559 | Val Loss: 0.6529\n",
      "Train Acc: 0.7655 | Val Acc: 0.7680\n"
     ]
    },
    {
     "name": "stderr",
     "output_type": "stream",
     "text": [
      "Training Progress:  40%|████      | 121/300 [21:45<32:06, 10.76s/it]"
     ]
    },
    {
     "name": "stdout",
     "output_type": "stream",
     "text": [
      "\n",
      "Epoch 121/300\n",
      "Train Loss: 0.6490 | Val Loss: 0.6416\n",
      "Train Acc: 0.7693 | Val Acc: 0.7754\n"
     ]
    },
    {
     "name": "stderr",
     "output_type": "stream",
     "text": [
      "Training Progress:  44%|████▎     | 131/300 [23:33<30:24, 10.80s/it]"
     ]
    },
    {
     "name": "stdout",
     "output_type": "stream",
     "text": [
      "\n",
      "Epoch 131/300\n",
      "Train Loss: 0.6476 | Val Loss: 0.6514\n",
      "Train Acc: 0.7695 | Val Acc: 0.7758\n"
     ]
    },
    {
     "name": "stderr",
     "output_type": "stream",
     "text": [
      "Training Progress:  47%|████▋     | 141/300 [25:21<28:33, 10.77s/it]"
     ]
    },
    {
     "name": "stdout",
     "output_type": "stream",
     "text": [
      "\n",
      "Epoch 141/300\n",
      "Train Loss: 0.6380 | Val Loss: 0.6390\n",
      "Train Acc: 0.7759 | Val Acc: 0.7708\n"
     ]
    },
    {
     "name": "stderr",
     "output_type": "stream",
     "text": [
      "Training Progress:  50%|█████     | 151/300 [27:09<26:51, 10.81s/it]"
     ]
    },
    {
     "name": "stdout",
     "output_type": "stream",
     "text": [
      "\n",
      "Epoch 151/300\n",
      "Train Loss: 0.6413 | Val Loss: 0.6267\n",
      "Train Acc: 0.7739 | Val Acc: 0.7843\n"
     ]
    },
    {
     "name": "stderr",
     "output_type": "stream",
     "text": [
      "Training Progress:  54%|█████▎    | 161/300 [28:56<24:58, 10.78s/it]"
     ]
    },
    {
     "name": "stdout",
     "output_type": "stream",
     "text": [
      "\n",
      "Epoch 161/300\n",
      "Train Loss: 0.6350 | Val Loss: 0.6378\n",
      "Train Acc: 0.7774 | Val Acc: 0.7683\n"
     ]
    },
    {
     "name": "stderr",
     "output_type": "stream",
     "text": [
      "Training Progress:  57%|█████▋    | 170/300 [30:45<23:30, 10.85s/it]"
     ]
    },
    {
     "name": "stdout",
     "output_type": "stream",
     "text": [
      "\n",
      "Early stopping triggered after 171 epochs\n"
     ]
    },
    {
     "name": "stderr",
     "output_type": "stream",
     "text": [
      "\n"
     ]
    },
    {
     "data": {
      "application/vnd.jupyter.widget-view+json": {
       "model_id": "bb5e0d8931e248f2a83febca2b4d2a7f",
       "version_major": 2,
       "version_minor": 0
      },
      "text/plain": [
       "VBox(children=(Label(value='0.004 MB of 0.004 MB uploaded\\r'), FloatProgress(value=0.9325767690253671, max=1.0…"
      ]
     },
     "metadata": {},
     "output_type": "display_data"
    },
    {
     "data": {
      "text/html": [
       "<style>\n",
       "    table.wandb td:nth-child(1) { padding: 0 10px; text-align: left ; width: auto;} td:nth-child(2) {text-align: left ; width: 100%}\n",
       "    .wandb-row { display: flex; flex-direction: row; flex-wrap: wrap; justify-content: flex-start; width: 100% }\n",
       "    .wandb-col { display: flex; flex-direction: column; flex-basis: 100%; flex: 1; padding: 10px; }\n",
       "    </style>\n",
       "<div class=\"wandb-row\"><div class=\"wandb-col\"><h3>Run history:</h3><br/><table class=\"wandb\"><tr><td>epoch</td><td>▁▁▁▁▂▂▂▂▂▃▃▃▃▃▃▄▄▄▄▄▅▅▅▅▅▅▆▆▆▆▆▇▇▇▇▇▇███</td></tr><tr><td>learning_rate</td><td>██████████████▇▇▇▇▆▆▆▅▅▄▄▄▄▃▃▃▃▂▂▂▂▂▂▂▁▁</td></tr><tr><td>train_accuracy</td><td>▁▂▄▄▅▅▅▅▆▆▆▆▇▇▇▇▇▇▇▇▇▇▇█████████████████</td></tr><tr><td>train_loss</td><td>█▅▄▄▃▃▃▃▃▃▂▂▂▂▂▂▂▂▂▂▂▂▂▁▁▁▁▁▁▁▁▁▁▁▁▁▁▁▁▁</td></tr><tr><td>val_accuracy</td><td>▁▃▃▅▃▅▄▅▆▅▆▆▆▇▇▇▆▆▆▆▆▇▆▇▇▇▇██▇▆█▇▇▇▇█▇█▇</td></tr><tr><td>val_loss</td><td>█▇▆▆▅▅▅▅▄▄▃▃▃▃▃▃▃▃▃▂▂▂▂▂▂▁▂▂▂▂▂▂▁▁▁▁▁▁▁▂</td></tr></table><br/></div><div class=\"wandb-col\"><h3>Run summary:</h3><br/><table class=\"wandb\"><tr><td>epoch</td><td>171</td></tr><tr><td>learning_rate</td><td>0.00027</td></tr><tr><td>train_accuracy</td><td>0.77705</td></tr><tr><td>train_loss</td><td>0.63442</td></tr><tr><td>val_accuracy</td><td>0.77514</td></tr><tr><td>val_loss</td><td>0.63455</td></tr></table><br/></div></div>"
      ],
      "text/plain": [
       "<IPython.core.display.HTML object>"
      ]
     },
     "metadata": {},
     "output_type": "display_data"
    },
    {
     "data": {
      "text/html": [
       " View run <strong style=\"color:#cdcd00\">doppler_IQ_run</strong> at: <a href='https://wandb.ai/ari-granevich/radar_detection/runs/gw2cz8ue' target=\"_blank\">https://wandb.ai/ari-granevich/radar_detection/runs/gw2cz8ue</a><br/> View project at: <a href='https://wandb.ai/ari-granevich/radar_detection' target=\"_blank\">https://wandb.ai/ari-granevich/radar_detection</a><br/>Synced 5 W&B file(s), 0 media file(s), 0 artifact file(s) and 0 other file(s)"
      ],
      "text/plain": [
       "<IPython.core.display.HTML object>"
      ]
     },
     "metadata": {},
     "output_type": "display_data"
    },
    {
     "data": {
      "text/html": [
       "Find logs at: <code>./wandb/run-20250211_023312-gw2cz8ue/logs</code>"
      ],
      "text/plain": [
       "<IPython.core.display.HTML object>"
      ]
     },
     "metadata": {},
     "output_type": "display_data"
    },
    {
     "name": "stdout",
     "output_type": "stream",
     "text": [
      "\n",
      "Training RD Doppler Detector:\n"
     ]
    },
    {
     "data": {
      "text/html": [
       "wandb version 0.19.6 is available!  To upgrade, please run:\n",
       " $ pip install wandb --upgrade"
      ],
      "text/plain": [
       "<IPython.core.display.HTML object>"
      ]
     },
     "metadata": {},
     "output_type": "display_data"
    },
    {
     "data": {
      "text/html": [
       "Tracking run with wandb version 0.17.1"
      ],
      "text/plain": [
       "<IPython.core.display.HTML object>"
      ]
     },
     "metadata": {},
     "output_type": "display_data"
    },
    {
     "data": {
      "text/html": [
       "Run data is saved locally in <code>/home/hawk/Desktop/Heavy Detector/Heavy-Clutter-Detection/notebooks/wandb/run-20250211_030404-xmy4lslb</code>"
      ],
      "text/plain": [
       "<IPython.core.display.HTML object>"
      ]
     },
     "metadata": {},
     "output_type": "display_data"
    },
    {
     "data": {
      "text/html": [
       "Syncing run <strong><a href='https://wandb.ai/ari-granevich/radar_detection/runs/xmy4lslb' target=\"_blank\">doppler_RD_run</a></strong> to <a href='https://wandb.ai/ari-granevich/radar_detection' target=\"_blank\">Weights & Biases</a> (<a href='https://wandb.me/run' target=\"_blank\">docs</a>)<br/>"
      ],
      "text/plain": [
       "<IPython.core.display.HTML object>"
      ]
     },
     "metadata": {},
     "output_type": "display_data"
    },
    {
     "data": {
      "text/html": [
       " View project at <a href='https://wandb.ai/ari-granevich/radar_detection' target=\"_blank\">https://wandb.ai/ari-granevich/radar_detection</a>"
      ],
      "text/plain": [
       "<IPython.core.display.HTML object>"
      ]
     },
     "metadata": {},
     "output_type": "display_data"
    },
    {
     "data": {
      "text/html": [
       " View run at <a href='https://wandb.ai/ari-granevich/radar_detection/runs/xmy4lslb' target=\"_blank\">https://wandb.ai/ari-granevich/radar_detection/runs/xmy4lslb</a>"
      ],
      "text/plain": [
       "<IPython.core.display.HTML object>"
      ]
     },
     "metadata": {},
     "output_type": "display_data"
    },
    {
     "name": "stdout",
     "output_type": "stream",
     "text": [
      "Last computed LR: 0.001\n"
     ]
    },
    {
     "name": "stderr",
     "output_type": "stream",
     "text": [
      "Training Progress:   0%|          | 0/300 [00:00<?, ?it/s]"
     ]
    },
    {
     "name": "stdout",
     "output_type": "stream",
     "text": [
      "Training RD network\n"
     ]
    },
    {
     "name": "stderr",
     "output_type": "stream",
     "text": [
      "Training Progress:   0%|          | 1/300 [00:10<54:10, 10.87s/it]"
     ]
    },
    {
     "name": "stdout",
     "output_type": "stream",
     "text": [
      "\n",
      "Epoch 1/300\n",
      "Train Loss: 30.7723 | Val Loss: 1.3412\n",
      "Train Acc: 0.5307 | Val Acc: 0.7042\n"
     ]
    },
    {
     "name": "stderr",
     "output_type": "stream",
     "text": [
      "Training Progress:   4%|▎         | 11/300 [01:58<51:58, 10.79s/it]"
     ]
    },
    {
     "name": "stdout",
     "output_type": "stream",
     "text": [
      "\n",
      "Epoch 11/300\n",
      "Train Loss: 0.6579 | Val Loss: 0.6364\n",
      "Train Acc: 0.8038 | Val Acc: 0.8204\n"
     ]
    },
    {
     "name": "stderr",
     "output_type": "stream",
     "text": [
      "Training Progress:   7%|▋         | 21/300 [03:46<50:07, 10.78s/it]"
     ]
    },
    {
     "name": "stdout",
     "output_type": "stream",
     "text": [
      "\n",
      "Epoch 21/300\n",
      "Train Loss: 0.5082 | Val Loss: 0.5082\n",
      "Train Acc: 0.8333 | Val Acc: 0.8279\n"
     ]
    },
    {
     "name": "stderr",
     "output_type": "stream",
     "text": [
      "Training Progress:  10%|█         | 31/300 [05:34<48:23, 10.79s/it]"
     ]
    },
    {
     "name": "stdout",
     "output_type": "stream",
     "text": [
      "\n",
      "Epoch 31/300\n",
      "Train Loss: 0.4252 | Val Loss: 0.4238\n",
      "Train Acc: 0.8722 | Val Acc: 0.8757\n"
     ]
    },
    {
     "name": "stderr",
     "output_type": "stream",
     "text": [
      "Training Progress:  14%|█▎        | 41/300 [07:22<46:33, 10.78s/it]"
     ]
    },
    {
     "name": "stdout",
     "output_type": "stream",
     "text": [
      "\n",
      "Epoch 41/300\n",
      "Train Loss: 0.3728 | Val Loss: 0.3843\n",
      "Train Acc: 0.8851 | Val Acc: 0.8847\n"
     ]
    },
    {
     "name": "stderr",
     "output_type": "stream",
     "text": [
      "Training Progress:  17%|█▋        | 51/300 [09:10<44:50, 10.81s/it]"
     ]
    },
    {
     "name": "stdout",
     "output_type": "stream",
     "text": [
      "\n",
      "Epoch 51/300\n",
      "Train Loss: 0.3389 | Val Loss: 0.3468\n",
      "Train Acc: 0.8949 | Val Acc: 0.8935\n"
     ]
    },
    {
     "name": "stderr",
     "output_type": "stream",
     "text": [
      "Training Progress:  20%|██        | 61/300 [10:58<42:56, 10.78s/it]"
     ]
    },
    {
     "name": "stdout",
     "output_type": "stream",
     "text": [
      "\n",
      "Epoch 61/300\n",
      "Train Loss: 0.2974 | Val Loss: 0.2904\n",
      "Train Acc: 0.9134 | Val Acc: 0.9161\n"
     ]
    },
    {
     "name": "stderr",
     "output_type": "stream",
     "text": [
      "Training Progress:  24%|██▎       | 71/300 [12:46<41:06, 10.77s/it]"
     ]
    },
    {
     "name": "stdout",
     "output_type": "stream",
     "text": [
      "\n",
      "Epoch 71/300\n",
      "Train Loss: 0.2623 | Val Loss: 0.2574\n",
      "Train Acc: 0.9271 | Val Acc: 0.9330\n"
     ]
    },
    {
     "name": "stderr",
     "output_type": "stream",
     "text": [
      "Training Progress:  27%|██▋       | 81/300 [14:34<39:22, 10.79s/it]"
     ]
    },
    {
     "name": "stdout",
     "output_type": "stream",
     "text": [
      "\n",
      "Epoch 81/300\n",
      "Train Loss: 0.2254 | Val Loss: 0.2315\n",
      "Train Acc: 0.9413 | Val Acc: 0.9299\n"
     ]
    },
    {
     "name": "stderr",
     "output_type": "stream",
     "text": [
      "Training Progress:  30%|███       | 91/300 [16:22<37:48, 10.85s/it]"
     ]
    },
    {
     "name": "stdout",
     "output_type": "stream",
     "text": [
      "\n",
      "Epoch 91/300\n",
      "Train Loss: 0.2021 | Val Loss: 0.2025\n",
      "Train Acc: 0.9507 | Val Acc: 0.9514\n"
     ]
    },
    {
     "name": "stderr",
     "output_type": "stream",
     "text": [
      "Training Progress:  34%|███▎      | 101/300 [18:10<35:46, 10.79s/it]"
     ]
    },
    {
     "name": "stdout",
     "output_type": "stream",
     "text": [
      "\n",
      "Epoch 101/300\n",
      "Train Loss: 0.1852 | Val Loss: 0.1923\n",
      "Train Acc: 0.9566 | Val Acc: 0.9555\n"
     ]
    },
    {
     "name": "stderr",
     "output_type": "stream",
     "text": [
      "Training Progress:  37%|███▋      | 111/300 [19:58<34:04, 10.82s/it]"
     ]
    },
    {
     "name": "stdout",
     "output_type": "stream",
     "text": [
      "\n",
      "Epoch 111/300\n",
      "Train Loss: 0.1658 | Val Loss: 0.1652\n",
      "Train Acc: 0.9619 | Val Acc: 0.9648\n"
     ]
    },
    {
     "name": "stderr",
     "output_type": "stream",
     "text": [
      "Training Progress:  40%|████      | 121/300 [21:46<32:15, 10.81s/it]"
     ]
    },
    {
     "name": "stdout",
     "output_type": "stream",
     "text": [
      "\n",
      "Epoch 121/300\n",
      "Train Loss: 0.1546 | Val Loss: 0.1480\n",
      "Train Acc: 0.9647 | Val Acc: 0.9629\n"
     ]
    },
    {
     "name": "stderr",
     "output_type": "stream",
     "text": [
      "Training Progress:  44%|████▎     | 131/300 [23:34<30:26, 10.81s/it]"
     ]
    },
    {
     "name": "stdout",
     "output_type": "stream",
     "text": [
      "\n",
      "Epoch 131/300\n",
      "Train Loss: 0.1488 | Val Loss: 0.1490\n",
      "Train Acc: 0.9667 | Val Acc: 0.9647\n"
     ]
    },
    {
     "name": "stderr",
     "output_type": "stream",
     "text": [
      "Training Progress:  47%|████▋     | 141/300 [25:22<28:35, 10.79s/it]"
     ]
    },
    {
     "name": "stdout",
     "output_type": "stream",
     "text": [
      "\n",
      "Epoch 141/300\n",
      "Train Loss: 0.1398 | Val Loss: 0.1377\n",
      "Train Acc: 0.9685 | Val Acc: 0.9712\n"
     ]
    },
    {
     "name": "stderr",
     "output_type": "stream",
     "text": [
      "Training Progress:  50%|█████     | 151/300 [27:10<26:47, 10.79s/it]"
     ]
    },
    {
     "name": "stdout",
     "output_type": "stream",
     "text": [
      "\n",
      "Epoch 151/300\n",
      "Train Loss: 0.1317 | Val Loss: 0.1321\n",
      "Train Acc: 0.9699 | Val Acc: 0.9715\n"
     ]
    },
    {
     "name": "stderr",
     "output_type": "stream",
     "text": [
      "Training Progress:  54%|█████▎    | 161/300 [28:58<25:04, 10.83s/it]"
     ]
    },
    {
     "name": "stdout",
     "output_type": "stream",
     "text": [
      "\n",
      "Epoch 161/300\n",
      "Train Loss: 0.1306 | Val Loss: 0.1298\n",
      "Train Acc: 0.9703 | Val Acc: 0.9700\n"
     ]
    },
    {
     "name": "stderr",
     "output_type": "stream",
     "text": [
      "Training Progress:  57%|█████▋    | 171/300 [30:46<23:11, 10.79s/it]"
     ]
    },
    {
     "name": "stdout",
     "output_type": "stream",
     "text": [
      "\n",
      "Epoch 171/300\n",
      "Train Loss: 0.1167 | Val Loss: 0.1114\n",
      "Train Acc: 0.9735 | Val Acc: 0.9743\n"
     ]
    },
    {
     "name": "stderr",
     "output_type": "stream",
     "text": [
      "Training Progress:  60%|██████    | 181/300 [32:34<21:24, 10.80s/it]"
     ]
    },
    {
     "name": "stdout",
     "output_type": "stream",
     "text": [
      "\n",
      "Epoch 181/300\n",
      "Train Loss: 0.1124 | Val Loss: 0.1168\n",
      "Train Acc: 0.9746 | Val Acc: 0.9728\n"
     ]
    },
    {
     "name": "stderr",
     "output_type": "stream",
     "text": [
      "Training Progress:  64%|██████▎   | 191/300 [34:22<19:34, 10.78s/it]"
     ]
    },
    {
     "name": "stdout",
     "output_type": "stream",
     "text": [
      "\n",
      "Epoch 191/300\n",
      "Train Loss: 0.1065 | Val Loss: 0.1041\n",
      "Train Acc: 0.9764 | Val Acc: 0.9757\n"
     ]
    },
    {
     "name": "stderr",
     "output_type": "stream",
     "text": [
      "Training Progress:  67%|██████▋   | 201/300 [36:10<17:48, 10.79s/it]"
     ]
    },
    {
     "name": "stdout",
     "output_type": "stream",
     "text": [
      "\n",
      "Epoch 201/300\n",
      "Train Loss: 0.1031 | Val Loss: 0.1045\n",
      "Train Acc: 0.9769 | Val Acc: 0.9801\n"
     ]
    },
    {
     "name": "stderr",
     "output_type": "stream",
     "text": [
      "Training Progress:  70%|███████   | 211/300 [37:58<16:00, 10.80s/it]"
     ]
    },
    {
     "name": "stdout",
     "output_type": "stream",
     "text": [
      "\n",
      "Epoch 211/300\n",
      "Train Loss: 0.0955 | Val Loss: 0.0931\n",
      "Train Acc: 0.9787 | Val Acc: 0.9802\n"
     ]
    },
    {
     "name": "stderr",
     "output_type": "stream",
     "text": [
      "Training Progress:  74%|███████▎  | 221/300 [39:46<14:15, 10.83s/it]"
     ]
    },
    {
     "name": "stdout",
     "output_type": "stream",
     "text": [
      "\n",
      "Epoch 221/300\n",
      "Train Loss: 0.0920 | Val Loss: 0.0967\n",
      "Train Acc: 0.9795 | Val Acc: 0.9797\n"
     ]
    },
    {
     "name": "stderr",
     "output_type": "stream",
     "text": [
      "Training Progress:  77%|███████▋  | 231/300 [41:34<12:25, 10.81s/it]"
     ]
    },
    {
     "name": "stdout",
     "output_type": "stream",
     "text": [
      "\n",
      "Epoch 231/300\n",
      "Train Loss: 0.0884 | Val Loss: 0.0897\n",
      "Train Acc: 0.9804 | Val Acc: 0.9826\n"
     ]
    },
    {
     "name": "stderr",
     "output_type": "stream",
     "text": [
      "Training Progress:  80%|████████  | 241/300 [43:22<10:38, 10.81s/it]"
     ]
    },
    {
     "name": "stdout",
     "output_type": "stream",
     "text": [
      "\n",
      "Epoch 241/300\n",
      "Train Loss: 0.0863 | Val Loss: 0.0872\n",
      "Train Acc: 0.9811 | Val Acc: 0.9835\n"
     ]
    },
    {
     "name": "stderr",
     "output_type": "stream",
     "text": [
      "Training Progress:  84%|████████▎ | 251/300 [45:10<08:48, 10.78s/it]"
     ]
    },
    {
     "name": "stdout",
     "output_type": "stream",
     "text": [
      "\n",
      "Epoch 251/300\n",
      "Train Loss: 0.0834 | Val Loss: 0.0740\n",
      "Train Acc: 0.9820 | Val Acc: 0.9830\n"
     ]
    },
    {
     "name": "stderr",
     "output_type": "stream",
     "text": [
      "Training Progress:  87%|████████▋ | 261/300 [46:58<07:01, 10.80s/it]"
     ]
    },
    {
     "name": "stdout",
     "output_type": "stream",
     "text": [
      "\n",
      "Epoch 261/300\n",
      "Train Loss: 0.0826 | Val Loss: 0.0805\n",
      "Train Acc: 0.9824 | Val Acc: 0.9835\n"
     ]
    },
    {
     "name": "stderr",
     "output_type": "stream",
     "text": [
      "Training Progress:  90%|█████████ | 271/300 [48:46<05:13, 10.80s/it]"
     ]
    },
    {
     "name": "stdout",
     "output_type": "stream",
     "text": [
      "\n",
      "Epoch 271/300\n",
      "Train Loss: 0.0794 | Val Loss: 0.0768\n",
      "Train Acc: 0.9830 | Val Acc: 0.9843\n"
     ]
    },
    {
     "name": "stderr",
     "output_type": "stream",
     "text": [
      "Training Progress:  94%|█████████▎| 281/300 [50:34<03:24, 10.78s/it]"
     ]
    },
    {
     "name": "stdout",
     "output_type": "stream",
     "text": [
      "\n",
      "Epoch 281/300\n",
      "Train Loss: 0.0774 | Val Loss: 0.0776\n",
      "Train Acc: 0.9835 | Val Acc: 0.9847\n"
     ]
    },
    {
     "name": "stderr",
     "output_type": "stream",
     "text": [
      "Training Progress:  97%|█████████▋| 291/300 [52:22<01:37, 10.81s/it]"
     ]
    },
    {
     "name": "stdout",
     "output_type": "stream",
     "text": [
      "\n",
      "Epoch 291/300\n",
      "Train Loss: 0.0751 | Val Loss: 0.0741\n",
      "Train Acc: 0.9841 | Val Acc: 0.9838\n"
     ]
    },
    {
     "name": "stderr",
     "output_type": "stream",
     "text": [
      "Training Progress: 100%|██████████| 300/300 [54:00<00:00, 10.80s/it]\n"
     ]
    },
    {
     "data": {
      "application/vnd.jupyter.widget-view+json": {
       "model_id": "80d61a671feb448b8d9dea1d2dec2a5c",
       "version_major": 2,
       "version_minor": 0
      },
      "text/plain": [
       "VBox(children=(Label(value='0.004 MB of 0.004 MB uploaded\\r'), FloatProgress(value=1.0, max=1.0)))"
      ]
     },
     "metadata": {},
     "output_type": "display_data"
    },
    {
     "data": {
      "text/html": [
       "<style>\n",
       "    table.wandb td:nth-child(1) { padding: 0 10px; text-align: left ; width: auto;} td:nth-child(2) {text-align: left ; width: 100%}\n",
       "    .wandb-row { display: flex; flex-direction: row; flex-wrap: wrap; justify-content: flex-start; width: 100% }\n",
       "    .wandb-col { display: flex; flex-direction: column; flex-basis: 100%; flex: 1; padding: 10px; }\n",
       "    </style>\n",
       "<div class=\"wandb-row\"><div class=\"wandb-col\"><h3>Run history:</h3><br/><table class=\"wandb\"><tr><td>epoch</td><td>▁▁▁▁▂▂▂▂▂▃▃▃▃▃▃▄▄▄▄▄▅▅▅▅▅▅▆▆▆▆▆▆▇▇▇▇▇███</td></tr><tr><td>learning_rate</td><td>█████████████▇▇▇▆▅▅▄▄▄▃▃▃▃▃▃▂▂▂▂▂▂▂▁▁▁▁▁</td></tr><tr><td>train_accuracy</td><td>▁▄▅▆▆▆▆▇▇▇▇▇▇███████████████████████████</td></tr><tr><td>train_loss</td><td>█▅▄▃▃▃▃▂▂▂▂▂▂▂▂▂▂▁▁▁▁▁▁▁▁▁▁▁▁▁▁▁▁▁▁▁▁▁▁▁</td></tr><tr><td>val_accuracy</td><td>▁▄▅▆▆▆▆▇▇▇▇▇█▇██████████████████████████</td></tr><tr><td>val_loss</td><td>█▅▄▄▃▃▃▂▂▂▂▂▂▂▂▂▂▁▁▁▁▁▁▁▁▁▁▁▁▁▁▁▁▁▁▁▁▁▁▁</td></tr></table><br/></div><div class=\"wandb-col\"><h3>Run summary:</h3><br/><table class=\"wandb\"><tr><td>epoch</td><td>300</td></tr><tr><td>learning_rate</td><td>0.00015</td></tr><tr><td>train_accuracy</td><td>0.98514</td></tr><tr><td>train_loss</td><td>0.0699</td></tr><tr><td>val_accuracy</td><td>0.98444</td></tr><tr><td>val_loss</td><td>0.07179</td></tr></table><br/></div></div>"
      ],
      "text/plain": [
       "<IPython.core.display.HTML object>"
      ]
     },
     "metadata": {},
     "output_type": "display_data"
    },
    {
     "data": {
      "text/html": [
       " View run <strong style=\"color:#cdcd00\">doppler_RD_run</strong> at: <a href='https://wandb.ai/ari-granevich/radar_detection/runs/xmy4lslb' target=\"_blank\">https://wandb.ai/ari-granevich/radar_detection/runs/xmy4lslb</a><br/> View project at: <a href='https://wandb.ai/ari-granevich/radar_detection' target=\"_blank\">https://wandb.ai/ari-granevich/radar_detection</a><br/>Synced 5 W&B file(s), 0 media file(s), 0 artifact file(s) and 0 other file(s)"
      ],
      "text/plain": [
       "<IPython.core.display.HTML object>"
      ]
     },
     "metadata": {},
     "output_type": "display_data"
    },
    {
     "data": {
      "text/html": [
       "Find logs at: <code>./wandb/run-20250211_030404-xmy4lslb/logs</code>"
      ],
      "text/plain": [
       "<IPython.core.display.HTML object>"
      ]
     },
     "metadata": {},
     "output_type": "display_data"
    }
   ],
   "source": [
    "# Train IQ range detector\n",
    "print(\"\\nTraining IQ Range Detector:\")\n",
    "map_type = \"IQ\"\n",
    "detection_type = \"range\"\n",
    "ratio = calculate_ratio(train_loader, detection_type)\n",
    "criterion = CBBCE(ratio)\n",
    "range_model = DACKRadarNet(detection_type, map_type)\n",
    "range_history = train_model(range_model, criterion, train_loader, val_loader, detection_type, map_type)\n",
    "plot_training_history(range_history, \"Range\", map_type)\n",
    "# Train RD range detector\n",
    "print(\"\\nTraining RD Range Detector:\")\n",
    "map_type = \"RD\"\n",
    "range_model = DACKRadarNet(detection_type, map_type)\n",
    "range_history = train_model(range_model, criterion, train_loader, val_loader, detection_type, map_type)\n",
    "plot_training_history(range_history, \"Range\", map_type)\n",
    "\n",
    "# Train IQ Doppler detector\n",
    "map_type = \"IQ\"\n",
    "detection_type = \"doppler\"\n",
    "ratio = calculate_ratio(train_loader, detection_type)\n",
    "criterion = CBBCE(ratio)\n",
    "print(\"\\nTraining IQ Doppler Detector:\")\n",
    "doppler_model = DACKRadarNet(detection_type)\n",
    "doppler_history = train_model(doppler_model, criterion, train_loader, val_loader, detection_type, map_type)\n",
    "plot_training_history(doppler_history, \"Doppler\", map_type)\n",
    "\n",
    "# Train RD Doppler detector\n",
    "print(\"\\nTraining RD Doppler Detector:\")\n",
    "map_type = \"RD\"\n",
    "doppler_model = DACKRadarNet(detection_type, map_type)\n",
    "doppler_history = train_model(doppler_model, criterion, train_loader, val_loader, detection_type, map_type)\n",
    "plot_training_history(doppler_history, \"Doppler\", map_type)"
   ]
  },
  {
   "cell_type": "markdown",
   "metadata": {},
   "source": [
    "### Test"
   ]
  },
  {
   "cell_type": "code",
   "execution_count": 40,
   "metadata": {},
   "outputs": [],
   "source": [
    "def plot_pd_pfa(results: dict, save_path: str = 'pd_pfa.png'):\n",
    "    \"\"\"Plot PD vs PFA (ROC curves) for different ν values.\n",
    "\n",
    "    Parameters\n",
    "    ----------\n",
    "    results : dict\n",
    "        A dictionary with keys as ν values and values as (pd, pfa) tuples.\n",
    "    save_path : str\n",
    "        File path to save the figure.\n",
    "    \"\"\"\n",
    "    plt.figure(figsize=(12, 6))\n",
    "    plt.title('ROC Curves for Different Clutter Conditions', fontsize=16, fontweight='bold')\n",
    "\n",
    "    for nu, (pd, pfa) in results.items():\n",
    "        plt.plot(pfa, pd, label=f'ν = {nu}', linewidth=2, marker='o')\n",
    "\n",
    "    plt.xlabel('Probability of False Alarm (log scale)', fontsize=12)\n",
    "    plt.ylabel('Probability of Detection', fontsize=12)\n",
    "    plt.grid(True, linestyle='--', alpha=0.7)\n",
    "    plt.xscale('log')\n",
    "    plt.legend(title='Parameter ν', fontsize=10)\n",
    "    plt.tight_layout()\n",
    "    plt.savefig(save_path, dpi=300)\n",
    "    plt.close()\n",
    "\n",
    "def load_trained_models():\n",
    "    \"\"\"Load trained range and Doppler models\"\"\"\n",
    "    range_model = DAFCRadarNet(detection_type=\"range\", map_type=\"IQ\")\n",
    "    doppler_model = DAFCRadarNet(detection_type=\"doppler\", map_type=\"IQ\")\n",
    "\n",
    "    try:\n",
    "        range_model.load_state_dict(torch.load('/home/hawk/Desktop/BGU/successful_attempts/target_detection/models/range_64_DAFC_IQ_model.pt', weights_only=True))\n",
    "        print(\"Loaded range model successfully\")\n",
    "    except FileNotFoundError:\n",
    "        print(\"Range model not found. Please train the model first.\")\n",
    "        return None, None\n",
    "\n",
    "    try:\n",
    "        doppler_model.load_state_dict(torch.load('/home/hawk/Desktop/BGU/successful_attempts/target_detection/models/doppler_64_DAFC_IQ_model.pt', weights_only=True))\n",
    "        print(\"Loaded doppler model successfully\")\n",
    "    except FileNotFoundError:\n",
    "        print(\"Doppler model not found. Please train the model first.\")\n",
    "        return None, None\n",
    "\n",
    "    range_model.eval()\n",
    "    doppler_model.eval()\n",
    "\n",
    "    return range_model, doppler_model\n",
    "\n",
    "def plot_pd_scnr(results: dict, save_path: str = 'pd_scnr.png'):\n",
    "    \"\"\"Plot PD vs SCNR curves for different ν values.\n",
    "\n",
    "    Parameters\n",
    "    ----------\n",
    "    results : dict\n",
    "        A dictionary with keys as ν values and values as (pd, pfa, scnr) \n",
    "        tuples, where pd and pfa are probabilities and scnr is a list \n",
    "        of SCNR values.\n",
    "    save_path : str\n",
    "        File path to save the figure.\n",
    "    \"\"\"\n",
    "    plt.figure(figsize=(12, 6))\n",
    "    plt.title('Detection Performance vs SCNR', fontsize=16, fontweight='bold')\n",
    "\n",
    "    for nu, (pd, pfa, scnr) in results.items():\n",
    "        plt.plot(scnr, pd, label=f'ν = {nu}', linewidth=2, marker='o')\n",
    "\n",
    "    plt.xlabel('SCNR (dB)', fontsize=12)\n",
    "    plt.ylabel('Probability of Detection', fontsize=12)\n",
    "    plt.grid(True, linestyle='--', alpha=0.7)\n",
    "    plt.legend(title='Parameter ν', fontsize=10)\n",
    "    plt.tight_layout()\n",
    "    plt.savefig(save_path, dpi=300)\n",
    "    plt.close()\n",
    "\n",
    "\n",
    "def generate_range_steering_matrix(N=64, dR=64, B=50e6, c=3e8):\n",
    "    rng_res = c / (2 * B)\n",
    "    r_vals = torch.arange(dR) * rng_res\n",
    "    n_vals = torch.arange(N)\n",
    "\n",
    "    phase = -1j * 2 * torch.pi * (2 * B) / (c * N)\n",
    "    R = torch.exp(phase * torch.outer(n_vals, r_vals))\n",
    "    #print(R.shape)\n",
    "\n",
    "    return R\n",
    "\n",
    "\n",
    "def generate_doppler_steering_matrix(K=64, dV=64, fc=9.39e9, T0=1e-3, c=3e8):\n",
    "    vel_res = c / (2 * fc * K * T0)\n",
    "    v_vals = torch.linspace(-dV // 2, dV // 2, dV) * vel_res\n",
    "    k_vals = torch.arange(K)\n",
    "\n",
    "    phase = -1j * 2 * torch.pi * (2 * fc * T0) / c\n",
    "    V = torch.exp(phase * torch.outer(k_vals, v_vals))\n",
    "    #print(V.shape)\n",
    "    return V"
   ]
  },
  {
   "cell_type": "code",
   "execution_count": 41,
   "metadata": {},
   "outputs": [],
   "source": [
    "class CombinedRadarTester:\n",
    "    def __init__(self, range_model: nn.Module, doppler_model: nn.Module, device: torch.device):\n",
    "        \"\"\"Initialize combined radar tester\"\"\"\n",
    "        self.range_model = range_model.to(device)\n",
    "        self.doppler_model = doppler_model.to(device)\n",
    "        self.device = device\n",
    "        self.R = generate_range_steering_matrix().to(device)\n",
    "        self.V = generate_doppler_steering_matrix().to(device)\n",
    "\n",
    "    def feed_forward(self, loader: DataLoader) -> tuple:\n",
    "        \"\"\"Run models once and get all predictions\"\"\"\n",
    "        self.range_model.eval()\n",
    "        self.doppler_model.eval()\n",
    "\n",
    "        all_Y_r = []\n",
    "        all_Y_v = []\n",
    "        all_X_rv_proj = []\n",
    "        all_Y_true = []\n",
    "\n",
    "        with torch.no_grad():\n",
    "            for _, _, X, _, RD, Y in loader:\n",
    "                X = X.to(self.device)\n",
    "\n",
    "                # Get range and Doppler predictions\n",
    "                Y_r = self.range_model(X)\n",
    "                Y_v = self.doppler_model(X)\n",
    "\n",
    "                # Get range-Doppler projection\n",
    "                # if needed\n",
    "                X = X.to(torch.complex64)  # Convert X to a complex type if not already\n",
    "                #print(X.shape)\n",
    "                Z = torch.abs(self.R.H @ X @ self.V.conj())\n",
    "\n",
    "                all_Y_r.append(Y_r)\n",
    "                all_Y_v.append(Y_v)\n",
    "                all_X_rv_proj.append(Z)\n",
    "                all_Y_true.append(Y.to(self.device))\n",
    "\n",
    "        # Concatenate all batches\n",
    "        Y_r = torch.cat(all_Y_r, dim=0)\n",
    "        Y_v = torch.cat(all_Y_v, dim=0)\n",
    "        X_rv_proj = torch.cat(all_X_rv_proj, dim=0)\n",
    "        Y_true = torch.cat(all_Y_true, dim=0)\n",
    "\n",
    "        return Y_r, Y_v, X_rv_proj, Y_true\n",
    "\n",
    "    @staticmethod\n",
    "    def predict(Y_r: torch.Tensor, Y_v: torch.Tensor, X_rv_proj: torch.Tensor, threshold: float) -> torch.Tensor:\n",
    "        \"\"\"Apply threshold to predictions to get detections\"\"\"\n",
    "        # Thresholding\n",
    "        Y_r_binary = (Y_r > threshold).float()\n",
    "        Y_v_binary = (Y_v > threshold).float()\n",
    "\n",
    "        # Combine range and Doppler detections\n",
    "        Y_rv = Y_r.unsqueeze(-1) @ Y_v.unsqueeze(-2)\n",
    "        Y_rv_binary = Y_r_binary.unsqueeze(-1) @ Y_v_binary.unsqueeze(-2)\n",
    "\n",
    "        # Final decision matrix\n",
    "        ###X_rv_proj = abs(X_rv_proj.to(device))\n",
    "        ###Y_rv       = Y_rv.to(device)\n",
    "        ###Y_rv_binary= Y_rv_binary.to(device)\n",
    "\n",
    "        #print(X_rv_proj.shape, Y_rv.shape, Y_rv_binary.shape)\n",
    "        ###U = X_rv_proj[:, :, :63] * Y_rv * Y_rv_binary\n",
    "        U = X_rv_proj * Y_rv * Y_rv_binary\n",
    "        Y_hat = (U / U.max() > threshold).float()\n",
    "\n",
    "        return Y_hat\n",
    "\n",
    "    def get_metrics(self, Y_hat: torch.Tensor, Y_true: torch.Tensor) -> dict:\n",
    "        \"\"\"Evaluate detection performance for full dataset at once\"\"\"\n",
    "        # Create the neighborhood kernel for 2D convolution\n",
    "        kernel = torch.ones(1, 1, 3, 3, device=self.device)\n",
    "\n",
    "        # Extend Y_hat and Y_true for convolution\n",
    "        Y_hat_expanded = Y_hat.unsqueeze(1).float()  # [B, 1, H, W]\n",
    "        Y_true_expanded = Y_true.unsqueeze(1).float()  # [B, 1, H, W]\n",
    "\n",
    "        # Get extended matrices through convolution\n",
    "        Y_true_extended = F.conv2d(Y_true_expanded, kernel, padding=1).squeeze(1)\n",
    "        Y_true_extended = (Y_true_extended > 0)\n",
    "\n",
    "        # Calculate PFA: Exclude target neighborhoods\n",
    "        valid_cells = (~Y_true_extended).float()  # Cells not in target neighborhoods\n",
    "        false_alarms = (Y_hat * valid_cells).sum()\n",
    "        total_valid_cells = valid_cells.sum()\n",
    "        Pfa = false_alarms.item() / total_valid_cells.item()\n",
    "\n",
    "        # For PD: count targets and successful detections\n",
    "        n_targets = Y_true.sum(dim=(1, 2))  # [B]\n",
    "\n",
    "        # Get hits using extended Y_hat\n",
    "        Y_hat_extended = F.conv2d(Y_hat_expanded, kernel, padding=1).squeeze(1)\n",
    "        Y_hat_extended = (Y_hat_extended > 0).float()\n",
    "\n",
    "        detected = (Y_hat_extended * Y_true).sum(dim=(1, 2))  # [B]\n",
    "\n",
    "        # Calculate PD (if no targets, count as PD=1)\n",
    "        Pd = torch.where(n_targets > 0, detected / n_targets, torch.ones_like(n_targets, dtype=torch.float32))\n",
    "        Pd = Pd.mean().item()\n",
    "\n",
    "        return {\"Pd\": Pd, \"Pfa\": Pfa}\n",
    "\n",
    "    def find_threshold(self, loader: DataLoader, target_pfa: float) -> float:\n",
    "        \"\"\"Find threshold for target PFA using binary search\"\"\"\n",
    "        # Get all predictions once\n",
    "        Y_r, Y_v, X_rv_proj, Y_true = self.feed_forward(loader)\n",
    "\n",
    "        th = 0.5  # Start at 0.5\n",
    "        step = 0.5\n",
    "        cnt = 1\n",
    "        pfa_res = 1.0\n",
    "        rel_err = abs(pfa_res - target_pfa) / abs(target_pfa)\n",
    "\n",
    "        while rel_err >= 0.01 and cnt < 20:\n",
    "            Y_hat = self.predict(Y_r, Y_v, X_rv_proj, th)\n",
    "            metrics = self.get_metrics(Y_hat, Y_true)\n",
    "\n",
    "            pfa_res = metrics[\"Pfa\"]\n",
    "            rel_err = abs(pfa_res - target_pfa) / abs(target_pfa)\n",
    "\n",
    "            step = step * 0.5\n",
    "            if pfa_res > target_pfa:\n",
    "                th += step\n",
    "            else:\n",
    "                th -= step\n",
    "\n",
    "            cnt += 1\n",
    "\n",
    "        print(f\"Found threshold = {th:.4f}, PFA = {pfa_res:.6f} after {cnt} iterations\")\n",
    "        return th\n",
    "\n",
    "    def evaluate_pd_pfa(self, nu: float, scnr: float = 0) -> tuple:\n",
    "        test_dataset_with_targets = RadarDataset(4096, n_targets=4, random_n_targets=False, nu=nu, scnr=scnr)\n",
    "        test_dataset_no_targets = RadarDataset(2048, n_targets=0, random_n_targets=False, nu=nu, scnr=scnr)\n",
    "        test_dataset = ConcatDataset([test_dataset_with_targets, test_dataset_no_targets])\n",
    "        test_loader = DataLoader(test_dataset, batch_size=256, shuffle=True, num_workers=2,\n",
    "                              pin_memory=torch.cuda.is_available(), persistent_workers=True)\n",
    "        \n",
    "        Y_r, Y_v, X_rv_proj, Y_true = self.feed_forward(test_loader)\n",
    "        \n",
    "        # Store results for different target PFAs\n",
    "        results = []\n",
    "        target_pFAs = [1e-5, 5e-5, 1e-4, 5e-4, 1e-3]\n",
    "\n",
    "        for target_pfa in tqdm(target_pFAs, desc=\"Testing PFAs\"):\n",
    "            # Use existing find_threshold method\n",
    "            th = self.find_threshold(test_loader, target_pfa)\n",
    "            Y_hat = self.predict(Y_r, Y_v, X_rv_proj, th)\n",
    "            metrics = self.get_metrics(Y_hat, Y_true)\n",
    "            results.append((metrics[\"Pd\"], metrics[\"Pfa\"]))\n",
    "        \n",
    "        pd_list, pfa_list = zip(*results)\n",
    "        return np.array(pd_list), np.array(pfa_list)\n",
    "        \n",
    "    def evaluate_pd_scnr(self, nu: float, target_pfa: float = 5e-4) -> tuple:\n",
    "        \"\"\"Evaluate PD vs SCNR for fixed PFA\"\"\"\n",
    "        # First find threshold using a reference dataset (SCNR = 0)\n",
    "        ref_dataset_with_targets = RadarDataset(4096, n_targets=4, random_n_targets=False, nu=nu, scnr=0)\n",
    "        ref_dataset_no_targets = RadarDataset(2048, n_targets=0, random_n_targets=False, nu=nu)\n",
    "        ref_dataset = ConcatDataset([ref_dataset_with_targets, ref_dataset_no_targets])\n",
    "        ref_loader = DataLoader(ref_dataset, batch_size=256, shuffle=True, num_workers=2,\n",
    "                              pin_memory=torch.cuda.is_available(), persistent_workers=True)\n",
    "\n",
    "        # Find threshold using binary search\n",
    "        th = self.find_threshold(ref_loader, target_pfa)\n",
    "\n",
    "        # Now evaluate for different SCNR values\n",
    "        results = []\n",
    "        scnr_range = np.arange(-30, 21, 5)\n",
    "\n",
    "        for scnr in tqdm(scnr_range, desc=\"Testing SCNR values\"):\n",
    "            # Create dataset for this SCNR\n",
    "            test_dataset_with_targets = RadarDataset(4096, n_targets=4, random_n_targets=False, nu=nu, scnr=scnr)\n",
    "            test_dataset_no_targets = RadarDataset(2048, n_targets=0, random_n_targets=False, nu=nu, scnr=scnr)\n",
    "            test_dataset = ConcatDataset([test_dataset_with_targets, test_dataset_no_targets])\n",
    "            test_loader = DataLoader(test_dataset, batch_size=256, shuffle=True, num_workers=2,\n",
    "                              pin_memory=torch.cuda.is_available(), persistent_workers=True)\n",
    "\n",
    "            # Get predictions\n",
    "            Y_r, Y_v, X_rv_proj, Y_true = self.feed_forward(test_loader)\n",
    "\n",
    "            # Evaluate using found threshold\n",
    "            Y_hat = self.predict(Y_r, Y_v, X_rv_proj, th)\n",
    "            metrics = self.get_metrics(Y_hat, Y_true)\n",
    "\n",
    "            results.append((metrics[\"Pd\"], metrics[\"Pfa\"]))\n",
    "\n",
    "        pd_list, pfa_list = zip(*results)\n",
    "        return np.array(pd_list), np.array(pfa_list), scnr_range\n",
    "\n"
   ]
  },
  {
   "cell_type": "code",
   "execution_count": 42,
   "metadata": {},
   "outputs": [
    {
     "name": "stdout",
     "output_type": "stream",
     "text": [
      "using device:  cuda\n",
      "Loaded range model successfully\n",
      "Loaded doppler model successfully\n",
      "Running PD vs PFA test...\n"
     ]
    },
    {
     "name": "stderr",
     "output_type": "stream",
     "text": [
      "Testing clutter conditions:   0%|          | 0/3 [00:00<?, ?it/s]"
     ]
    },
    {
     "name": "stdout",
     "output_type": "stream",
     "text": [
      "Found threshold = 0.1521, PFA = 0.000010 after 12 iterations\n"
     ]
    },
    {
     "name": "stderr",
     "output_type": "stream",
     "text": []
    },
    {
     "name": "stdout",
     "output_type": "stream",
     "text": [
      "Found threshold = 0.1093, PFA = 0.000050 after 13 iterations\n"
     ]
    },
    {
     "name": "stderr",
     "output_type": "stream",
     "text": []
    },
    {
     "name": "stdout",
     "output_type": "stream",
     "text": [
      "Found threshold = 0.0933, PFA = 0.000101 after 11 iterations\n"
     ]
    },
    {
     "name": "stderr",
     "output_type": "stream",
     "text": []
    },
    {
     "name": "stdout",
     "output_type": "stream",
     "text": [
      "Found threshold = 0.0559, PFA = 0.000497 after 12 iterations\n"
     ]
    },
    {
     "name": "stderr",
     "output_type": "stream",
     "text": [
      "Testing PFAs: 100%|██████████| 5/5 [00:14<00:00,  2.87s/it]\n",
      "Testing clutter conditions:  33%|███▎      | 1/3 [00:17<00:34, 17.27s/it]"
     ]
    },
    {
     "name": "stdout",
     "output_type": "stream",
     "text": [
      "Found threshold = 0.0361, PFA = 0.000993 after 10 iterations\n"
     ]
    },
    {
     "name": "stderr",
     "output_type": "stream",
     "text": []
    },
    {
     "name": "stdout",
     "output_type": "stream",
     "text": [
      "Found threshold = 0.1132, PFA = 0.000010 after 13 iterations\n"
     ]
    },
    {
     "name": "stderr",
     "output_type": "stream",
     "text": []
    },
    {
     "name": "stdout",
     "output_type": "stream",
     "text": [
      "Found threshold = 0.1199, PFA = 0.000050 after 12 iterations\n"
     ]
    },
    {
     "name": "stderr",
     "output_type": "stream",
     "text": []
    },
    {
     "name": "stdout",
     "output_type": "stream",
     "text": [
      "Found threshold = 0.0793, PFA = 0.000099 after 12 iterations\n"
     ]
    },
    {
     "name": "stderr",
     "output_type": "stream",
     "text": []
    },
    {
     "name": "stdout",
     "output_type": "stream",
     "text": [
      "Found threshold = 0.0476, PFA = 0.000504 after 12 iterations\n"
     ]
    },
    {
     "name": "stderr",
     "output_type": "stream",
     "text": [
      "Testing PFAs: 100%|██████████| 5/5 [00:14<00:00,  2.84s/it]\n",
      "Testing clutter conditions:  67%|██████▋   | 2/3 [00:34<00:17, 17.14s/it]"
     ]
    },
    {
     "name": "stdout",
     "output_type": "stream",
     "text": [
      "Found threshold = 0.0330, PFA = 0.001006 after 12 iterations\n"
     ]
    },
    {
     "name": "stderr",
     "output_type": "stream",
     "text": []
    },
    {
     "name": "stdout",
     "output_type": "stream",
     "text": [
      "Found threshold = 0.1285, PFA = 0.000010 after 13 iterations\n"
     ]
    },
    {
     "name": "stderr",
     "output_type": "stream",
     "text": []
    },
    {
     "name": "stdout",
     "output_type": "stream",
     "text": [
      "Found threshold = 0.0811, PFA = 0.000050 after 10 iterations\n"
     ]
    },
    {
     "name": "stderr",
     "output_type": "stream",
     "text": []
    },
    {
     "name": "stdout",
     "output_type": "stream",
     "text": [
      "Found threshold = 0.0680, PFA = 0.000099 after 13 iterations\n"
     ]
    },
    {
     "name": "stderr",
     "output_type": "stream",
     "text": []
    },
    {
     "name": "stdout",
     "output_type": "stream",
     "text": [
      "Found threshold = 0.0347, PFA = 0.000502 after 11 iterations\n"
     ]
    },
    {
     "name": "stderr",
     "output_type": "stream",
     "text": [
      "Testing PFAs: 100%|██████████| 5/5 [00:14<00:00,  2.84s/it]\n",
      "Testing clutter conditions: 100%|██████████| 3/3 [00:51<00:00, 17.11s/it]"
     ]
    },
    {
     "name": "stdout",
     "output_type": "stream",
     "text": [
      "Found threshold = 0.0269, PFA = 0.001002 after 11 iterations\n"
     ]
    },
    {
     "name": "stderr",
     "output_type": "stream",
     "text": [
      "\n"
     ]
    },
    {
     "name": "stdout",
     "output_type": "stream",
     "text": [
      "\n",
      "Running PD vs SCNR test...\n"
     ]
    },
    {
     "name": "stderr",
     "output_type": "stream",
     "text": [
      "Testing clutter conditions:   0%|          | 0/3 [00:00<?, ?it/s]"
     ]
    },
    {
     "name": "stdout",
     "output_type": "stream",
     "text": [
      "Found threshold = 0.0410, PFA = 0.000498 after 9 iterations\n"
     ]
    },
    {
     "name": "stderr",
     "output_type": "stream",
     "text": [
      "Testing SCNR values: 100%|██████████| 11/11 [00:31<00:00,  2.87s/it]\n",
      "Testing clutter conditions:  33%|███▎      | 1/3 [00:34<01:09, 34.53s/it]"
     ]
    },
    {
     "name": "stdout",
     "output_type": "stream",
     "text": [
      "Found threshold = 0.0410, PFA = 0.000499 after 9 iterations\n"
     ]
    },
    {
     "name": "stderr",
     "output_type": "stream",
     "text": [
      "Testing SCNR values: 100%|██████████| 11/11 [00:31<00:00,  2.89s/it]\n",
      "Testing clutter conditions:  67%|██████▋   | 2/3 [01:09<00:34, 34.65s/it]"
     ]
    },
    {
     "name": "stdout",
     "output_type": "stream",
     "text": [
      "Found threshold = 0.0376, PFA = 0.000499 after 11 iterations\n"
     ]
    },
    {
     "name": "stderr",
     "output_type": "stream",
     "text": [
      "Testing SCNR values: 100%|██████████| 11/11 [00:31<00:00,  2.87s/it]\n",
      "Testing clutter conditions: 100%|██████████| 3/3 [01:43<00:00, 34.59s/it]\n"
     ]
    }
   ],
   "source": [
    "device = torch.device(\"cuda\" if torch.cuda.is_available() else \"cpu\")\n",
    "print(\"using device: \", device)\n",
    "range_model, doppler_model = load_trained_models()\n",
    "tester = CombinedRadarTester(range_model, doppler_model, device)\n",
    "\n",
    "# Test parameters\n",
    "nu_values = [0.2, 0.5, 1.0]\n",
    "\n",
    "# PD vs PFA test (SCNR = 0dB)\n",
    "pd_pfa_results = {}\n",
    "print(\"Running PD vs PFA test...\")\n",
    "for nu in tqdm(nu_values, desc=\"Testing clutter conditions\"):\n",
    "    pd, pfa = tester.evaluate_pd_pfa(nu, scnr=0)\n",
    "    pd_pfa_results[nu] = (pd, pfa)\n",
    "plot_pd_pfa(pd_pfa_results)\n",
    "\n",
    "# PD vs SCNR test (PFA = 5e-4)\n",
    "pd_scnr_results = {}\n",
    "print(\"\\nRunning PD vs SCNR test...\")\n",
    "for nu in tqdm(nu_values, desc=\"Testing clutter conditions\"):\n",
    "    pd, pfa, scnr = tester.evaluate_pd_scnr(nu)\n",
    "    pd_scnr_results[nu] = (pd, pfa, scnr)\n",
    "plot_pd_scnr(pd_scnr_results)"
   ]
  }
 ],
 "metadata": {
  "kernelspec": {
   "display_name": "Python 3",
   "language": "python",
   "name": "python3"
  },
  "language_info": {
   "codemirror_mode": {
    "name": "ipython",
    "version": 3
   },
   "file_extension": ".py",
   "mimetype": "text/x-python",
   "name": "python",
   "nbconvert_exporter": "python",
   "pygments_lexer": "ipython3",
   "version": "3.10.12"
  }
 },
 "nbformat": 4,
 "nbformat_minor": 2
}
